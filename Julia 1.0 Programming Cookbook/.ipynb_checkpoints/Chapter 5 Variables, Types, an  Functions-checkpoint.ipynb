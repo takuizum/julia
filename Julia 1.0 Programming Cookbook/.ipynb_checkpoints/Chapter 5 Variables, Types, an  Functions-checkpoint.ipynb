{
 "cells": [
  {
   "cell_type": "markdown",
   "metadata": {},
   "source": [
    "# Variables, Types, and Functions\n",
    "\n",
    "- Juliaにおけるsubtypeを理解する。\n",
    "- branchingを扱うための多重ディスパッチの使い方。\n",
    "- 変数としての関数の使い方。\n",
    "- Juliaにおける関数型プログラミング。\n",
    "- 変数のスコープ。\n",
    "- 例外処理の扱い方。\n",
    "- Named　Tuples　の働き。\n",
    "\n",
    "----\n",
    "## Understanding subtyping in Julia\n",
    "\n"
   ]
  }
 ],
 "metadata": {
  "kernelspec": {
   "display_name": "Julia 1.2.0",
   "language": "julia",
   "name": "julia-1.2"
  },
  "language_info": {
   "file_extension": ".jl",
   "mimetype": "application/julia",
   "name": "julia",
   "version": "1.2.0"
  }
 },
 "nbformat": 4,
 "nbformat_minor": 2
}

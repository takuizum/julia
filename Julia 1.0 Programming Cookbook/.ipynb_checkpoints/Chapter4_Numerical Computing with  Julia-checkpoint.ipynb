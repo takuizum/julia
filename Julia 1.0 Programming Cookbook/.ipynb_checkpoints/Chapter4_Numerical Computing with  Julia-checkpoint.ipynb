{
 "cells": [
  {
   "cell_type": "markdown",
   "metadata": {},
   "source": [
    "# Chapter 4 **Numerical Computing with Julia**\n",
    "\n",
    "## Traversing matrices efficiency"
   ]
  },
  {
   "cell_type": "code",
   "execution_count": 1,
   "metadata": {},
   "outputs": [
    {
     "name": "stderr",
     "output_type": "stream",
     "text": [
      "┌ Info: Precompiling BenchmarkTools [6e4b80f9-dd63-53aa-95a3-0cdb28fa8baf]\n",
      "└ @ Base loading.jl:1242\n"
     ]
    }
   ],
   "source": [
    "using BenchmarkTools;"
   ]
  },
  {
   "cell_type": "code",
   "execution_count": 6,
   "metadata": {},
   "outputs": [
    {
     "name": "stdout",
     "output_type": "stream",
     "text": [
      "  0.721675 seconds (26.21 k allocations: 1.400 MiB)\n",
      "  0.106646 seconds (26.21 k allocations: 1.400 MiB)\n",
      "  0.040035 seconds (5 allocations: 176 bytes)\n"
     ]
    },
    {
     "data": {
      "text/plain": [
       "5.00006775138412e7"
      ]
     },
     "execution_count": 6,
     "metadata": {},
     "output_type": "execute_result"
    }
   ],
   "source": [
    "# Juliaの中ではcolumn優先でデータを保持するので，行ごとよりも列ごとに演算したほうが高速になる。\n",
    "function sum_by_col(x)\n",
    "    s = zero(eltype(x))\n",
    "    for j in 1:size(x, 2)\n",
    "        for i in 1:size(x, 1)\n",
    "            s += x[i, j]\n",
    "        end\n",
    "    end\n",
    "    s\n",
    "end\n",
    "\n",
    "function sum_by_row(x)\n",
    "    s = zero(eltype(x))\n",
    "    for i in 1:size(x, 1)\n",
    "        for j in 1:size(x, 2)\n",
    "            s += x[i, j]\n",
    "        end\n",
    "    end\n",
    "    s\n",
    "end\n",
    "\n",
    "# Benchmark\n",
    "x = rand(10^4, 10^4)\n",
    "@time sum_by_row(x) ;@time sum_by_col(x) ;@time sum(x) "
   ]
  },
  {
   "cell_type": "markdown",
   "metadata": {},
   "source": [
    "## Executing loops efficiency with conditional statements"
   ]
  },
  {
   "cell_type": "code",
   "execution_count": null,
   "metadata": {},
   "outputs": [],
   "source": [
    "# loopの効率のよい実行方法\n",
    "x = randn(10^6)"
   ]
  },
  {
   "cell_type": "markdown",
   "metadata": {},
   "source": [
    "**type1**  \n",
    "一行で書くことがdきるが，あまりパフォーマンスは良くない。"
   ]
  },
  {
   "cell_type": "code",
   "execution_count": 7,
   "metadata": {},
   "outputs": [
    {
     "name": "stdout",
     "output_type": "stream",
     "text": [
      "  0.132494 seconds (127.94 k allocations: 6.226 MiB)\n"
     ]
    },
    {
     "data": {
      "text/plain": [
       "5.000067751384889e7"
      ]
     },
     "execution_count": 7,
     "metadata": {},
     "output_type": "execute_result"
    }
   ],
   "source": [
    "@time sum(v for v in x if v > 0)"
   ]
  },
  {
   "cell_type": "markdown",
   "metadata": {},
   "source": [
    "**type2**  \n",
    "loop + 関数化  \n",
    "基本的に関数にしたほうが高速になる"
   ]
  },
  {
   "cell_type": "code",
   "execution_count": 8,
   "metadata": {},
   "outputs": [
    {
     "data": {
      "text/plain": [
       "5.000067751384889e7"
      ]
     },
     "execution_count": 8,
     "metadata": {},
     "output_type": "execute_result"
    }
   ],
   "source": [
    "function possum1(x)\n",
    "    s = zero(eltype(x)) # オブジェクトの型を自動的に判別してくれる。\n",
    "    for v in x\n",
    "        if(v > 0)\n",
    "            s += v\n",
    "        end\n",
    "    end\n",
    "    s\n",
    "end\n",
    "possum1(x)"
   ]
  },
  {
   "cell_type": "markdown",
   "metadata": {},
   "source": [
    "**type3**  \n",
    "loopの中のif(conditional statement)は効率が悪いので，ifelseで置き換える。`if`の中に入っている計算が軽いものであれば，コンパイル後のbranchingを避けたほうが高速に演算される(?)。"
   ]
  },
  {
   "cell_type": "code",
   "execution_count": 10,
   "metadata": {},
   "outputs": [
    {
     "data": {
      "text/plain": [
       "5.000067751384889e7"
      ]
     },
     "execution_count": 10,
     "metadata": {},
     "output_type": "execute_result"
    }
   ],
   "source": [
    "# type 3\n",
    "function possum2a(x)\n",
    "    s = zero(eltype(x)) # オブジェクトの型を自動的に判別してくれる。\n",
    "    for v in x\n",
    "        s += ifelse(v > 0, v, zero(s))\n",
    "    end\n",
    "    s\n",
    "end\n",
    "# precompile\n",
    "possum2a(x);"
   ]
  },
  {
   "cell_type": "markdown",
   "metadata": {},
   "source": [
    "**type4**  \n",
    "`@simd` macroを使うやり方。SIMDプロセッサは特定の条件下でloop処理を高速にしてくれる。ただしSIMDの高速化性能はハードにも依存するようだ。"
   ]
  },
  {
   "cell_type": "code",
   "execution_count": 14,
   "metadata": {},
   "outputs": [],
   "source": [
    "# type 4\n",
    "# add @simd macro\n",
    "function possum2b(x)\n",
    "    s = zero(eltype(x)) \n",
    "    @simd for v in x\n",
    "        s += ifelse(v > 0, v, zero(s)) \n",
    "    end\n",
    "    s\n",
    "end\n",
    "\n",
    "# poor implemention\n",
    "function possum2c(x)\n",
    "    s = zero(eltype(x)) \n",
    "    @simd for v in x\n",
    "        s += ifelse(v > 0, v, 0)　# Integerにも typeof(v)にも，どちらにもなりうる\n",
    "    end\n",
    "    s　# 最終的に返ってくる`s`の型判定が不安定なので，速度が遅い。\n",
    "end\n",
    "\n",
    "function possum2d(x::AbstractArray{T}) where T \n",
    "    # `where T` is shorthand for where T<:any. つまり何らかの型を指定するということ。\n",
    "    # この例では関数に与えたArrayから型を読み取っている。\n",
    "    s = zero(T) \n",
    "    @simd for v in x\n",
    "        s += ifelse(v > 0, v, zero(T))\n",
    "    end\n",
    "    s\n",
    "end\n",
    "# precompile\n",
    "possum2b(x)\n",
    "possum2c(x)\n",
    "possum2d(x);"
   ]
  },
  {
   "cell_type": "code",
   "execution_count": 15,
   "metadata": {},
   "outputs": [
    {
     "name": "stdout",
     "output_type": "stream",
     "text": [
      "  95.068 ms (1 allocation: 16 bytes)\n",
      "  32.828 ms (1 allocation: 16 bytes)\n",
      "  96.920 ms (1 allocation: 16 bytes)\n",
      "  32.539 ms (1 allocation: 16 bytes)\n"
     ]
    },
    {
     "data": {
      "text/plain": [
       "5.000067751384136e7"
      ]
     },
     "execution_count": 15,
     "metadata": {},
     "output_type": "execute_result"
    }
   ],
   "source": [
    "@btime possum2a(x)\n",
    "@btime possum2b(x)\n",
    "@btime possum2c(x)\n",
    "@btime possum2d(x);"
   ]
  },
  {
   "cell_type": "markdown",
   "metadata": {},
   "source": [
    "**type5**  \n",
    "三項演算子`a ? b : c`を使う場合。"
   ]
  },
  {
   "cell_type": "code",
   "execution_count": 20,
   "metadata": {},
   "outputs": [
    {
     "name": "stdout",
     "output_type": "stream",
     "text": [
      "  32.385 ms (1 allocation: 16 bytes)\n"
     ]
    }
   ],
   "source": [
    "function possum2e(x::AbstractArray{T}) where T \n",
    "    # `where T` is shorthand for where T<:any. つまり何らかの型を指定するということ。\n",
    "    # この例では関数に与えたArrayから型を読み取っている。\n",
    "    s = zero(T) \n",
    "    @simd for v in x\n",
    "        s += v > 0 ? v : zero(T)\n",
    "    end\n",
    "    s\n",
    "end\n",
    "possum2e(x);\n",
    "@btime possum2e(x);"
   ]
  },
  {
   "cell_type": "code",
   "execution_count": null,
   "metadata": {},
   "outputs": [],
   "source": []
  }
 ],
 "metadata": {
  "kernelspec": {
   "display_name": "Julia 1.2.0",
   "language": "julia",
   "name": "julia-1.2"
  },
  "language_info": {
   "file_extension": ".jl",
   "mimetype": "application/julia",
   "name": "julia",
   "version": "1.2.0"
  }
 },
 "nbformat": 4,
 "nbformat_minor": 2
}

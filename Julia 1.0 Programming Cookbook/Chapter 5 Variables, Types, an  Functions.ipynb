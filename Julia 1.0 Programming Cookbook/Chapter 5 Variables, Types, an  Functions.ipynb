{
 "cells": [
  {
   "cell_type": "markdown",
   "metadata": {},
   "source": [
    "# Variables, Types, and Functions\n",
    "\n",
    "- Juliaにおけるsubtypeを理解する。\n",
    "- branchingを扱うための多重ディスパッチの使い方。\n",
    "- 変数としての関数の使い方。\n",
    "- Juliaにおける関数型プログラミング。\n",
    "- 変数のスコープ。\n",
    "- 例外処理の扱い方。\n",
    "- Named　Tuples　の働き。\n",
    "\n",
    "----\n",
    "## Understanding subtyping in Julia\n",
    "\n",
    "\n",
    "----\n",
    "## Usin multiple dispatch to handle branching behavoir\n",
    "　多重ディスパッチを使えば，関数に与えられた引数の型に応じて，適切なメソッドが選択される。メソッドを定義する際は，引数に対して明示的に型を与える必要がある。"
   ]
  },
  {
   "cell_type": "code",
   "execution_count": null,
   "metadata": {},
   "outputs": [],
   "source": [
    "df = DataFrame(s = categorical([\"a\", \"b\", \"c\"]), \n",
    "               n = 1.0:3.0, \n",
    "               f = [sin, cos, missing])\n",
    "\n",
    "# Defime multiple dispatch function\n",
    "simpledescribe(v) = \"unknown type\"\n",
    "simpledescribe(v::Vector{<:Number}) = \"Numeric\"\n",
    "simpledescribe(v::CategoricalArray) = \"catagorical\"\n",
    "simpledisplay(df) = foreach(x -> println(x[1], \": \", simpledescribe(x[2])), eachcol(df, true))\n",
    "\n",
    "simpledisplay(df)"
   ]
  },
  {
   "cell_type": "markdown",
   "metadata": {},
   "source": [
    "次の例だと，fun1よりもfun2のほうが高速である。その理由はfun2ではコンパイルの間に，helper関数にデータの型が既知の状態で渡されるからである。"
   ]
  },
  {
   "cell_type": "code",
   "execution_count": 8,
   "metadata": {},
   "outputs": [
    {
     "data": {
      "text/plain": [
       "fun2 (generic function with 1 method)"
      ]
     },
     "execution_count": 8,
     "metadata": {},
     "output_type": "execute_result"
    }
   ],
   "source": [
    "using DataFrames, BenchmarkTools\n",
    "function helper(x)\n",
    "    s = zero(eltype(x))\n",
    "    for v in x\n",
    "        s += v\n",
    "    end\n",
    "    s\n",
    "end\n",
    "\n",
    "function fun1(df)\n",
    "        s = zero(eltype(df[!, 1]))\n",
    "    for v in df[!, 1]\n",
    "        s += v\n",
    "    end\n",
    "    s\n",
    "end\n",
    "\n",
    "fun2(df) = helper(df[!, 1])"
   ]
  },
  {
   "cell_type": "code",
   "execution_count": 9,
   "metadata": {},
   "outputs": [
    {
     "name": "stdout",
     "output_type": "stream",
     "text": [
      "  58.617 ms (3998948 allocations: 76.28 MiB)\n"
     ]
    }
   ],
   "source": [
    "df = DataFrame(x = 1:10^6)\n",
    "@btime fun1(df);"
   ]
  },
  {
   "cell_type": "code",
   "execution_count": 10,
   "metadata": {},
   "outputs": [
    {
     "name": "stdout",
     "output_type": "stream",
     "text": [
      "  123.053 μs (1 allocation: 16 bytes)\n"
     ]
    }
   ],
   "source": [
    "@btime fun2(df);"
   ]
  },
  {
   "cell_type": "markdown",
   "metadata": {},
   "source": [
    "----\n",
    "## Using functions as variables in Julia"
   ]
  },
  {
   "cell_type": "code",
   "execution_count": null,
   "metadata": {},
   "outputs": [],
   "source": []
  },
  {
   "cell_type": "markdown",
   "metadata": {},
   "source": [
    "----\n",
    "## Handling exceptions in Julia"
   ]
  },
  {
   "cell_type": "code",
   "execution_count": 15,
   "metadata": {},
   "outputs": [],
   "source": [
    "function loglines(filename, lines...)\n",
    "    f = open(filename, \"a\")\n",
    "    foreach(line -> (println(f, line)), lines)\n",
    "    sqrt(-2)\n",
    "    close(f)\n",
    "end;"
   ]
  },
  {
   "cell_type": "code",
   "execution_count": 19,
   "metadata": {},
   "outputs": [
    {
     "data": {
      "text/plain": [
       "\"/Users/takuizum/local_Documents/julia/Julia 1.0 Programming Cookbook\""
      ]
     },
     "execution_count": 19,
     "metadata": {},
     "output_type": "execute_result"
    }
   ],
   "source": [
    "cd(\"/Users/takuizum/local_Documents/julia/Julia 1.0 Programming Cookbook\")\n",
    "pwd()"
   ]
  },
  {
   "cell_type": "code",
   "execution_count": 22,
   "metadata": {},
   "outputs": [
    {
     "ename": "DomainError",
     "evalue": "DomainError with -2.0:\nsqrt will only return a complex result if called with a complex argument. Try sqrt(Complex(x)).",
     "output_type": "error",
     "traceback": [
      "DomainError with -2.0:\nsqrt will only return a complex result if called with a complex argument. Try sqrt(Complex(x)).",
      "",
      "Stacktrace:",
      " [1] throw_complex_domainerror(::Symbol, ::Float64) at ./math.jl:31",
      " [2] sqrt at ./math.jl:493 [inlined]",
      " [3] sqrt(::Int64) at ./math.jl:519",
      " [4] loglines(::String, ::String) at ./In[15]:4",
      " [5] top-level scope at In[22]:1"
     ]
    }
   ],
   "source": [
    "loglines(\"mylog.txt\", \"Test.log:\")"
   ]
  },
  {
   "cell_type": "code",
   "execution_count": 23,
   "metadata": {},
   "outputs": [
    {
     "name": "stdout",
     "output_type": "stream",
     "text": [
      "DomainError\n",
      "  val: Float64 -2.0\n",
      "  msg: String \"sqrt will only return a complex result if called with a complex argument. Try sqrt(Complex(x)).\"\n"
     ]
    }
   ],
   "source": [
    "try\n",
    "    loglines(\"mylog.txt\", \"Test log:\")\n",
    "catch e\n",
    "    dump(e)\n",
    "end "
   ]
  },
  {
   "cell_type": "markdown",
   "metadata": {},
   "source": [
    "----\n",
    "## Scope of variablesin Julia"
   ]
  },
  {
   "cell_type": "code",
   "execution_count": 2,
   "metadata": {},
   "outputs": [
    {
     "name": "stdout",
     "output_type": "stream",
     "text": [
      "inner scope 30 500\n",
      "outer scope 30 2\n"
     ]
    }
   ],
   "source": [
    "a, b = 1, 2\n",
    "let a = 30, n = 40\n",
    "    let b = 500\n",
    "        println(\"inner scope $a $b\")\n",
    "    end\n",
    "    println(\"outer scope $a $b\")\n",
    "end\n"
   ]
  },
  {
   "cell_type": "code",
   "execution_count": null,
   "metadata": {},
   "outputs": [],
   "source": []
  },
  {
   "cell_type": "code",
   "execution_count": 23,
   "metadata": {},
   "outputs": [
    {
     "name": "stdout",
     "output_type": "stream",
     "text": [
      "6\n"
     ]
    }
   ],
   "source": [
    "x = 5;\n",
    "let\n",
    "    println(x+1)\n",
    "end"
   ]
  },
  {
   "cell_type": "markdown",
   "metadata": {},
   "source": [
    "Cookbookとは動作が異となってくる。local scopeのはずなのに，globalを覗き込んでいるような動作をしている。  \n",
    "\n",
    "おそらく，直前のコードでxを`let`内のスコープに作ってしまっているから，エラーにならないのかもしれない？"
   ]
  },
  {
   "cell_type": "code",
   "execution_count": 28,
   "metadata": {},
   "outputs": [
    {
     "data": {
      "text/plain": [
       "6"
      ]
     },
     "execution_count": 28,
     "metadata": {},
     "output_type": "execute_result"
    }
   ],
   "source": [
    "x = 5;\n",
    "let # 本当はエラーになるはず。\n",
    "    x = x+1\n",
    "end"
   ]
  },
  {
   "cell_type": "code",
   "execution_count": 29,
   "metadata": {},
   "outputs": [
    {
     "data": {
      "text/plain": [
       "7"
      ]
     },
     "execution_count": 29,
     "metadata": {},
     "output_type": "execute_result"
    }
   ],
   "source": [
    "let\n",
    "    global x = x + 1\n",
    "end"
   ]
  },
  {
   "cell_type": "code",
   "execution_count": 30,
   "metadata": {},
   "outputs": [
    {
     "data": {
      "text/plain": [
       "2-element Array{Int64,1}:\n",
       " 6\n",
       " 7"
      ]
     },
     "execution_count": 30,
     "metadata": {},
     "output_type": "execute_result"
    }
   ],
   "source": [
    "# loop and comprehension create a new scope\n",
    "z = 5\n",
    "[(x = z + i; x) for i in 1:2]"
   ]
  },
  {
   "cell_type": "markdown",
   "metadata": {},
   "source": [
    "Comprehension creates a new scope."
   ]
  },
  {
   "cell_type": "code",
   "execution_count": 31,
   "metadata": {},
   "outputs": [
    {
     "ename": "UndefVarError",
     "evalue": "UndefVarError: z not defined",
     "output_type": "error",
     "traceback": [
      "UndefVarError: z not defined",
      "",
      "Stacktrace:",
      " [1] (::getfield(Main, Symbol(\"##9#10\")))(::Int64) at ./none:0",
      " [2] iterate at ./generator.jl:47 [inlined]",
      " [3] collect(::Base.Generator{UnitRange{Int64},getfield(Main, Symbol(\"##9#10\"))}) at ./array.jl:606",
      " [4] top-level scope at In[31]:1"
     ]
    }
   ],
   "source": [
    "[(z = z + i; x) for i in 1:2]"
   ]
  },
  {
   "cell_type": "code",
   "execution_count": 32,
   "metadata": {},
   "outputs": [
    {
     "data": {
      "text/plain": [
       "2-element Array{Int64,1}:\n",
       " 7\n",
       " 7"
      ]
     },
     "execution_count": 32,
     "metadata": {},
     "output_type": "execute_result"
    }
   ],
   "source": [
    "[(global z = z + i; x) for i in 1:2]"
   ]
  },
  {
   "cell_type": "code",
   "execution_count": null,
   "metadata": {},
   "outputs": [],
   "source": []
  },
  {
   "cell_type": "code",
   "execution_count": null,
   "metadata": {},
   "outputs": [],
   "source": []
  },
  {
   "cell_type": "markdown",
   "metadata": {},
   "source": [
    "----\n",
    "## Handling exception in Julia"
   ]
  }
 ],
 "metadata": {
  "kernelspec": {
   "display_name": "Julia 1.2.0",
   "language": "julia",
   "name": "julia-1.2"
  },
  "language_info": {
   "file_extension": ".jl",
   "mimetype": "application/julia",
   "name": "julia",
   "version": "1.2.0"
  }
 },
 "nbformat": 4,
 "nbformat_minor": 4
}

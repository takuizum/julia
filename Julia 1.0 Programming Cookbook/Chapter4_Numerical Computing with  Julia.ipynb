{
 "cells": [
  {
   "cell_type": "markdown",
   "metadata": {},
   "source": [
    "# Chapter 4 **Numerical Computing with Julia**\n",
    "\n",
    "\n",
    "----\n",
    "## Traversing matrices efficiency"
   ]
  },
  {
   "cell_type": "code",
   "execution_count": 1,
   "metadata": {},
   "outputs": [
    {
     "name": "stderr",
     "output_type": "stream",
     "text": [
      "┌ Info: Precompiling BenchmarkTools [6e4b80f9-dd63-53aa-95a3-0cdb28fa8baf]\n",
      "└ @ Base loading.jl:1242\n"
     ]
    }
   ],
   "source": [
    "using BenchmarkTools;"
   ]
  },
  {
   "cell_type": "code",
   "execution_count": 6,
   "metadata": {},
   "outputs": [
    {
     "name": "stdout",
     "output_type": "stream",
     "text": [
      "  0.721675 seconds (26.21 k allocations: 1.400 MiB)\n",
      "  0.106646 seconds (26.21 k allocations: 1.400 MiB)\n",
      "  0.040035 seconds (5 allocations: 176 bytes)\n"
     ]
    },
    {
     "data": {
      "text/plain": [
       "5.00006775138412e7"
      ]
     },
     "execution_count": 6,
     "metadata": {},
     "output_type": "execute_result"
    }
   ],
   "source": [
    "# Juliaの中ではcolumn優先でデータを保持するので，行ごとよりも列ごとに演算したほうが高速になる。\n",
    "function sum_by_col(x)\n",
    "    s = zero(eltype(x))\n",
    "    for j in 1:size(x, 2)\n",
    "        for i in 1:size(x, 1)\n",
    "            s += x[i, j]\n",
    "        end\n",
    "    end\n",
    "    s\n",
    "end\n",
    "\n",
    "function sum_by_row(x)\n",
    "    s = zero(eltype(x))\n",
    "    for i in 1:size(x, 1)\n",
    "        for j in 1:size(x, 2)\n",
    "            s += x[i, j]\n",
    "        end\n",
    "    end\n",
    "    s\n",
    "end\n",
    "\n",
    "# Benchmark\n",
    "x = rand(10^4, 10^4)\n",
    "@time sum_by_row(x) ;@time sum_by_col(x) ;@time sum(x) "
   ]
  },
  {
   "cell_type": "markdown",
   "metadata": {},
   "source": [
    "----\n",
    "## Executing loops efficiency with conditional statements"
   ]
  },
  {
   "cell_type": "code",
   "execution_count": null,
   "metadata": {},
   "outputs": [],
   "source": [
    "# loopの効率のよい実行方法\n",
    "x = randn(10^6)"
   ]
  },
  {
   "cell_type": "markdown",
   "metadata": {},
   "source": [
    "**type1**  \n",
    "一行で書くことがdきるが，あまりパフォーマンスは良くない。"
   ]
  },
  {
   "cell_type": "code",
   "execution_count": 7,
   "metadata": {},
   "outputs": [
    {
     "name": "stdout",
     "output_type": "stream",
     "text": [
      "  0.132494 seconds (127.94 k allocations: 6.226 MiB)\n"
     ]
    },
    {
     "data": {
      "text/plain": [
       "5.000067751384889e7"
      ]
     },
     "execution_count": 7,
     "metadata": {},
     "output_type": "execute_result"
    }
   ],
   "source": [
    "@time sum(v for v in x if v > 0)"
   ]
  },
  {
   "cell_type": "markdown",
   "metadata": {},
   "source": [
    "**type2**  \n",
    "loop + 関数化  \n",
    "基本的に関数にしたほうが高速になる"
   ]
  },
  {
   "cell_type": "code",
   "execution_count": 8,
   "metadata": {},
   "outputs": [
    {
     "data": {
      "text/plain": [
       "5.000067751384889e7"
      ]
     },
     "execution_count": 8,
     "metadata": {},
     "output_type": "execute_result"
    }
   ],
   "source": [
    "function possum1(x)\n",
    "    s = zero(eltype(x)) # オブジェクトの型を自動的に判別してくれる。\n",
    "    for v in x\n",
    "        if(v > 0)\n",
    "            s += v\n",
    "        end\n",
    "    end\n",
    "    s\n",
    "end\n",
    "possum1(x)"
   ]
  },
  {
   "cell_type": "markdown",
   "metadata": {},
   "source": [
    "**type3**  \n",
    "loopの中のif(conditional statement)は効率が悪いので，ifelseで置き換える。`if`の中に入っている計算が軽いものであれば，コンパイル後のbranchingを避けたほうが高速に演算される(?)。"
   ]
  },
  {
   "cell_type": "code",
   "execution_count": 10,
   "metadata": {},
   "outputs": [
    {
     "data": {
      "text/plain": [
       "5.000067751384889e7"
      ]
     },
     "execution_count": 10,
     "metadata": {},
     "output_type": "execute_result"
    }
   ],
   "source": [
    "# type 3\n",
    "function possum2a(x)\n",
    "    s = zero(eltype(x)) # オブジェクトの型を自動的に判別してくれる。\n",
    "    for v in x\n",
    "        s += ifelse(v > 0, v, zero(s))\n",
    "    end\n",
    "    s\n",
    "end\n",
    "# precompile\n",
    "possum2a(x);"
   ]
  },
  {
   "cell_type": "markdown",
   "metadata": {},
   "source": [
    "**type4**  \n",
    "`@simd` macroを使うやり方。使用方法は簡単で，loopの直前にマクロを挿入するだけ。SIMDプロセッサは特定の条件下でloop処理を高速にしてくれる。ただしSIMDの高速化性能はハードにも依存するようだ。"
   ]
  },
  {
   "cell_type": "code",
   "execution_count": 14,
   "metadata": {},
   "outputs": [],
   "source": [
    "# type 4\n",
    "# add @simd macro\n",
    "function possum2b(x)\n",
    "    s = zero(eltype(x)) \n",
    "    @simd for v in x\n",
    "        s += ifelse(v > 0, v, zero(s)) \n",
    "    end\n",
    "    s\n",
    "end\n",
    "\n",
    "# poor implemention\n",
    "function possum2c(x)\n",
    "    s = zero(eltype(x)) \n",
    "    @simd for v in x\n",
    "        s += ifelse(v > 0, v, 0)　# Integerにも typeof(v)にも，どちらにもなりうる\n",
    "    end\n",
    "    s　# 最終的に返ってくる`s`の型判定が不安定なので，速度が遅い。\n",
    "end\n",
    "\n",
    "function possum2d(x::AbstractArray{T}) where T \n",
    "    # `where T` is shorthand for where T<:any. つまり何らかの型を指定するということ。\n",
    "    # この例では関数に与えたArrayから型を読み取っている。\n",
    "    s = zero(T) \n",
    "    @simd for v in x\n",
    "        s += ifelse(v > 0, v, zero(T))\n",
    "    end\n",
    "    s\n",
    "end\n",
    "# precompile\n",
    "possum2b(x)\n",
    "possum2c(x)\n",
    "possum2d(x);"
   ]
  },
  {
   "cell_type": "code",
   "execution_count": 15,
   "metadata": {},
   "outputs": [
    {
     "name": "stdout",
     "output_type": "stream",
     "text": [
      "  95.068 ms (1 allocation: 16 bytes)\n",
      "  32.828 ms (1 allocation: 16 bytes)\n",
      "  96.920 ms (1 allocation: 16 bytes)\n",
      "  32.539 ms (1 allocation: 16 bytes)\n"
     ]
    },
    {
     "data": {
      "text/plain": [
       "5.000067751384136e7"
      ]
     },
     "execution_count": 15,
     "metadata": {},
     "output_type": "execute_result"
    }
   ],
   "source": [
    "@btime possum2a(x)\n",
    "@btime possum2b(x)\n",
    "@btime possum2c(x)\n",
    "@btime possum2d(x);"
   ]
  },
  {
   "cell_type": "markdown",
   "metadata": {},
   "source": [
    "**type5**  \n",
    "三項演算子`a ? b : c`を使う場合。"
   ]
  },
  {
   "cell_type": "code",
   "execution_count": 20,
   "metadata": {},
   "outputs": [
    {
     "name": "stdout",
     "output_type": "stream",
     "text": [
      "  32.385 ms (1 allocation: 16 bytes)\n"
     ]
    }
   ],
   "source": [
    "function possum2e(x::AbstractArray{T}) where T \n",
    "    # `where T` is shorthand for where T<:any. つまり何らかの型を指定するということ。\n",
    "    # この例では関数に与えたArrayから型を読み取っている。\n",
    "    s = zero(T) \n",
    "    @simd for v in x\n",
    "        s += v > 0 ? v : zero(T)\n",
    "    end\n",
    "    s\n",
    "end\n",
    "possum2e(x);\n",
    "@btime possum2e(x);"
   ]
  },
  {
   "cell_type": "markdown",
   "metadata": {},
   "source": [
    "----\n",
    "## Generating full factorial designs\n",
    "\n",
    "要するにRでいうところの`expand.grid()`関数を実現する。"
   ]
  },
  {
   "cell_type": "code",
   "execution_count": 22,
   "metadata": {},
   "outputs": [
    {
     "name": "stderr",
     "output_type": "stream",
     "text": [
      "┌ Info: Recompiling stale cache file /Users/takuizum/.julia/compiled/v1.2/DataFrames/AR9oZ.ji for DataFrames [a93c6f00-e57d-5684-b7b6-d8193f3e46c0]\n",
      "└ @ Base loading.jl:1240\n"
     ]
    }
   ],
   "source": [
    "using DataFrames"
   ]
  },
  {
   "cell_type": "code",
   "execution_count": 35,
   "metadata": {},
   "outputs": [
    {
     "data": {
      "text/html": [
       "<table class=\"data-frame\"><thead><tr><th></th><th>x1</th><th>x2</th><th>x3</th></tr><tr><th></th><th>Int64</th><th>String</th><th>Float64</th></tr></thead><tbody><p>8 rows × 3 columns</p><tr><th>1</th><td>1</td><td>A</td><td>1.0</td></tr><tr><th>2</th><td>2</td><td>A</td><td>1.0</td></tr><tr><th>3</th><td>1</td><td>B</td><td>1.0</td></tr><tr><th>4</th><td>2</td><td>B</td><td>1.0</td></tr><tr><th>5</th><td>1</td><td>A</td><td>2.2</td></tr><tr><th>6</th><td>2</td><td>A</td><td>2.2</td></tr><tr><th>7</th><td>1</td><td>B</td><td>2.2</td></tr><tr><th>8</th><td>2</td><td>B</td><td>2.2</td></tr></tbody></table>"
      ],
      "text/latex": [
       "\\begin{tabular}{r|ccc}\n",
       "\t& x1 & x2 & x3\\\\\n",
       "\t\\hline\n",
       "\t& Int64 & String & Float64\\\\\n",
       "\t\\hline\n",
       "\t1 & 1 & A & 1.0 \\\\\n",
       "\t2 & 2 & A & 1.0 \\\\\n",
       "\t3 & 1 & B & 1.0 \\\\\n",
       "\t4 & 2 & B & 1.0 \\\\\n",
       "\t5 & 1 & A & 2.2 \\\\\n",
       "\t6 & 2 & A & 2.2 \\\\\n",
       "\t7 & 1 & B & 2.2 \\\\\n",
       "\t8 & 2 & B & 2.2 \\\\\n",
       "\\end{tabular}\n"
      ],
      "text/plain": [
       "8×3 DataFrame\n",
       "│ Row │ x1    │ x2     │ x3      │\n",
       "│     │ \u001b[90mInt64\u001b[39m │ \u001b[90mString\u001b[39m │ \u001b[90mFloat64\u001b[39m │\n",
       "├─────┼───────┼────────┼─────────┤\n",
       "│ 1   │ 1     │ A      │ 1.0     │\n",
       "│ 2   │ 2     │ A      │ 1.0     │\n",
       "│ 3   │ 1     │ B      │ 1.0     │\n",
       "│ 4   │ 2     │ B      │ 1.0     │\n",
       "│ 5   │ 1     │ A      │ 2.2     │\n",
       "│ 6   │ 2     │ A      │ 2.2     │\n",
       "│ 7   │ 1     │ B      │ 2.2     │\n",
       "│ 8   │ 2     │ B      │ 2.2     │"
      ]
     },
     "execution_count": 35,
     "metadata": {},
     "output_type": "execute_result"
    }
   ],
   "source": [
    "v = vec(collect(Base.product([1,2],[\"A\", \"B\"], [1.0, 2.2])))\n",
    "DataFrame(collect.(collect(zip(v...))))"
   ]
  },
  {
   "cell_type": "code",
   "execution_count": 46,
   "metadata": {},
   "outputs": [
    {
     "data": {
      "text/html": [
       "<table class=\"data-frame\"><thead><tr><th></th><th>x1</th><th>x2</th><th>x3</th></tr><tr><th></th><th>Any</th><th>Any</th><th>Any</th></tr></thead><tbody><p>8 rows × 3 columns</p><tr><th>1</th><td>1</td><td>A</td><td>1.0</td></tr><tr><th>2</th><td>2</td><td>A</td><td>1.0</td></tr><tr><th>3</th><td>1</td><td>B</td><td>1.0</td></tr><tr><th>4</th><td>2</td><td>B</td><td>1.0</td></tr><tr><th>5</th><td>1</td><td>A</td><td>2.2</td></tr><tr><th>6</th><td>2</td><td>A</td><td>2.2</td></tr><tr><th>7</th><td>1</td><td>B</td><td>2.2</td></tr><tr><th>8</th><td>2</td><td>B</td><td>2.2</td></tr></tbody></table>"
      ],
      "text/latex": [
       "\\begin{tabular}{r|ccc}\n",
       "\t& x1 & x2 & x3\\\\\n",
       "\t\\hline\n",
       "\t& Any & Any & Any\\\\\n",
       "\t\\hline\n",
       "\t1 & 1 & A & 1.0 \\\\\n",
       "\t2 & 2 & A & 1.0 \\\\\n",
       "\t3 & 1 & B & 1.0 \\\\\n",
       "\t4 & 2 & B & 1.0 \\\\\n",
       "\t5 & 1 & A & 2.2 \\\\\n",
       "\t6 & 2 & A & 2.2 \\\\\n",
       "\t7 & 1 & B & 2.2 \\\\\n",
       "\t8 & 2 & B & 2.2 \\\\\n",
       "\\end{tabular}\n"
      ],
      "text/plain": [
       "8×3 DataFrame\n",
       "│ Row │ x1  │ x2  │ x3  │\n",
       "│     │ \u001b[90mAny\u001b[39m │ \u001b[90mAny\u001b[39m │ \u001b[90mAny\u001b[39m │\n",
       "├─────┼─────┼─────┼─────┤\n",
       "│ 1   │ 1   │ A   │ 1.0 │\n",
       "│ 2   │ 2   │ A   │ 1.0 │\n",
       "│ 3   │ 1   │ B   │ 1.0 │\n",
       "│ 4   │ 2   │ B   │ 1.0 │\n",
       "│ 5   │ 1   │ A   │ 2.2 │\n",
       "│ 6   │ 2   │ A   │ 2.2 │\n",
       "│ 7   │ 1   │ B   │ 2.2 │\n",
       "│ 8   │ 2   │ B   │ 2.2 │"
      ]
     },
     "execution_count": 46,
     "metadata": {},
     "output_type": "execute_result"
    }
   ],
   "source": [
    "function expandgrid(levels...)\n",
    "    lengths = length.(levels)\n",
    "    inner = 1\n",
    "    outer = prod(lengths)\n",
    "    grid = []\n",
    "    for i in 1:length(levels)\n",
    "        outer = div(outer, lengths[i])\n",
    "        push!(grid, repeat(levels[i], inner = inner, outer = outer))\n",
    "        inner *= lengths[i]\n",
    "    end\n",
    "    DataFrame(hcat(Tuple(grid)...))\n",
    "end\n",
    "\n",
    "expandgrid([1,2],[\"A\", \"B\"], [1.0, 2.2])"
   ]
  },
  {
   "cell_type": "markdown",
   "metadata": {},
   "source": [
    "----\n",
    "## Running Monte Carlo simulations\n",
    "\n",
    "内包表記と`map`とベクタライズによる計算時間とメモリ消費量の違い"
   ]
  },
  {
   "cell_type": "code",
   "execution_count": 49,
   "metadata": {},
   "outputs": [
    {
     "name": "stderr",
     "output_type": "stream",
     "text": [
      "┌ Info: Precompiling OnlineStats [a15396b6-48d5-5d58-9928-6d29437db91e]\n",
      "└ @ Base loading.jl:1242\n"
     ]
    }
   ],
   "source": [
    "using OnlineStats, Random"
   ]
  },
  {
   "cell_type": "code",
   "execution_count": 79,
   "metadata": {},
   "outputs": [],
   "source": [
    "function simwalk()\n",
    "    jumps = 0\n",
    "    distance = 0\n",
    "    while true\n",
    "        jumps += 1\n",
    "        distance += rand()\n",
    "        distance >= 1.0 && return jumps\n",
    "    end\n",
    "end\n",
    "\n",
    "function increasemental(n)\n",
    "    s = Mean()\n",
    "    for i in 1:n\n",
    "        fit!(s, simwalk() )\n",
    "    end\n",
    "    value(s)\n",
    "end\n",
    "# precompile\n",
    "n = 10^8\n",
    "increasemental(1);"
   ]
  },
  {
   "cell_type": "markdown",
   "metadata": {},
   "source": [
    "### First method  \n",
    "最もシンプルな書き方。内包表記でループした上で，ベクタライズして，その平均を取る。中間で`simwalk`による計算結果を一時的に保持している。"
   ]
  },
  {
   "cell_type": "code",
   "execution_count": 70,
   "metadata": {},
   "outputs": [
    {
     "name": "stdout",
     "output_type": "stream",
     "text": [
      "  2.023130 seconds (48.08 k allocations: 765.362 MiB, 0.35% gc time)\n"
     ]
    }
   ],
   "source": [
    "@time mean([simwalk() for i in 1:n]);"
   ]
  },
  {
   "cell_type": "markdown",
   "metadata": {},
   "source": [
    "### Second method  \n",
    "`map`関数内で関数を指定し，入力変数をベクトル化して計算。関数型のプログラミングアプローチに近い。"
   ]
  },
  {
   "cell_type": "code",
   "execution_count": 71,
   "metadata": {},
   "outputs": [
    {
     "name": "stdout",
     "output_type": "stream",
     "text": [
      "  2.048181 seconds (56.32 k allocations: 765.785 MiB, 2.93% gc time)\n"
     ]
    }
   ],
   "source": [
    "@time mean(map(x -> simwalk(), 1:n));"
   ]
  },
  {
   "cell_type": "markdown",
   "metadata": {},
   "source": [
    "### Third method  \n",
    "1つ目の方法とよく似ているが，計算結果を直接`mean`関数に与えているため，途中の計算結果を保持しない。"
   ]
  },
  {
   "cell_type": "code",
   "execution_count": 72,
   "metadata": {},
   "outputs": [
    {
     "name": "stdout",
     "output_type": "stream",
     "text": [
      "  1.601154 seconds (31.49 k allocations: 1.679 MiB)\n"
     ]
    }
   ],
   "source": [
    "@time mean(simwalk() for i in 1:n);"
   ]
  },
  {
   "cell_type": "markdown",
   "metadata": {},
   "source": [
    "### Fourth method  \n",
    "`OnlineStats`パッケージの関数を利用して，最も効率的に実行できる。"
   ]
  },
  {
   "cell_type": "code",
   "execution_count": 81,
   "metadata": {},
   "outputs": [
    {
     "name": "stdout",
     "output_type": "stream",
     "text": [
      "  1.611675 seconds (5 allocations: 176 bytes)\n"
     ]
    }
   ],
   "source": [
    "@time increasemental(n);"
   ]
  },
  {
   "cell_type": "markdown",
   "metadata": {},
   "source": [
    "### Fifth method\n",
    "関数化すれば，単純なループ構造でも非常に効率がよい。"
   ]
  },
  {
   "cell_type": "code",
   "execution_count": 77,
   "metadata": {},
   "outputs": [
    {
     "name": "stdout",
     "output_type": "stream",
     "text": [
      "  1.169228 seconds (5 allocations: 176 bytes)\n"
     ]
    }
   ],
   "source": [
    "function simwalk(n)\n",
    "    jumps = 0\n",
    "    for i in 1:n\n",
    "        distance = 0.0\n",
    "         while true\n",
    "             jumps += 1\n",
    "             distance += rand()\n",
    "             distance >= 1.0 && break\n",
    "         end\n",
    "    end\n",
    "    jumps / n\n",
    "end\n",
    "simwalk(1);\n",
    "@time simwalk(n);"
   ]
  },
  {
   "cell_type": "code",
   "execution_count": null,
   "metadata": {},
   "outputs": [],
   "source": []
  }
 ],
 "metadata": {
  "kernelspec": {
   "display_name": "Julia 1.2.0",
   "language": "julia",
   "name": "julia-1.2"
  },
  "language_info": {
   "file_extension": ".jl",
   "mimetype": "application/julia",
   "name": "julia",
   "version": "1.2.0"
  }
 },
 "nbformat": 4,
 "nbformat_minor": 2
}

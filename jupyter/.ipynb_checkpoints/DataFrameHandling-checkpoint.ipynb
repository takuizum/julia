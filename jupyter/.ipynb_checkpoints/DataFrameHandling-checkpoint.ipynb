{
 "cells": [
  {
   "cell_type": "markdown",
   "metadata": {},
   "source": [
    "# JuliaによるtidyなData Handling\n",
    "\n",
    "----\n",
    "## はじめに  \n",
    "プログラミング言語Rで超有名なパッケージ`tidyr`&`dplyr`と同様の処理を行う関数がJuliaにもあるので，それをまとめる。\n",
    "\n",
    "パッケージのマニュアル等は[こちら](https://juliadata.github.io/DataFrames.jl/stable/)\n",
    "\n",
    "----\n",
    "## DataFrameとは\n",
    "\n",
    "juliaやR， pythonには行列や配列とは異なる形式としてDataFrame (データフレーム) と呼ばれるデータ形式が存在する。データフレームは名前付き行列や配列と似たような形である。配列と異なる点は，明示的に型を変換しなくても，複数の異なる型の列を保持できる点である。\n",
    "\n",
    "もちろんUnionやAnyなどの型を利用すれば，複数の異なる型の要素を維持した配列を作ることはできるが，列ごとに意味を持ったまとまりをもつような表現形式（たとえば観察データを集計したデータテーブル）では列ごとに型を管理できるデータフレームのほうが都合が良い。"
   ]
  },
  {
   "cell_type": "code",
   "execution_count": 1,
   "metadata": {},
   "outputs": [],
   "source": [
    "using DataFrames, Random;"
   ]
  },
  {
   "cell_type": "code",
   "execution_count": 20,
   "metadata": {},
   "outputs": [
    {
     "data": {
      "text/html": [
       "<table class=\"data-frame\"><thead><tr><th></th><th>A</th><th>B</th><th>C</th></tr><tr><th></th><th>Int64</th><th>String</th><th>Float64</th></tr></thead><tbody><p>4 rows × 3 columns</p><tr><th>1</th><td>1</td><td>M</td><td>0.445517</td></tr><tr><th>2</th><td>2</td><td>F</td><td>-0.630496</td></tr><tr><th>3</th><td>3</td><td>F</td><td>1.21081</td></tr><tr><th>4</th><td>4</td><td>M</td><td>1.11362</td></tr></tbody></table>"
      ],
      "text/latex": [
       "\\begin{tabular}{r|ccc}\n",
       "\t& A & B & C\\\\\n",
       "\t\\hline\n",
       "\t& Int64 & String & Float64\\\\\n",
       "\t\\hline\n",
       "\t1 & 1 & M & 0.445517 \\\\\n",
       "\t2 & 2 & F & -0.630496 \\\\\n",
       "\t3 & 3 & F & 1.21081 \\\\\n",
       "\t4 & 4 & M & 1.11362 \\\\\n",
       "\\end{tabular}\n"
      ],
      "text/plain": [
       "4×3 DataFrame\n",
       "│ Row │ A     │ B      │ C         │\n",
       "│     │ \u001b[90mInt64\u001b[39m │ \u001b[90mString\u001b[39m │ \u001b[90mFloat64\u001b[39m   │\n",
       "├─────┼───────┼────────┼───────────┤\n",
       "│ 1   │ 1     │ M      │ 0.445517  │\n",
       "│ 2   │ 2     │ F      │ -0.630496 │\n",
       "│ 3   │ 3     │ F      │ 1.21081   │\n",
       "│ 4   │ 4     │ M      │ 1.11362   │"
      ]
     },
     "execution_count": 20,
     "metadata": {},
     "output_type": "execute_result"
    }
   ],
   "source": [
    "df = DataFrame(A = 1:4, B = [\"M\", \"F\", \"F\", \"M\"], C = randn(4))"
   ]
  },
  {
   "cell_type": "code",
   "execution_count": 7,
   "metadata": {},
   "outputs": [
    {
     "data": {
      "text/plain": [
       "2×2 Array{Any,2}:\n",
       " 1  \"M\"\n",
       " 2  \"M\""
      ]
     },
     "execution_count": 7,
     "metadata": {},
     "output_type": "execute_result"
    }
   ],
   "source": [
    "mat = [1 \"M\"; 2 \"M\"]"
   ]
  },
  {
   "cell_type": "markdown",
   "metadata": {},
   "source": [
    "----\n",
    "## 基本的な操作  \n",
    "\n",
    "### 列名の取り出し\n",
    "\n",
    "データフレームにアクセスするときは`Symbols`を使い，`df[:col]`, `df[:, :A]`, `df.A` という3つの方法で列の要素を取り出すことができる。"
   ]
  },
  {
   "cell_type": "code",
   "execution_count": 21,
   "metadata": {},
   "outputs": [
    {
     "data": {
      "text/plain": [
       "true"
      ]
     },
     "execution_count": 21,
     "metadata": {},
     "output_type": "execute_result"
    }
   ],
   "source": [
    "df[:A] == df[:, :A] == df.A"
   ]
  },
  {
   "cell_type": "markdown",
   "metadata": {},
   "source": [
    "----\n",
    "## tidyな操作\n",
    "\n",
    "\n",
    "## pipe operator\n",
    "tidyな操作で不可欠になるのが，データフレームとパイプ演算子です。\n",
    "\n",
    "パイプ演算子とは，複数の関数を連続して適用するような一連の流れを，可読性を維持したまま実行するための演算子です。直感的には関数を，まるで足し算でもするような感覚で使うことに近いです。\n",
    "\n",
    "パイプを使うメリットは可読性の高さだけではありません。Workspace上の変数の節約にも使えます。\n",
    "\n",
    "juliaにけるパイプ`|>`はBaseのoperators.jlにコードが存在しています。Rだと`magrittr`と呼ばれるtidyverse系のパッケージをインストールする必要があるのに対して，juliaでは起動してすぐ使えます。\n",
    "https://github.com/JuliaLang/julia/blob/master/base/operators.jl\n",
    "\n",
    "驚くべきことにコードはたったの一行です。\n",
    "```\n",
    "|>(x, f) = f(x)\n",
    "```\n",
    "\n",
    "Rだと，31行くらいです。おそろしくjuliaはシンプルに書かれています。\n",
    "\n",
    "```\n",
    "function (lhs, rhs) \n",
    "{\n",
    "    parent <- parent.frame()\n",
    "    env <- new.env(parent = parent)\n",
    "    chain_parts <- split_chain(match.call(), env = env)\n",
    "    pipes <- chain_parts[[\"pipes\"]]\n",
    "    rhss <- chain_parts[[\"rhss\"]]\n",
    "    lhs <- chain_parts[[\"lhs\"]]\n",
    "    env[[\"_function_list\"]] <- lapply(1:length(rhss), function(i) wrap_function(rhss[[i]], \n",
    "        pipes[[i]], parent))\n",
    "    env[[\"_fseq\"]] <- `class<-`(eval(quote(function(value) freduce(value, \n",
    "        `_function_list`)), env, env), c(\"fseq\", \"function\"))\n",
    "    env[[\"freduce\"]] <- freduce\n",
    "    if (is_placeholder(lhs)) {\n",
    "        env[[\"_fseq\"]]\n",
    "    }\n",
    "    else {\n",
    "        env[[\"_lhs\"]] <- eval(lhs, parent, parent)\n",
    "        result <- withVisible(eval(quote(`_fseq`(`_lhs`)), env, \n",
    "            env))\n",
    "        if (is_compound_pipe(pipes[[1L]])) {\n",
    "            eval(call(\"<-\", lhs, result[[\"value\"]]), parent, \n",
    "                parent)\n",
    "        }\n",
    "        else {\n",
    "            if (result[[\"visible\"]]) \n",
    "                result[[\"value\"]]\n",
    "            else invisible(result[[\"value\"]])\n",
    "        }\n",
    "    }\n",
    "}\n",
    "```\n",
    "\n",
    "欠点もあって，残念ながらjuliaのパイプ演算の機能はRよりやや書く手間が多いです。  \n",
    "しかし，多くの場面では快適に，問題なく使えます。"
   ]
  },
  {
   "cell_type": "code",
   "execution_count": null,
   "metadata": {},
   "outputs": [],
   "source": [
    "using RDatasets\n",
    "iris = RDatasets.dataset(\"datasets\", \"iris\")"
   ]
  },
  {
   "cell_type": "code",
   "execution_count": null,
   "metadata": {},
   "outputs": [],
   "source": []
  },
  {
   "cell_type": "code",
   "execution_count": null,
   "metadata": {},
   "outputs": [],
   "source": []
  },
  {
   "cell_type": "code",
   "execution_count": null,
   "metadata": {},
   "outputs": [],
   "source": []
  },
  {
   "cell_type": "code",
   "execution_count": null,
   "metadata": {},
   "outputs": [],
   "source": []
  }
 ],
 "metadata": {
  "kernelspec": {
   "display_name": "Julia 1.1.0",
   "language": "julia",
   "name": "julia-1.1"
  },
  "language_info": {
   "file_extension": ".jl",
   "mimetype": "application/julia",
   "name": "julia",
   "version": "1.1.0"
  }
 },
 "nbformat": 4,
 "nbformat_minor": 4
}

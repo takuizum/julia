{
 "cells": [
  {
   "cell_type": "markdown",
   "metadata": {},
   "source": [
    "# Juliaのforは関数にすると速い（第二弾）\n",
    "\n",
    "\n",
    "[@bicycle1885](https://twitter.com/bicycle1885)さんからもっと高速化できるとコメントいただいたので，追加で実験。\n",
    "\n",
    "<blockquote class=\"twitter-tweet\" data-lang=\"ja\"><p lang=\"ja\" dir=\"ltr\">ちょっと見てみたのですが，ここではicc2plのデータ型指定はすべて不要だと思います。あとはifelseを使うとicc2plを2回評価してしまうので，単純に三項演算子などを使うほうが速いと思います。</p>&mdash; (｢・ω・)｢ｶﾞｵｰ (@bicycle1885) <a href=\"https://twitter.com/bicycle1885/status/1145854832487436288?ref_src=twsrc%5Etfw\">2019年7月2日</a></blockquote>\n",
    "<script async src=\"https://platform.twitter.com/widgets.js\" charset=\"utf-8\"></script>\n",
    "\n",
    "\n",
    "\n",
    "おさらい。（自分用のメモのつもりで，前回の資料では特に触れなかったのですが）**ICC**とはItem Characteristic Curve, 項目特性曲線という，IRTにおけるテスト項目の特徴を可視化できる重要なグラフの1つです。\n",
    "\n",
    "とはいえやはり項目反応理論については説明する気はないので（おい），\n",
    "\n",
    "[**加藤健太郎ほか (2014), Rによる項目反応理論　オーム社**](https://www.amazon.co.jp/dp/B01IGW577Y/ref=dp-kindle-redirect?_encoding=UTF8&btkr=1)\n",
    "\n",
    "<img src=\"https://shop19-makeshop.akamaized.net/shopimages/ohmsha/0000000038742.gif\">\n",
    "\n",
    "を買ってください（ダイレクトマーケティング）。著者が知り合いです。\n"
   ]
  },
  {
   "cell_type": "code",
   "execution_count": 27,
   "metadata": {},
   "outputs": [
    {
     "data": {
      "image/svg+xml": [
       "<?xml version=\"1.0\" encoding=\"utf-8\"?>\n",
       "<svg xmlns=\"http://www.w3.org/2000/svg\" xmlns:xlink=\"http://www.w3.org/1999/xlink\" width=\"600\" height=\"400\" viewBox=\"0 0 2400 1600\">\n",
       "<defs>\n",
       "  <clipPath id=\"clip9900\">\n",
       "    <rect x=\"0\" y=\"0\" width=\"2400\" height=\"1600\"/>\n",
       "  </clipPath>\n",
       "</defs>\n",
       "<polygon clip-path=\"url(#clip9900)\" points=\"\n",
       "0,1600 2400,1600 2400,0 0,0 \n",
       "  \" fill=\"#ffffff\" fill-rule=\"evenodd\" fill-opacity=\"1\"/>\n",
       "<defs>\n",
       "  <clipPath id=\"clip9901\">\n",
       "    <rect x=\"480\" y=\"0\" width=\"1681\" height=\"1600\"/>\n",
       "  </clipPath>\n",
       "</defs>\n",
       "<polygon clip-path=\"url(#clip9900)\" points=\"\n",
       "180.66,1487.47 2352.76,1487.47 2352.76,47.2441 180.66,47.2441 \n",
       "  \" fill=\"#ffffff\" fill-rule=\"evenodd\" fill-opacity=\"1\"/>\n",
       "<defs>\n",
       "  <clipPath id=\"clip9902\">\n",
       "    <rect x=\"180\" y=\"47\" width=\"2173\" height=\"1441\"/>\n",
       "  </clipPath>\n",
       "</defs>\n",
       "<polyline clip-path=\"url(#clip9902)\" style=\"stroke:#000000; stroke-width:2; stroke-opacity:0.1; fill:none\" points=\"\n",
       "  242.135,1487.47 242.135,47.2441 \n",
       "  \"/>\n",
       "<polyline clip-path=\"url(#clip9902)\" style=\"stroke:#000000; stroke-width:2; stroke-opacity:0.1; fill:none\" points=\"\n",
       "  754.421,1487.47 754.421,47.2441 \n",
       "  \"/>\n",
       "<polyline clip-path=\"url(#clip9902)\" style=\"stroke:#000000; stroke-width:2; stroke-opacity:0.1; fill:none\" points=\"\n",
       "  1266.71,1487.47 1266.71,47.2441 \n",
       "  \"/>\n",
       "<polyline clip-path=\"url(#clip9902)\" style=\"stroke:#000000; stroke-width:2; stroke-opacity:0.1; fill:none\" points=\"\n",
       "  1778.99,1487.47 1778.99,47.2441 \n",
       "  \"/>\n",
       "<polyline clip-path=\"url(#clip9902)\" style=\"stroke:#000000; stroke-width:2; stroke-opacity:0.1; fill:none\" points=\"\n",
       "  2291.28,1487.47 2291.28,47.2441 \n",
       "  \"/>\n",
       "<polyline clip-path=\"url(#clip9902)\" style=\"stroke:#000000; stroke-width:2; stroke-opacity:0.1; fill:none\" points=\"\n",
       "  180.66,1446.74 2352.76,1446.74 \n",
       "  \"/>\n",
       "<polyline clip-path=\"url(#clip9902)\" style=\"stroke:#000000; stroke-width:2; stroke-opacity:0.1; fill:none\" points=\"\n",
       "  180.66,1104.76 2352.76,1104.76 \n",
       "  \"/>\n",
       "<polyline clip-path=\"url(#clip9902)\" style=\"stroke:#000000; stroke-width:2; stroke-opacity:0.1; fill:none\" points=\"\n",
       "  180.66,762.793 2352.76,762.793 \n",
       "  \"/>\n",
       "<polyline clip-path=\"url(#clip9902)\" style=\"stroke:#000000; stroke-width:2; stroke-opacity:0.1; fill:none\" points=\"\n",
       "  180.66,420.822 2352.76,420.822 \n",
       "  \"/>\n",
       "<polyline clip-path=\"url(#clip9902)\" style=\"stroke:#000000; stroke-width:2; stroke-opacity:0.1; fill:none\" points=\"\n",
       "  180.66,78.8503 2352.76,78.8503 \n",
       "  \"/>\n",
       "<polyline clip-path=\"url(#clip9900)\" style=\"stroke:#000000; stroke-width:4; stroke-opacity:1; fill:none\" points=\"\n",
       "  180.66,1487.47 2352.76,1487.47 \n",
       "  \"/>\n",
       "<polyline clip-path=\"url(#clip9900)\" style=\"stroke:#000000; stroke-width:4; stroke-opacity:1; fill:none\" points=\"\n",
       "  180.66,1487.47 180.66,47.2441 \n",
       "  \"/>\n",
       "<polyline clip-path=\"url(#clip9900)\" style=\"stroke:#000000; stroke-width:4; stroke-opacity:1; fill:none\" points=\"\n",
       "  242.135,1487.47 242.135,1465.87 \n",
       "  \"/>\n",
       "<polyline clip-path=\"url(#clip9900)\" style=\"stroke:#000000; stroke-width:4; stroke-opacity:1; fill:none\" points=\"\n",
       "  754.421,1487.47 754.421,1465.87 \n",
       "  \"/>\n",
       "<polyline clip-path=\"url(#clip9900)\" style=\"stroke:#000000; stroke-width:4; stroke-opacity:1; fill:none\" points=\"\n",
       "  1266.71,1487.47 1266.71,1465.87 \n",
       "  \"/>\n",
       "<polyline clip-path=\"url(#clip9900)\" style=\"stroke:#000000; stroke-width:4; stroke-opacity:1; fill:none\" points=\"\n",
       "  1778.99,1487.47 1778.99,1465.87 \n",
       "  \"/>\n",
       "<polyline clip-path=\"url(#clip9900)\" style=\"stroke:#000000; stroke-width:4; stroke-opacity:1; fill:none\" points=\"\n",
       "  2291.28,1487.47 2291.28,1465.87 \n",
       "  \"/>\n",
       "<polyline clip-path=\"url(#clip9900)\" style=\"stroke:#000000; stroke-width:4; stroke-opacity:1; fill:none\" points=\"\n",
       "  180.66,1446.74 213.242,1446.74 \n",
       "  \"/>\n",
       "<polyline clip-path=\"url(#clip9900)\" style=\"stroke:#000000; stroke-width:4; stroke-opacity:1; fill:none\" points=\"\n",
       "  180.66,1104.76 213.242,1104.76 \n",
       "  \"/>\n",
       "<polyline clip-path=\"url(#clip9900)\" style=\"stroke:#000000; stroke-width:4; stroke-opacity:1; fill:none\" points=\"\n",
       "  180.66,762.793 213.242,762.793 \n",
       "  \"/>\n",
       "<polyline clip-path=\"url(#clip9900)\" style=\"stroke:#000000; stroke-width:4; stroke-opacity:1; fill:none\" points=\"\n",
       "  180.66,420.822 213.242,420.822 \n",
       "  \"/>\n",
       "<polyline clip-path=\"url(#clip9900)\" style=\"stroke:#000000; stroke-width:4; stroke-opacity:1; fill:none\" points=\"\n",
       "  180.66,78.8503 213.242,78.8503 \n",
       "  \"/>\n",
       "<g clip-path=\"url(#clip9900)\">\n",
       "<text style=\"fill:#000000; fill-opacity:1; font-family:Arial,Helvetica Neue,Helvetica,sans-serif; font-size:48px; text-anchor:middle;\" transform=\"rotate(0, 242.135, 1541.47)\" x=\"242.135\" y=\"1541.47\">-4</text>\n",
       "</g>\n",
       "<g clip-path=\"url(#clip9900)\">\n",
       "<text style=\"fill:#000000; fill-opacity:1; font-family:Arial,Helvetica Neue,Helvetica,sans-serif; font-size:48px; text-anchor:middle;\" transform=\"rotate(0, 754.421, 1541.47)\" x=\"754.421\" y=\"1541.47\">-2</text>\n",
       "</g>\n",
       "<g clip-path=\"url(#clip9900)\">\n",
       "<text style=\"fill:#000000; fill-opacity:1; font-family:Arial,Helvetica Neue,Helvetica,sans-serif; font-size:48px; text-anchor:middle;\" transform=\"rotate(0, 1266.71, 1541.47)\" x=\"1266.71\" y=\"1541.47\">0</text>\n",
       "</g>\n",
       "<g clip-path=\"url(#clip9900)\">\n",
       "<text style=\"fill:#000000; fill-opacity:1; font-family:Arial,Helvetica Neue,Helvetica,sans-serif; font-size:48px; text-anchor:middle;\" transform=\"rotate(0, 1778.99, 1541.47)\" x=\"1778.99\" y=\"1541.47\">2</text>\n",
       "</g>\n",
       "<g clip-path=\"url(#clip9900)\">\n",
       "<text style=\"fill:#000000; fill-opacity:1; font-family:Arial,Helvetica Neue,Helvetica,sans-serif; font-size:48px; text-anchor:middle;\" transform=\"rotate(0, 2291.28, 1541.47)\" x=\"2291.28\" y=\"1541.47\">4</text>\n",
       "</g>\n",
       "<g clip-path=\"url(#clip9900)\">\n",
       "<text style=\"fill:#000000; fill-opacity:1; font-family:Arial,Helvetica Neue,Helvetica,sans-serif; font-size:48px; text-anchor:end;\" transform=\"rotate(0, 156.66, 1464.24)\" x=\"156.66\" y=\"1464.24\">0.00</text>\n",
       "</g>\n",
       "<g clip-path=\"url(#clip9900)\">\n",
       "<text style=\"fill:#000000; fill-opacity:1; font-family:Arial,Helvetica Neue,Helvetica,sans-serif; font-size:48px; text-anchor:end;\" transform=\"rotate(0, 156.66, 1122.26)\" x=\"156.66\" y=\"1122.26\">0.25</text>\n",
       "</g>\n",
       "<g clip-path=\"url(#clip9900)\">\n",
       "<text style=\"fill:#000000; fill-opacity:1; font-family:Arial,Helvetica Neue,Helvetica,sans-serif; font-size:48px; text-anchor:end;\" transform=\"rotate(0, 156.66, 780.293)\" x=\"156.66\" y=\"780.293\">0.50</text>\n",
       "</g>\n",
       "<g clip-path=\"url(#clip9900)\">\n",
       "<text style=\"fill:#000000; fill-opacity:1; font-family:Arial,Helvetica Neue,Helvetica,sans-serif; font-size:48px; text-anchor:end;\" transform=\"rotate(0, 156.66, 438.322)\" x=\"156.66\" y=\"438.322\">0.75</text>\n",
       "</g>\n",
       "<g clip-path=\"url(#clip9900)\">\n",
       "<text style=\"fill:#000000; fill-opacity:1; font-family:Arial,Helvetica Neue,Helvetica,sans-serif; font-size:48px; text-anchor:end;\" transform=\"rotate(0, 156.66, 96.3503)\" x=\"156.66\" y=\"96.3503\">1.00</text>\n",
       "</g>\n",
       "<polyline clip-path=\"url(#clip9902)\" style=\"stroke:#009af9; stroke-width:4; stroke-opacity:1; fill:none\" points=\"\n",
       "  242.135,1422.13 267.749,1419.6 293.363,1416.81 318.978,1413.73 344.592,1410.35 370.206,1406.64 395.821,1402.56 421.435,1398.08 447.049,1393.16 472.664,1387.77 \n",
       "  498.278,1381.86 523.892,1375.4 549.507,1368.32 575.121,1360.6 600.735,1352.16 626.35,1342.97 651.964,1332.97 677.578,1322.09 703.193,1310.29 728.807,1297.5 \n",
       "  754.421,1283.68 780.036,1268.76 805.65,1252.7 831.264,1235.45 856.879,1216.96 882.493,1197.2 908.107,1176.15 933.722,1153.78 959.336,1130.1 984.95,1105.12 \n",
       "  1010.56,1078.86 1036.18,1051.35 1061.79,1022.66 1087.41,992.855 1113.02,962.035 1138.64,930.304 1164.25,897.787 1189.87,864.622 1215.48,830.961 1241.09,796.962 \n",
       "  1266.71,762.793 1292.32,728.625 1317.94,694.626 1343.55,660.964 1369.17,627.8 1394.78,595.283 1420.39,563.552 1446.01,532.732 1471.62,502.93 1497.24,474.238 \n",
       "  1522.85,446.731 1548.47,420.466 1574.08,395.482 1599.69,371.804 1625.31,349.44 1650.92,328.388 1676.54,308.63 1702.15,290.141 1727.77,272.886 1753.38,256.824 \n",
       "  1778.99,241.906 1804.61,228.082 1830.22,215.298 1855.84,203.496 1881.45,192.621 1907.07,182.616 1932.68,173.424 1958.3,164.991 1983.91,157.263 2009.52,150.19 \n",
       "  2035.14,143.723 2060.75,137.816 2086.37,132.425 2111.98,127.508 2137.6,123.027 2163.21,118.946 2188.82,115.232 2214.44,111.853 2240.05,108.781 2265.67,105.99 \n",
       "  2291.28,103.453 \n",
       "  \"/>\n",
       "<polyline clip-path=\"url(#clip9902)\" style=\"stroke:#e26f46; stroke-width:4; stroke-opacity:1; fill:none\" points=\"\n",
       "  242.135,1446.71 267.749,1446.71 293.363,1446.7 318.978,1446.69 344.592,1446.69 370.206,1446.67 395.821,1446.66 421.435,1446.64 447.049,1446.62 472.664,1446.6 \n",
       "  498.278,1446.57 523.892,1446.53 549.507,1446.48 575.121,1446.43 600.735,1446.36 626.35,1446.28 651.964,1446.18 677.578,1446.05 703.193,1445.9 728.807,1445.72 \n",
       "  754.421,1445.49 780.036,1445.21 805.65,1444.88 831.264,1444.47 856.879,1443.97 882.493,1443.35 908.107,1442.61 933.722,1441.7 959.336,1440.59 984.95,1439.23 \n",
       "  1010.56,1437.58 1036.18,1435.57 1061.79,1433.12 1087.41,1430.15 1113.02,1426.53 1138.64,1422.13 1164.25,1416.81 1189.87,1410.35 1215.48,1402.56 1241.09,1393.16 \n",
       "  1266.71,1381.86 1292.32,1368.32 1317.94,1352.16 1343.55,1332.97 1369.17,1310.29 1394.78,1283.68 1420.39,1252.7 1446.01,1216.96 1471.62,1176.15 1497.24,1130.1 \n",
       "  1522.85,1078.86 1548.47,1022.66 1574.08,962.035 1599.69,897.787 1625.31,830.961 1650.92,762.793 1676.54,694.626 1702.15,627.8 1727.77,563.552 1753.38,502.93 \n",
       "  1778.99,446.731 1804.61,395.482 1830.22,349.44 1855.84,308.63 1881.45,272.886 1907.07,241.906 1932.68,215.298 1958.3,192.621 1983.91,173.424 2009.52,157.263 \n",
       "  2035.14,143.723 2060.75,132.425 2086.37,123.027 2111.98,115.232 2137.6,108.781 2163.21,103.453 2188.82,99.0595 2214.44,95.4406 2240.05,92.4632 2265.67,90.0157 \n",
       "  2291.28,88.0053 \n",
       "  \"/>\n",
       "<polyline clip-path=\"url(#clip9902)\" style=\"stroke:#3da44d; stroke-width:4; stroke-opacity:1; fill:none\" points=\"\n",
       "  242.135,1078.86 267.749,1065.25 293.363,1051.35 318.978,1037.15 344.592,1022.66 370.206,1007.89 395.821,992.855 421.435,977.566 447.049,962.035 472.664,946.276 \n",
       "  498.278,930.304 523.892,914.135 549.507,897.787 575.121,881.276 600.735,864.622 626.35,847.844 651.964,830.961 677.578,813.993 703.193,796.962 728.807,779.888 \n",
       "  754.421,762.793 780.036,745.698 805.65,728.625 831.264,711.594 856.879,694.626 882.493,677.743 908.107,660.964 933.722,644.31 959.336,627.8 984.95,611.451 \n",
       "  1010.56,595.283 1036.18,579.311 1061.79,563.552 1087.41,548.021 1113.02,532.732 1138.64,517.697 1164.25,502.93 1189.87,488.44 1215.48,474.238 1241.09,460.333 \n",
       "  1266.71,446.731 1292.32,433.441 1317.94,420.466 1343.55,407.812 1369.17,395.482 1394.78,383.479 1420.39,371.804 1446.01,360.457 1471.62,349.44 1497.24,338.751 \n",
       "  1522.85,328.388 1548.47,318.348 1574.08,308.63 1599.69,299.229 1625.31,290.141 1650.92,281.362 1676.54,272.886 1702.15,264.709 1727.77,256.824 1753.38,249.225 \n",
       "  1778.99,241.906 1804.61,234.861 1830.22,228.082 1855.84,221.564 1881.45,215.298 1907.07,209.277 1932.68,203.496 1958.3,197.946 1983.91,192.621 2009.52,187.513 \n",
       "  2035.14,182.616 2060.75,177.921 2086.37,173.424 2111.98,169.116 2137.6,164.991 2163.21,161.042 2188.82,157.263 2214.44,153.648 2240.05,150.19 2265.67,146.884 \n",
       "  2291.28,143.723 \n",
       "  \"/>\n",
       "<polygon clip-path=\"url(#clip9900)\" points=\"\n",
       "1433.55,1343.47 2280.76,1343.47 2280.76,1101.55 1433.55,1101.55 \n",
       "  \" fill=\"#ffffff\" fill-rule=\"evenodd\" fill-opacity=\"1\"/>\n",
       "<polyline clip-path=\"url(#clip9900)\" style=\"stroke:#000000; stroke-width:4; stroke-opacity:1; fill:none\" points=\"\n",
       "  1433.55,1343.47 2280.76,1343.47 2280.76,1101.55 1433.55,1101.55 1433.55,1343.47 \n",
       "  \"/>\n",
       "<polyline clip-path=\"url(#clip9900)\" style=\"stroke:#009af9; stroke-width:4; stroke-opacity:1; fill:none\" points=\"\n",
       "  1457.55,1162.03 1601.55,1162.03 \n",
       "  \"/>\n",
       "<g clip-path=\"url(#clip9900)\">\n",
       "<text style=\"fill:#000000; fill-opacity:1; font-family:Arial,Helvetica Neue,Helvetica,sans-serif; font-size:48px; text-anchor:start;\" transform=\"rotate(0, 1625.55, 1179.53)\" x=\"1625.55\" y=\"1179.53\">standard</text>\n",
       "</g>\n",
       "<polyline clip-path=\"url(#clip9900)\" style=\"stroke:#e26f46; stroke-width:4; stroke-opacity:1; fill:none\" points=\"\n",
       "  1457.55,1222.51 1601.55,1222.51 \n",
       "  \"/>\n",
       "<g clip-path=\"url(#clip9900)\">\n",
       "<text style=\"fill:#000000; fill-opacity:1; font-family:Arial,Helvetica Neue,Helvetica,sans-serif; font-size:48px; text-anchor:start;\" transform=\"rotate(0, 1625.55, 1240.01)\" x=\"1625.55\" y=\"1240.01\">difficult &amp; high discrimination</text>\n",
       "</g>\n",
       "<polyline clip-path=\"url(#clip9900)\" style=\"stroke:#3da44d; stroke-width:4; stroke-opacity:1; fill:none\" points=\"\n",
       "  1457.55,1282.99 1601.55,1282.99 \n",
       "  \"/>\n",
       "<g clip-path=\"url(#clip9900)\">\n",
       "<text style=\"fill:#000000; fill-opacity:1; font-family:Arial,Helvetica Neue,Helvetica,sans-serif; font-size:48px; text-anchor:start;\" transform=\"rotate(0, 1625.55, 1300.49)\" x=\"1625.55\" y=\"1300.49\">easy &amp; low discrimination</text>\n",
       "</g>\n",
       "</svg>\n"
      ]
     },
     "execution_count": 27,
     "metadata": {},
     "output_type": "execute_result"
    }
   ],
   "source": [
    "using Distributions, Random, StatsFuns, Plots\n",
    "\n",
    "function icc2pl(θ, α, β)\n",
    "    x = α * (θ - β)\n",
    "    p = logistic(x)\n",
    "    p\n",
    "end\n",
    "\n",
    "theta = collect(-4:0.1:4)\n",
    "icc = zeros(length(theta),3)\n",
    "for i in 1:length(theta)\n",
    "    icc[i,1] = icc2pl(theta[i], 1.0, 0.0) # 標準的な難しさ，識別具合の項目\n",
    "    icc[i,2] = icc2pl(theta[i], 2.0, 1.5) # 難しくて，識別も良い\n",
    "    icc[i,3] = icc2pl(theta[i], 0.5, -2.0) # 易しくて，あんまり識別できない\n",
    "end\n",
    "plot(theta, icc[:,1], label = \"standard\", legend=:bottomright)\n",
    "plot!(theta, icc[:,2], label = \"difficult & high discrimination\", legend=:bottomright)\n",
    "plot!(theta, icc[:,3], label = \"easy & low discrimination\", legend=:bottomright)"
   ]
  },
  {
   "cell_type": "markdown",
   "metadata": {},
   "source": [
    "### コード改善点\n",
    "\n",
    "改善すべき点は2点\n",
    "\n",
    "- icc2plの型指定をはずす\n",
    "- Eステップ計算内のifelseを三項演算子に変更する。\n",
    "\n",
    "理由は（おそらく）\n",
    "\n",
    "<blockquote class=\"twitter-tweet\" data-lang=\"ja\"><p lang=\"ja\" dir=\"ltr\"><a href=\"https://twitter.com/hashtag/Julia%E8%A8%80%E8%AA%9E?src=hash&amp;ref_src=twsrc%5Etfw\">#Julia言語</a> 変数に型が付いているのではなく、変数が格納しているモノに型がついている感じ。<br><br>函数の引数に型宣言が無くても、引数に具体的な数値が代入されて型が決まると、そこから芋づる式に残りの変数が格納しているモノの型が決まって行くように書くのがJulia言語のスタイルです。</p>&mdash; 黒木玄 Gen Kuroki (@genkuroki) <a href=\"https://twitter.com/genkuroki/status/953178285856382977?ref_src=twsrc%5Etfw\">2018年1月16日</a></blockquote>\n",
    "<script async src=\"https://platform.twitter.com/widgets.js\" charset=\"utf-8\"></script>\n",
    "\n",
    "※ただし一部のコードでは型指定しない方がおそいらしい。\n",
    "\n",
    "こういうことと，\n",
    "\n",
    "<blockquote class=\"twitter-tweet\" data-lang=\"ja\"><p lang=\"ja\" dir=\"ltr\">Juliaには遅延・正格評価の区別はなく、関数に渡されるすべての引数は呼び出し前に評価されるので、ifelseという関数を使うと、条件が真偽どちらであっても第2・第3引数が両方評価されます。コンパイラが賢ければ2つのicc2plが同じ結果を返すと判断して1度の評価に最適化できるかもしれませんが…</p>&mdash; (｢・ω・)｢ｶﾞｵｰ (@bicycle1885) <a href=\"https://twitter.com/bicycle1885/status/1145873361731346434?ref_src=twsrc%5Etfw\">2019年7月2日</a></blockquote>\n",
    "<script async src=\"https://platform.twitter.com/widgets.js\" charset=\"utf-8\"></script>\n",
    "\n",
    "こういうことであった。高速化に関しては黒木さん(@GenKuroki)の資料\n",
    "https://nbviewer.jupyter.org/gist/genkuroki/1ac59bb3e03eac12945d7040d4f98246\n",
    "にまとめられています。まだまだ知らないことがいっぱいでした。"
   ]
  },
  {
   "cell_type": "code",
   "execution_count": 28,
   "metadata": {},
   "outputs": [],
   "source": [
    "struct simgenClass2\n",
    "    resp::Array{Int64,2}\n",
    "    θ::Array{Float64,1}\n",
    "    α::Array{Float64,1}\n",
    "    β::Array{Float64,1}\n",
    "end\n",
    "\n",
    "function resgen_bin(N::Int, J::Int)\n",
    "    θ = rand(Normal(), N)\n",
    "    α = rand(LogNormal(), J)\n",
    "    β = rand(Normal(-1, 1), J)\n",
    "    resp = zeros(Int64, length(θ), length(α))\n",
    "    for i in 1:length(θ)\n",
    "        for j in 1:length(α)\n",
    "            resp[i, j] = ifelse(rand() > icc2pl(θ[i], α[j], β[j]), 0, 1)\n",
    "        end\n",
    "    end\n",
    "    simgenClass2(resp, θ, α, β)\n",
    "end\n",
    "\n",
    "N = 50_000\n",
    "J = 50\n",
    "resp = resgen_bin(N, J)\n",
    "\n",
    "\n",
    "struct EstepClass2\n",
    "    resp::Array{Int64,2}\n",
    "    θ::Array{Float64,1}\n",
    "    α::Array{Float64,1}\n",
    "    β::Array{Float64,1}\n",
    "    Gim::Array{Float64,2}\n",
    "    Lim::Array{Float64,2}\n",
    "end"
   ]
  },
  {
   "cell_type": "markdown",
   "metadata": {},
   "source": [
    "### 関数の定義\n",
    "\n",
    "まずは前回と同様の関数を定義"
   ]
  },
  {
   "cell_type": "code",
   "execution_count": 49,
   "metadata": {},
   "outputs": [
    {
     "data": {
      "text/plain": [
       "Estep_1 (generic function with 1 method)"
      ]
     },
     "execution_count": 49,
     "metadata": {},
     "output_type": "execute_result"
    }
   ],
   "source": [
    "function icc2pl_slow(θ::Float64, α::Float64, β::Float64)::Float64\n",
    "    x::Float64 = α * (θ - β)\n",
    "    p::Float64 = StatsFuns.logistic(x)\n",
    "    p\n",
    "end\n",
    "\n",
    "function Estep_1(N::Int, J::Int, M::Int)\n",
    "    by = (4-(-4))/M\n",
    "    xq = collect(-4:by:4)\n",
    "    aq = pdf.(Normal(), xq) ./ sum(pdf.(Normal(), xq))\n",
    "    L = zeros(N, length(xq))\n",
    "    Gim = zeros(N, length(xq))\n",
    "    # sim data gen\n",
    "    resp = resgen_bin(N, J)\n",
    "    x = resp.resp\n",
    "    α = resp.α\n",
    "    β = resp.β\n",
    "    for m in 1:length(xq)\n",
    "        # println(\"NOW...\", m)\n",
    "        for i in 1:N\n",
    "            Li = zeros(J)\n",
    "            for j in 1:J\n",
    "                Li[j] = ifelse(x[i, j] == 1, icc2pl_slow(xq[m], α[j], β[j]), 1 - icc2pl_slow(xq[m], α[j], β[j]))\n",
    "            end\n",
    "            L[i, m] = prod(Li)\n",
    "            Gim[i,m] = L[i,m] * aq[m]\n",
    "        end\n",
    "        if(m == length(xq))\n",
    "            for i in 1:N\n",
    "                Gim[i,m] = Gim[i,m]/sum(Gim[i,:])\n",
    "            end\n",
    "        end\n",
    "    end\n",
    "    # EstepClass2(x, θ, α, β, Gim, L)\n",
    "end"
   ]
  },
  {
   "cell_type": "markdown",
   "metadata": {},
   "source": [
    "次に三項演算子に変えたやつ。"
   ]
  },
  {
   "cell_type": "code",
   "execution_count": 50,
   "metadata": {},
   "outputs": [
    {
     "data": {
      "text/plain": [
       "Estep_2 (generic function with 1 method)"
      ]
     },
     "execution_count": 50,
     "metadata": {},
     "output_type": "execute_result"
    }
   ],
   "source": [
    "function Estep_2(N::Int, J::Int, M::Int)\n",
    "    by = (4-(-4))/M\n",
    "    xq = collect(-4:by:4)\n",
    "    aq = pdf.(Normal(), xq) ./ sum(pdf.(Normal(), xq))\n",
    "    L = zeros(N, length(xq))\n",
    "    Gim = zeros(N, length(xq))\n",
    "    # sim data gen\n",
    "    resp = resgen_bin(N, J)\n",
    "    x = resp.resp\n",
    "    α = resp.α\n",
    "    β = resp.β\n",
    "    for m in 1:length(xq)\n",
    "        # println(\"NOW...\", m)\n",
    "        for i in 1:N\n",
    "            Li = zeros(J)\n",
    "            for j in 1:J\n",
    "                Li[j] = x[i, j] == 1 ? icc2pl_slow(xq[m], α[j], β[j]) : 1 - icc2pl_slow(xq[m], α[j], β[j])\n",
    "            end\n",
    "            L[i, m] = prod(Li)\n",
    "            Gim[i,m] = L[i,m] * aq[m]\n",
    "        end\n",
    "        if(m == length(xq))\n",
    "            for i in 1:N\n",
    "                Gim[i,m] = Gim[i,m]/sum(Gim[i,:])\n",
    "            end\n",
    "        end\n",
    "    end\n",
    "    # EstepClass2(x, θ, α, β, Gim, L)\n",
    "end"
   ]
  },
  {
   "cell_type": "markdown",
   "metadata": {},
   "source": [
    "次に関数の型指定をはずしただけのやつ"
   ]
  },
  {
   "cell_type": "code",
   "execution_count": 51,
   "metadata": {},
   "outputs": [
    {
     "data": {
      "text/plain": [
       "Estep_3 (generic function with 1 method)"
      ]
     },
     "execution_count": 51,
     "metadata": {},
     "output_type": "execute_result"
    }
   ],
   "source": [
    "function Estep_3(N::Int, J::Int, M::Int)\n",
    "    by = (4-(-4))/M\n",
    "    xq = collect(-4:by:4)\n",
    "    aq = pdf.(Normal(), xq) ./ sum(pdf.(Normal(), xq))\n",
    "    L = zeros(N, length(xq))\n",
    "    Gim = zeros(N, length(xq))\n",
    "    # sim data gen\n",
    "    resp = resgen_bin(N, J)\n",
    "    x = resp.resp\n",
    "    α = resp.α\n",
    "    β = resp.β\n",
    "    for m in 1:length(xq)\n",
    "        # println(\"NOW...\", m)\n",
    "        for i in 1:N\n",
    "            Li = zeros(J)\n",
    "            for j in 1:J\n",
    "                Li[j] = ifelse(x[i, j] == 1, icc2pl(xq[m], α[j], β[j]), 1 - icc2pl(xq[m], α[j], β[j]))\n",
    "            end\n",
    "            L[i, m] = prod(Li)\n",
    "            Gim[i,m] = L[i,m] * aq[m]\n",
    "        end\n",
    "        if(m == length(xq))\n",
    "            for i in 1:N\n",
    "                Gim[i,m] = Gim[i,m]/sum(Gim[i,:])\n",
    "            end\n",
    "        end\n",
    "    end\n",
    "    # EstepClass2(x, θ, α, β, Gim, L)\n",
    "end"
   ]
  },
  {
   "cell_type": "markdown",
   "metadata": {},
   "source": [
    "最後に全部のせ"
   ]
  },
  {
   "cell_type": "code",
   "execution_count": 52,
   "metadata": {},
   "outputs": [
    {
     "data": {
      "text/plain": [
       "Estep_4 (generic function with 1 method)"
      ]
     },
     "execution_count": 52,
     "metadata": {},
     "output_type": "execute_result"
    }
   ],
   "source": [
    "function Estep_4(N::Int, J::Int, M::Int)\n",
    "    by = (4-(-4))/M\n",
    "    xq = collect(-4:by:4)\n",
    "    aq = pdf.(Normal(), xq) ./ sum(pdf.(Normal(), xq))\n",
    "    L = zeros(N, length(xq))\n",
    "    Gim = zeros(N, length(xq))\n",
    "    # sim data gen\n",
    "    resp = resgen_bin(N, J)\n",
    "    x = resp.resp\n",
    "    α = resp.α\n",
    "    β = resp.β\n",
    "    for m in 1:length(xq)\n",
    "        # println(\"NOW...\", m)\n",
    "        for i in 1:N\n",
    "            Li = zeros(J)\n",
    "            for j in 1:J\n",
    "                Li[j] = x[i, j] == 1 ? icc2pl(xq[m], α[j], β[j]) : 1 - icc2pl(xq[m], α[j], β[j])\n",
    "            end\n",
    "            L[i, m] = prod(Li)\n",
    "            Gim[i,m] = L[i,m] * aq[m]\n",
    "        end\n",
    "        if(m == length(xq))\n",
    "            for i in 1:N\n",
    "                Gim[i,m] = Gim[i,m]/sum(Gim[i,:])\n",
    "            end\n",
    "        end\n",
    "    end\n",
    "    # EstepClass2(x, θ, α, β, Gim, L)\n",
    "end"
   ]
  },
  {
   "cell_type": "markdown",
   "metadata": {},
   "source": [
    "### ベンチマーク\n",
    "\n",
    "10回の繰り返しをおこない，その代表値をみる。デフォルトの`second`設定だと，秒数が短すぎて`sample`回数に達しないので，少し長めにとる。"
   ]
  },
  {
   "cell_type": "code",
   "execution_count": 53,
   "metadata": {},
   "outputs": [
    {
     "data": {
      "text/plain": [
       "10"
      ]
     },
     "execution_count": 53,
     "metadata": {},
     "output_type": "execute_result"
    }
   ],
   "source": [
    "using BenchmarkTools\n",
    "BenchmarkTools.DEFAULT_PARAMETERS.seconds = 100\n",
    "BenchmarkTools.DEFAULT_PARAMETERS.samples = 10"
   ]
  },
  {
   "cell_type": "code",
   "execution_count": 45,
   "metadata": {},
   "outputs": [
    {
     "data": {
      "text/plain": [
       "BenchmarkTools.Trial: \n",
       "  memory estimate:  792.35 MiB\n",
       "  allocs estimate:  1602537\n",
       "  --------------\n",
       "  minimum time:     2.196 s (1.30% GC)\n",
       "  median time:      2.317 s (5.49% GC)\n",
       "  mean time:        2.381 s (4.03% GC)\n",
       "  maximum time:     3.151 s (5.94% GC)\n",
       "  --------------\n",
       "  samples:          10\n",
       "  evals/sample:     1"
      ]
     },
     "execution_count": 45,
     "metadata": {},
     "output_type": "execute_result"
    }
   ],
   "source": [
    "@benchmark Estep_1(50000, 50, 30) # まずは前回と同様の関数を定義"
   ]
  },
  {
   "cell_type": "code",
   "execution_count": 46,
   "metadata": {},
   "outputs": [
    {
     "data": {
      "text/plain": [
       "BenchmarkTools.Trial: \n",
       "  memory estimate:  792.35 MiB\n",
       "  allocs estimate:  1602411\n",
       "  --------------\n",
       "  minimum time:     1.637 s (1.80% GC)\n",
       "  median time:      1.706 s (7.57% GC)\n",
       "  mean time:        1.740 s (5.42% GC)\n",
       "  maximum time:     1.972 s (6.99% GC)\n",
       "  --------------\n",
       "  samples:          10\n",
       "  evals/sample:     1"
      ]
     },
     "execution_count": 46,
     "metadata": {},
     "output_type": "execute_result"
    }
   ],
   "source": [
    "@benchmark Estep_2(50000, 50, 30) # 次に三項演算子に変えたやつ。"
   ]
  },
  {
   "cell_type": "code",
   "execution_count": 54,
   "metadata": {},
   "outputs": [
    {
     "data": {
      "text/plain": [
       "BenchmarkTools.Trial: \n",
       "  memory estimate:  792.35 MiB\n",
       "  allocs estimate:  1602357\n",
       "  --------------\n",
       "  minimum time:     2.413 s (1.25% GC)\n",
       "  median time:      2.548 s (5.32% GC)\n",
       "  mean time:        2.526 s (3.82% GC)\n",
       "  maximum time:     2.629 s (5.39% GC)\n",
       "  --------------\n",
       "  samples:          10\n",
       "  evals/sample:     1"
      ]
     },
     "execution_count": 54,
     "metadata": {},
     "output_type": "execute_result"
    }
   ],
   "source": [
    "@benchmark Estep_3(50000, 50, 30) # 次に関数の型指定をはずしただけのやつ"
   ]
  },
  {
   "cell_type": "code",
   "execution_count": 48,
   "metadata": {},
   "outputs": [
    {
     "data": {
      "text/plain": [
       "BenchmarkTools.Trial: \n",
       "  memory estimate:  792.35 MiB\n",
       "  allocs estimate:  1602521\n",
       "  --------------\n",
       "  minimum time:     1.588 s (1.82% GC)\n",
       "  median time:      1.695 s (7.43% GC)\n",
       "  mean time:        1.693 s (5.44% GC)\n",
       "  maximum time:     1.840 s (8.10% GC)\n",
       "  --------------\n",
       "  samples:          10\n",
       "  evals/sample:     1"
      ]
     },
     "execution_count": 48,
     "metadata": {},
     "output_type": "execute_result"
    }
   ],
   "source": [
    "@benchmark Estep_4(50000, 50, 30) # 最後に全部のせ"
   ]
  },
  {
   "cell_type": "markdown",
   "metadata": {},
   "source": [
    "Estep_4のどちらかが最も高速であるという結果。特に，型指定はそこまで高速化に影響しないが，三項演算子はかなり有用であると言えそう。\n",
    "\n",
    "当初のスクリプトよりもずいぶん速くなりました。コメントありがとうございます。とてもうれしかったです。"
   ]
  }
 ],
 "metadata": {
  "kernelspec": {
   "display_name": "Julia 1.1.1",
   "language": "julia",
   "name": "julia-1.1"
  },
  "language_info": {
   "file_extension": ".jl",
   "mimetype": "application/julia",
   "name": "julia",
   "version": "1.1.1"
  }
 },
 "nbformat": 4,
 "nbformat_minor": 2
}

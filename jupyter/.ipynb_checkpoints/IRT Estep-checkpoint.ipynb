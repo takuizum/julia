{
 "cells": [
  {
   "cell_type": "markdown",
   "metadata": {},
   "source": [
    "プロットに使うパラメタと関数の定義"
   ]
  },
  {
   "cell_type": "code",
   "execution_count": 3,
   "metadata": {},
   "outputs": [
    {
     "data": {
      "text/plain": [
       "30-element Array{Float64,1}:\n",
       "  0.7306791159589043   \n",
       " -0.7430014836111993   \n",
       "  0.0065699087523114486\n",
       " -1.2253098631885349   \n",
       " -0.5689433854031843   \n",
       " -2.836350550585398    \n",
       "  1.0195005210759644   \n",
       "  0.3225894410304151   \n",
       " -0.7582089213982125   \n",
       " -1.6545436785461791   \n",
       " -0.277129278176519    \n",
       " -1.2418876237744703   \n",
       " -1.7205639705400269   \n",
       "  ⋮                    \n",
       "  0.1505327415444162   \n",
       "  0.11184653919146581  \n",
       " -0.2001939897607311   \n",
       " -0.40163062539511907  \n",
       " -0.9600102390995469   \n",
       " -3.225146468221817    \n",
       " -1.5970914219106818   \n",
       " -2.166857743704232    \n",
       " -0.3846653385901936   \n",
       "  0.8195396140570996   \n",
       " -0.7306488956773176   \n",
       " -0.8292003185120981   "
      ]
     },
     "execution_count": 3,
     "metadata": {},
     "output_type": "execute_result"
    }
   ],
   "source": [
    "using Distributions, Random, StatsFuns, Plots\n",
    "θ = rand(Normal(), 5000)\n",
    "α = rand(LogNormal(), 30)\n",
    "β = rand(Normal(-1, 1), 30)"
   ]
  },
  {
   "cell_type": "code",
   "execution_count": 4,
   "metadata": {},
   "outputs": [
    {
     "data": {
      "text/plain": [
       "icc2pl (generic function with 1 method)"
      ]
     },
     "execution_count": 4,
     "metadata": {},
     "output_type": "execute_result"
    }
   ],
   "source": [
    "function icc2pl(θ::Float64, α::Float64, β::Float64)::Float64\n",
    "    x::Float64 = α * (θ - β)\n",
    "    p::Float64 = StatsFuns.logistic(x)\n",
    "    p\n",
    "end"
   ]
  },
  {
   "cell_type": "markdown",
   "metadata": {},
   "source": [
    "もっと賢い書き方もある気がするけど，とりあえず愚直にforを回す。"
   ]
  },
  {
   "cell_type": "code",
   "execution_count": 5,
   "metadata": {},
   "outputs": [
    {
     "data": {
      "image/svg+xml": [
       "<?xml version=\"1.0\" encoding=\"utf-8\"?>\n",
       "<svg xmlns=\"http://www.w3.org/2000/svg\" xmlns:xlink=\"http://www.w3.org/1999/xlink\" width=\"600\" height=\"400\" viewBox=\"0 0 2400 1600\">\n",
       "<defs>\n",
       "  <clipPath id=\"clip0600\">\n",
       "    <rect x=\"0\" y=\"0\" width=\"2400\" height=\"1600\"/>\n",
       "  </clipPath>\n",
       "</defs>\n",
       "<polygon clip-path=\"url(#clip0600)\" points=\"\n",
       "0,1600 2400,1600 2400,0 0,0 \n",
       "  \" fill=\"#ffffff\" fill-rule=\"evenodd\" fill-opacity=\"1\"/>\n",
       "<defs>\n",
       "  <clipPath id=\"clip0601\">\n",
       "    <rect x=\"480\" y=\"0\" width=\"1681\" height=\"1600\"/>\n",
       "  </clipPath>\n",
       "</defs>\n",
       "<polygon clip-path=\"url(#clip0600)\" points=\"\n",
       "180.66,1487.47 2352.76,1487.47 2352.76,47.2441 180.66,47.2441 \n",
       "  \" fill=\"#ffffff\" fill-rule=\"evenodd\" fill-opacity=\"1\"/>\n",
       "<defs>\n",
       "  <clipPath id=\"clip0602\">\n",
       "    <rect x=\"180\" y=\"47\" width=\"2173\" height=\"1441\"/>\n",
       "  </clipPath>\n",
       "</defs>\n",
       "<polyline clip-path=\"url(#clip0602)\" style=\"stroke:#000000; stroke-width:2; stroke-opacity:0.1; fill:none\" points=\"\n",
       "  242.135,1487.47 242.135,47.2441 \n",
       "  \"/>\n",
       "<polyline clip-path=\"url(#clip0602)\" style=\"stroke:#000000; stroke-width:2; stroke-opacity:0.1; fill:none\" points=\"\n",
       "  754.421,1487.47 754.421,47.2441 \n",
       "  \"/>\n",
       "<polyline clip-path=\"url(#clip0602)\" style=\"stroke:#000000; stroke-width:2; stroke-opacity:0.1; fill:none\" points=\"\n",
       "  1266.71,1487.47 1266.71,47.2441 \n",
       "  \"/>\n",
       "<polyline clip-path=\"url(#clip0602)\" style=\"stroke:#000000; stroke-width:2; stroke-opacity:0.1; fill:none\" points=\"\n",
       "  1778.99,1487.47 1778.99,47.2441 \n",
       "  \"/>\n",
       "<polyline clip-path=\"url(#clip0602)\" style=\"stroke:#000000; stroke-width:2; stroke-opacity:0.1; fill:none\" points=\"\n",
       "  2291.28,1487.47 2291.28,47.2441 \n",
       "  \"/>\n",
       "<polyline clip-path=\"url(#clip0602)\" style=\"stroke:#000000; stroke-width:2; stroke-opacity:0.1; fill:none\" points=\"\n",
       "  180.66,1472.06 2352.76,1472.06 \n",
       "  \"/>\n",
       "<polyline clip-path=\"url(#clip0602)\" style=\"stroke:#000000; stroke-width:2; stroke-opacity:0.1; fill:none\" points=\"\n",
       "  180.66,1119.71 2352.76,1119.71 \n",
       "  \"/>\n",
       "<polyline clip-path=\"url(#clip0602)\" style=\"stroke:#000000; stroke-width:2; stroke-opacity:0.1; fill:none\" points=\"\n",
       "  180.66,767.359 2352.76,767.359 \n",
       "  \"/>\n",
       "<polyline clip-path=\"url(#clip0602)\" style=\"stroke:#000000; stroke-width:2; stroke-opacity:0.1; fill:none\" points=\"\n",
       "  180.66,415.007 2352.76,415.007 \n",
       "  \"/>\n",
       "<polyline clip-path=\"url(#clip0602)\" style=\"stroke:#000000; stroke-width:2; stroke-opacity:0.1; fill:none\" points=\"\n",
       "  180.66,62.6554 2352.76,62.6554 \n",
       "  \"/>\n",
       "<polyline clip-path=\"url(#clip0600)\" style=\"stroke:#000000; stroke-width:4; stroke-opacity:1; fill:none\" points=\"\n",
       "  180.66,1487.47 2352.76,1487.47 \n",
       "  \"/>\n",
       "<polyline clip-path=\"url(#clip0600)\" style=\"stroke:#000000; stroke-width:4; stroke-opacity:1; fill:none\" points=\"\n",
       "  180.66,1487.47 180.66,47.2441 \n",
       "  \"/>\n",
       "<polyline clip-path=\"url(#clip0600)\" style=\"stroke:#000000; stroke-width:4; stroke-opacity:1; fill:none\" points=\"\n",
       "  242.135,1487.47 242.135,1465.87 \n",
       "  \"/>\n",
       "<polyline clip-path=\"url(#clip0600)\" style=\"stroke:#000000; stroke-width:4; stroke-opacity:1; fill:none\" points=\"\n",
       "  754.421,1487.47 754.421,1465.87 \n",
       "  \"/>\n",
       "<polyline clip-path=\"url(#clip0600)\" style=\"stroke:#000000; stroke-width:4; stroke-opacity:1; fill:none\" points=\"\n",
       "  1266.71,1487.47 1266.71,1465.87 \n",
       "  \"/>\n",
       "<polyline clip-path=\"url(#clip0600)\" style=\"stroke:#000000; stroke-width:4; stroke-opacity:1; fill:none\" points=\"\n",
       "  1778.99,1487.47 1778.99,1465.87 \n",
       "  \"/>\n",
       "<polyline clip-path=\"url(#clip0600)\" style=\"stroke:#000000; stroke-width:4; stroke-opacity:1; fill:none\" points=\"\n",
       "  2291.28,1487.47 2291.28,1465.87 \n",
       "  \"/>\n",
       "<polyline clip-path=\"url(#clip0600)\" style=\"stroke:#000000; stroke-width:4; stroke-opacity:1; fill:none\" points=\"\n",
       "  180.66,1472.06 213.242,1472.06 \n",
       "  \"/>\n",
       "<polyline clip-path=\"url(#clip0600)\" style=\"stroke:#000000; stroke-width:4; stroke-opacity:1; fill:none\" points=\"\n",
       "  180.66,1119.71 213.242,1119.71 \n",
       "  \"/>\n",
       "<polyline clip-path=\"url(#clip0600)\" style=\"stroke:#000000; stroke-width:4; stroke-opacity:1; fill:none\" points=\"\n",
       "  180.66,767.359 213.242,767.359 \n",
       "  \"/>\n",
       "<polyline clip-path=\"url(#clip0600)\" style=\"stroke:#000000; stroke-width:4; stroke-opacity:1; fill:none\" points=\"\n",
       "  180.66,415.007 213.242,415.007 \n",
       "  \"/>\n",
       "<polyline clip-path=\"url(#clip0600)\" style=\"stroke:#000000; stroke-width:4; stroke-opacity:1; fill:none\" points=\"\n",
       "  180.66,62.6554 213.242,62.6554 \n",
       "  \"/>\n",
       "<g clip-path=\"url(#clip0600)\">\n",
       "<text style=\"fill:#000000; fill-opacity:1; font-family:Arial,Helvetica Neue,Helvetica,sans-serif; font-size:48px; text-anchor:middle;\" transform=\"rotate(0, 242.135, 1541.47)\" x=\"242.135\" y=\"1541.47\">-4</text>\n",
       "</g>\n",
       "<g clip-path=\"url(#clip0600)\">\n",
       "<text style=\"fill:#000000; fill-opacity:1; font-family:Arial,Helvetica Neue,Helvetica,sans-serif; font-size:48px; text-anchor:middle;\" transform=\"rotate(0, 754.421, 1541.47)\" x=\"754.421\" y=\"1541.47\">-2</text>\n",
       "</g>\n",
       "<g clip-path=\"url(#clip0600)\">\n",
       "<text style=\"fill:#000000; fill-opacity:1; font-family:Arial,Helvetica Neue,Helvetica,sans-serif; font-size:48px; text-anchor:middle;\" transform=\"rotate(0, 1266.71, 1541.47)\" x=\"1266.71\" y=\"1541.47\">0</text>\n",
       "</g>\n",
       "<g clip-path=\"url(#clip0600)\">\n",
       "<text style=\"fill:#000000; fill-opacity:1; font-family:Arial,Helvetica Neue,Helvetica,sans-serif; font-size:48px; text-anchor:middle;\" transform=\"rotate(0, 1778.99, 1541.47)\" x=\"1778.99\" y=\"1541.47\">2</text>\n",
       "</g>\n",
       "<g clip-path=\"url(#clip0600)\">\n",
       "<text style=\"fill:#000000; fill-opacity:1; font-family:Arial,Helvetica Neue,Helvetica,sans-serif; font-size:48px; text-anchor:middle;\" transform=\"rotate(0, 2291.28, 1541.47)\" x=\"2291.28\" y=\"1541.47\">4</text>\n",
       "</g>\n",
       "<g clip-path=\"url(#clip0600)\">\n",
       "<text style=\"fill:#000000; fill-opacity:1; font-family:Arial,Helvetica Neue,Helvetica,sans-serif; font-size:48px; text-anchor:end;\" transform=\"rotate(0, 156.66, 1489.56)\" x=\"156.66\" y=\"1489.56\">0.00</text>\n",
       "</g>\n",
       "<g clip-path=\"url(#clip0600)\">\n",
       "<text style=\"fill:#000000; fill-opacity:1; font-family:Arial,Helvetica Neue,Helvetica,sans-serif; font-size:48px; text-anchor:end;\" transform=\"rotate(0, 156.66, 1137.21)\" x=\"156.66\" y=\"1137.21\">0.25</text>\n",
       "</g>\n",
       "<g clip-path=\"url(#clip0600)\">\n",
       "<text style=\"fill:#000000; fill-opacity:1; font-family:Arial,Helvetica Neue,Helvetica,sans-serif; font-size:48px; text-anchor:end;\" transform=\"rotate(0, 156.66, 784.859)\" x=\"156.66\" y=\"784.859\">0.50</text>\n",
       "</g>\n",
       "<g clip-path=\"url(#clip0600)\">\n",
       "<text style=\"fill:#000000; fill-opacity:1; font-family:Arial,Helvetica Neue,Helvetica,sans-serif; font-size:48px; text-anchor:end;\" transform=\"rotate(0, 156.66, 432.507)\" x=\"156.66\" y=\"432.507\">0.75</text>\n",
       "</g>\n",
       "<g clip-path=\"url(#clip0600)\">\n",
       "<text style=\"fill:#000000; fill-opacity:1; font-family:Arial,Helvetica Neue,Helvetica,sans-serif; font-size:48px; text-anchor:end;\" transform=\"rotate(0, 156.66, 80.1554)\" x=\"156.66\" y=\"80.1554\">1.00</text>\n",
       "</g>\n",
       "<polyline clip-path=\"url(#clip0602)\" style=\"stroke:#009af9; stroke-width:4; stroke-opacity:1; fill:none\" points=\"\n",
       "  242.135,1446.71 267.749,1444.1 293.363,1441.22 318.978,1438.06 344.592,1434.58 370.206,1430.75 395.821,1426.55 421.435,1421.93 447.049,1416.86 472.664,1411.31 \n",
       "  498.278,1405.22 523.892,1398.56 549.507,1391.27 575.121,1383.31 600.735,1374.62 626.35,1365.15 651.964,1354.84 677.578,1343.63 703.193,1331.47 728.807,1318.3 \n",
       "  754.421,1304.06 780.036,1288.69 805.65,1272.14 831.264,1254.36 856.879,1235.31 882.493,1214.95 908.107,1193.26 933.722,1170.22 959.336,1145.82 984.95,1120.08 \n",
       "  1010.56,1093.02 1036.18,1064.67 1061.79,1035.11 1087.41,1004.4 1113.02,972.649 1138.64,939.955 1164.25,906.451 1189.87,872.279 1215.48,837.596 1241.09,802.565 \n",
       "  1266.71,767.359 1292.32,732.154 1317.94,697.123 1343.55,662.44 1369.17,628.268 1394.78,594.764 1420.39,562.07 1446.01,530.314 1471.62,499.608 1497.24,470.046 \n",
       "  1522.85,441.704 1548.47,414.641 1574.08,388.898 1599.69,364.501 1625.31,341.459 1650.92,319.767 1676.54,299.41 1702.15,280.36 1727.77,262.581 1753.38,246.031 \n",
       "  1778.99,230.661 1804.61,216.417 1830.22,203.245 1855.84,191.085 1881.45,179.88 1907.07,169.571 1932.68,160.1 1958.3,151.411 1983.91,143.449 2009.52,136.161 \n",
       "  2035.14,129.498 2060.75,123.411 2086.37,117.856 2111.98,112.79 2137.6,108.173 2163.21,103.968 2188.82,100.141 2214.44,96.6602 2240.05,93.4951 2265.67,90.6185 \n",
       "  2291.28,88.0053 \n",
       "  \"/>\n",
       "<polygon clip-path=\"url(#clip0600)\" points=\"\n",
       "1989.93,251.724 2280.76,251.724 2280.76,130.764 1989.93,130.764 \n",
       "  \" fill=\"#ffffff\" fill-rule=\"evenodd\" fill-opacity=\"1\"/>\n",
       "<polyline clip-path=\"url(#clip0600)\" style=\"stroke:#000000; stroke-width:4; stroke-opacity:1; fill:none\" points=\"\n",
       "  1989.93,251.724 2280.76,251.724 2280.76,130.764 1989.93,130.764 1989.93,251.724 \n",
       "  \"/>\n",
       "<polyline clip-path=\"url(#clip0600)\" style=\"stroke:#009af9; stroke-width:4; stroke-opacity:1; fill:none\" points=\"\n",
       "  2013.93,191.244 2157.93,191.244 \n",
       "  \"/>\n",
       "<g clip-path=\"url(#clip0600)\">\n",
       "<text style=\"fill:#000000; fill-opacity:1; font-family:Arial,Helvetica Neue,Helvetica,sans-serif; font-size:48px; text-anchor:start;\" transform=\"rotate(0, 2181.93, 208.744)\" x=\"2181.93\" y=\"208.744\">y1</text>\n",
       "</g>\n",
       "</svg>\n"
      ]
     },
     "execution_count": 5,
     "metadata": {},
     "output_type": "execute_result"
    }
   ],
   "source": [
    "theta = collect(-4:0.1:4)\n",
    "icc = zeros(length(theta))\n",
    "for i in 1:length(theta)\n",
    "    icc[i] = icc2pl(theta[i], 1.0, 0.0)\n",
    "end\n",
    "plot(theta, icc)"
   ]
  },
  {
   "cell_type": "markdown",
   "metadata": {},
   "source": [
    "ｘ軸が右に行けば行くほど，ある問題への正答確率が高くなる様なモデルを考える。このときαは項目が持つ能力の識別性能の高さを，βは項目自体の難しさを表していると考える。"
   ]
  },
  {
   "cell_type": "code",
   "execution_count": 6,
   "metadata": {},
   "outputs": [
    {
     "data": {
      "text/plain": [
       "resgen_bin (generic function with 1 method)"
      ]
     },
     "execution_count": 6,
     "metadata": {},
     "output_type": "execute_result"
    }
   ],
   "source": [
    "struct simgenClass2\n",
    "    resp::Array{Int64,2}\n",
    "    θ::Array{Float64,1}\n",
    "    α::Array{Float64,1}\n",
    "    β::Array{Float64,1}\n",
    "end\n",
    "\n",
    "function resgen_bin(N::Int, J::Int)\n",
    "    θ = rand(Normal(), N)\n",
    "    α = rand(LogNormal(), J)\n",
    "    β = rand(Normal(-1, 1), J)\n",
    "    resp = zeros(Int64, length(θ), length(α))\n",
    "    for i in 1:length(θ)\n",
    "        for j in 1:length(α)\n",
    "            resp[i, j] = ifelse(rand() > icc2pl(θ[i], α[j], β[j]), 0, 1)\n",
    "        end\n",
    "    end\n",
    "    simgenClass2(resp, θ, α, β)\n",
    "end"
   ]
  },
  {
   "cell_type": "code",
   "execution_count": 6,
   "metadata": {},
   "outputs": [
    {
     "name": "stdout",
     "output_type": "stream",
     "text": [
      "  0.088438 seconds (50.75 k allocations: 21.949 MiB, 6.21% gc time)\n"
     ]
    },
    {
     "ename": "MethodError",
     "evalue": "MethodError: no method matching getindex(::simgenClass2, ::Int64)",
     "output_type": "error",
     "traceback": [
      "MethodError: no method matching getindex(::simgenClass2, ::Int64)",
      "",
      "Stacktrace:",
      " [1] top-level scope at In[6]:4"
     ]
    }
   ],
   "source": [
    "N = 50_000\n",
    "J = 50\n",
    "@time resp = resgen_bin(N, J)\n",
    "resp[2]"
   ]
  },
  {
   "cell_type": "code",
   "execution_count": 7,
   "metadata": {},
   "outputs": [],
   "source": [
    "struct EstepClass2\n",
    "    resp::Array{Int64,2}\n",
    "    θ::Array{Float64,1}\n",
    "    α::Array{Float64,1}\n",
    "    β::Array{Float64,1}\n",
    "    Gim::Array{Float64,2}\n",
    "    Lim::Array{Float64,2}\n",
    "end"
   ]
  },
  {
   "cell_type": "code",
   "execution_count": 22,
   "metadata": {},
   "outputs": [
    {
     "data": {
      "text/plain": [
       "Estep (generic function with 1 method)"
      ]
     },
     "execution_count": 22,
     "metadata": {},
     "output_type": "execute_result"
    }
   ],
   "source": [
    "function Estep(N::Int, J::Int, M::Int)\n",
    "    by = (4-(-4))/M\n",
    "    xq = collect(-4:by:4)\n",
    "    aq = pdf.(Normal(), xq) ./ sum(pdf.(Normal(), xq))\n",
    "    L = zeros(N, length(xq))\n",
    "    Gim = zeros(N, length(xq))\n",
    "    # sim data gen\n",
    "    resp = resgen_bin(N, J)\n",
    "    x = resp.resp\n",
    "    α = resp.α\n",
    "    β = resp.β\n",
    "    for m in 1:M\n",
    "        println(\"NOW...\", m)\n",
    "        for i in 1:N\n",
    "            Li = zeros(J)\n",
    "            for j in 1:J\n",
    "                Li[j] = ifelse(x[i, j] == 1, icc2pl(xq[m], α[j], β[j]), 1 - icc2pl(xq[m], α[j], β[j]))\n",
    "            end\n",
    "            L[i, m] = prod(Li)\n",
    "            Gim[i,m] = L[i,m] * aq[m]\n",
    "        end\n",
    "        if(m == length(xq))\n",
    "            for i in 1:N\n",
    "                Gim[i,m] = Gim[i,m]/sum(Gim[i,:])\n",
    "            end\n",
    "        end\n",
    "    end\n",
    "    EstepClass2(x, θ, α, β, Gim, L)\n",
    "end"
   ]
  },
  {
   "cell_type": "code",
   "execution_count": 23,
   "metadata": {},
   "outputs": [
    {
     "name": "stdout",
     "output_type": "stream",
     "text": [
      "NOW...1NOW...2NOW...3NOW...4NOW...5NOW...6NOW...7NOW...8NOW...9NOW...10NOW...11NOW...12NOW...13NOW...14NOW...15NOW...16NOW...17NOW...18NOW...19NOW...20NOW...21NOW...22NOW...23NOW...24NOW...25NOW...26NOW...27NOW...28NOW...29NOW...30  2.818469 seconds (1.62 M allocations: 758.252 MiB, 1.04% gc time)\n"
     ]
    },
    {
     "data": {
      "text/plain": [
       "EstepClass2([1 1 … 1 1; 1 1 … 1 1; … ; 1 1 … 1 1; 1 0 … 1 1], [-0.37216, 0.394744, 1.0254, 0.0571423, 0.80871, 1.02205, -0.383376, 0.114626, -1.59855, 0.249076  …  -0.107049, -0.35597, -0.0211458, 0.996935, -0.308854, 0.345422, 0.31834, 0.709949, -2.01223, 0.0424107], [2.28547, 2.01832, 0.490599, 0.937689, 0.917119, 0.765655, 0.227438, 1.43848, 0.696391, 2.81036  …  1.28646, 1.20177, 0.242233, 2.24149, 0.290595, 0.347791, 0.498475, 2.48594, 5.41193, 6.49336], [-0.724241, -0.434209, -0.811309, -0.300497, 0.116588, 0.362702, -2.74082, -1.23995, -1.6551, -1.87261  …  -1.58151, -0.337443, -1.79281, -3.01175, -1.2876, -0.520004, -1.86789, -2.2135, -1.63778, -1.19194], [8.65759e-79 1.59052e-71 … 2.1763e-17 0.0; 3.40472e-75 3.03859e-68 … 6.90912e-23 0.0; … ; 2.88729e-74 2.3096e-67 … 2.44927e-23 0.0; 1.13908e-62 1.4062e-56 … 2.81902e-35 0.0], [2.42583e-74 1.58926e-67 … 2.17458e-13 0.0; 9.5399e-71 3.03619e-64 … 6.90365e-19 0.0; … ; 8.09009e-70 2.30778e-63 … 2.44733e-19 0.0; 3.19165e-58 1.40509e-52 … 2.81679e-31 0.0])"
      ]
     },
     "execution_count": 23,
     "metadata": {},
     "output_type": "execute_result"
    }
   ],
   "source": [
    "@time Estep(50000, 50, 30)"
   ]
  },
  {
   "cell_type": "code",
   "execution_count": 25,
   "metadata": {},
   "outputs": [
    {
     "name": "stdout",
     "output_type": "stream",
     "text": [
      "NOW...1NOW...2NOW...3NOW...4NOW...5NOW...6NOW...7NOW...8NOW...9NOW...10NOW...11NOW...12NOW...13NOW...14NOW...15NOW...16NOW...17NOW...18NOW...19NOW...20NOW...21NOW...22NOW...23NOW...24NOW...25NOW...26NOW...27NOW...28NOW...29NOW...30 21.014759 seconds (613.47 M allocations: 10.975 GiB, 5.02% gc time)\n"
     ]
    }
   ],
   "source": [
    "N = 50_000\n",
    "J = 50\n",
    "M = 30\n",
    "by = (4-(-4))/M\n",
    "xq = collect(-4:by:4)\n",
    "aq = pdf.(Normal(), xq) ./ sum(pdf.(Normal(), xq))\n",
    "L = zeros(N, length(xq))\n",
    "Gim = zeros(N, length(xq))\n",
    "# sim data gen\n",
    "resp = resgen_bin(N, J)\n",
    "x = resp.resp\n",
    "α = resp.α\n",
    "β = resp.β\n",
    "@time for m in 1:M\n",
    "    println(\"NOW...\", m)\n",
    "    for i in 1:N\n",
    "        Li = zeros(J)\n",
    "        for j in 1:J\n",
    "            Li[j] = ifelse(x[i, j] == 1, icc2pl(xq[m], α[j], β[j]), 1 - icc2pl(xq[m], α[j], β[j]))\n",
    "        end\n",
    "        L[i, m] = prod(Li)\n",
    "        Gim[i,m] = L[i,m] * aq[m]\n",
    "    end\n",
    "    if(m == length(xq))\n",
    "        for i in 1:N\n",
    "            Gim[i,m] = Gim[i,m]/sum(Gim[i,:])\n",
    "        end\n",
    "    end\n",
    "end"
   ]
  },
  {
   "cell_type": "code",
   "execution_count": null,
   "metadata": {},
   "outputs": [],
   "source": []
  }
 ],
 "metadata": {
  "kernelspec": {
   "display_name": "Julia 1.1.1",
   "language": "julia",
   "name": "julia-1.1"
  },
  "language_info": {
   "file_extension": ".jl",
   "mimetype": "application/julia",
   "name": "julia",
   "version": "1.1.1"
  }
 },
 "nbformat": 4,
 "nbformat_minor": 2
}

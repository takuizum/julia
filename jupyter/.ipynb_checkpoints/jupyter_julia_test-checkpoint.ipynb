{
 "cells": [
  {
   "cell_type": "code",
   "execution_count": 1,
   "metadata": {},
   "outputs": [],
   "source": [
    "using Distributions, Compat, Random"
   ]
  },
  {
   "cell_type": "code",
   "execution_count": 6,
   "metadata": {},
   "outputs": [
    {
     "data": {
      "text/plain": [
       "10-element Array{Float64,1}:\n",
       "  1.1208639281884056 \n",
       "  1.5299456157832005 \n",
       "  0.9688961871658066 \n",
       "  0.274802210395784  \n",
       " -0.9181438026683381 \n",
       "  0.5882025647668077 \n",
       " -0.30570646239965105\n",
       " -1.2417421618008568 \n",
       " -0.36331047067110117\n",
       " -2.156996309913212  "
      ]
     },
     "execution_count": 6,
     "metadata": {},
     "output_type": "execute_result"
    }
   ],
   "source": [
    "rand(Normal(), 10) # random variables"
   ]
  },
  {
   "cell_type": "code",
   "execution_count": 2,
   "metadata": {},
   "outputs": [
    {
     "ename": "ERROR",
     "evalue": "Error in rand(Binomial(), 1000):  関数 \"rand\" を見つけることができませんでした \n",
     "output_type": "error",
     "traceback": [
      "Error in rand(Binomial(), 1000):  関数 \"rand\" を見つけることができませんでした \nTraceback:\n"
     ]
    }
   ],
   "source": [
    "# estimate distribution parameters\n",
    "Sample = rand(Binomial(), 1000)\n",
    "fit(Normal, Sample)"
   ]
  },
  {
   "cell_type": "code",
   "execution_count": 1,
   "metadata": {},
   "outputs": [
    {
     "data": {
      "text/plain": [
       "3-element Array{Int64,1}:\n",
       " 1\n",
       " 2\n",
       " 3"
      ]
     },
     "execution_count": 1,
     "metadata": {},
     "output_type": "execute_result"
    }
   ],
   "source": [
    "[1,2,3]"
   ]
  },
  {
   "cell_type": "code",
   "execution_count": null,
   "metadata": {},
   "outputs": [],
   "source": []
  }
 ],
 "metadata": {
  "kernelspec": {
   "display_name": "Julia 1.1.0",
   "language": "julia",
   "name": "julia-1.1"
  },
  "language_info": {
   "file_extension": ".jl",
   "mimetype": "application/julia",
   "name": "julia",
   "version": "1.1.0"
  }
 },
 "nbformat": 4,
 "nbformat_minor": 2
}

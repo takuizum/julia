{
 "cells": [
  {
   "cell_type": "markdown",
   "metadata": {},
   "source": [
    "## JuliaによるtidyなData Handling\n",
    "\n",
    "プログラミング言語Rで超有名なパッケージ`tidyr`&`dplyr`と同様の処理を行う関数がJuliaにもあるので，それをまとめる。\n",
    "\n",
    "パッケージのマニュアル等は[こちら](https://juliadata.github.io/DataFrames.jl/stable/)"
   ]
  },
  {
   "cell_type": "code",
   "execution_count": 33,
   "metadata": {},
   "outputs": [],
   "source": [
    "using DataFrames, Random;"
   ]
  },
  {
   "cell_type": "code",
   "execution_count": 34,
   "metadata": {},
   "outputs": [
    {
     "data": {
      "text/html": [
       "<table class=\"data-frame\"><thead><tr><th></th><th>A</th><th>B</th><th>C</th></tr><tr><th></th><th>Int64</th><th>String</th><th>Float64</th></tr></thead><tbody><p>4 rows × 3 columns</p><tr><th>1</th><td>1</td><td>M</td><td>-0.40751</td></tr><tr><th>2</th><td>2</td><td>F</td><td>1.44626</td></tr><tr><th>3</th><td>3</td><td>F</td><td>0.937516</td></tr><tr><th>4</th><td>4</td><td>M</td><td>0.405213</td></tr></tbody></table>"
      ],
      "text/latex": [
       "\\begin{tabular}{r|ccc}\n",
       "\t& A & B & C\\\\\n",
       "\t\\hline\n",
       "\t& Int64 & String & Float64\\\\\n",
       "\t\\hline\n",
       "\t1 & 1 & M & -0.40751 \\\\\n",
       "\t2 & 2 & F & 1.44626 \\\\\n",
       "\t3 & 3 & F & 0.937516 \\\\\n",
       "\t4 & 4 & M & 0.405213 \\\\\n",
       "\\end{tabular}\n"
      ],
      "text/plain": [
       "4×3 DataFrame\n",
       "│ Row │ A     │ B      │ C        │\n",
       "│     │ \u001b[90mInt64\u001b[39m │ \u001b[90mString\u001b[39m │ \u001b[90mFloat64\u001b[39m  │\n",
       "├─────┼───────┼────────┼──────────┤\n",
       "│ 1   │ 1     │ M      │ -0.40751 │\n",
       "│ 2   │ 2     │ F      │ 1.44626  │\n",
       "│ 3   │ 3     │ F      │ 0.937516 │\n",
       "│ 4   │ 4     │ M      │ 0.405213 │"
      ]
     },
     "execution_count": 34,
     "metadata": {},
     "output_type": "execute_result"
    }
   ],
   "source": [
    "# How to create DF\n",
    "Random.seed!(0204)\n",
    "df = DataFrame(A = 1:4, B = [\"M\", \"F\", \"F\", \"M\"], C = randn(4));\n",
    "df"
   ]
  },
  {
   "cell_type": "code",
   "execution_count": 38,
   "metadata": {},
   "outputs": [
    {
     "ename": "MethodError",
     "evalue": "MethodError: no method matching getindex(::DataFrame, ::String)\nClosest candidates are:\n  getindex(::DataFrame, !Matched::Symbol) at C:\\Users\\bc0089985\\.julia\\packages\\DataFrames\\CZrca\\src\\dataframe\\dataframe.jl:294\n  getindex(::DataFrame, !Matched::Colon) at C:\\Users\\bc0089985\\.julia\\packages\\DataFrames\\CZrca\\src\\dataframe\\dataframe.jl:306\n  getindex(::DataFrame, !Matched::Colon, !Matched::Colon) at C:\\Users\\bc0089985\\.julia\\packages\\DataFrames\\CZrca\\src\\dataframe\\dataframe.jl:381\n  ...",
     "output_type": "error",
     "traceback": [
      "MethodError: no method matching getindex(::DataFrame, ::String)\nClosest candidates are:\n  getindex(::DataFrame, !Matched::Symbol) at C:\\Users\\bc0089985\\.julia\\packages\\DataFrames\\CZrca\\src\\dataframe\\dataframe.jl:294\n  getindex(::DataFrame, !Matched::Colon) at C:\\Users\\bc0089985\\.julia\\packages\\DataFrames\\CZrca\\src\\dataframe\\dataframe.jl:306\n  getindex(::DataFrame, !Matched::Colon, !Matched::Colon) at C:\\Users\\bc0089985\\.julia\\packages\\DataFrames\\CZrca\\src\\dataframe\\dataframe.jl:381\n  ...",
      "",
      "Stacktrace:",
      " [1] top-level scope at In[38]:3"
     ]
    }
   ],
   "source": [
    "# df.A\n",
    "df[:A] # \"A\"ではなく`:A`(symbol)として指定"
   ]
  },
  {
   "cell_type": "code",
   "execution_count": 37,
   "metadata": {},
   "outputs": [
    {
     "ename": "MethodError",
     "evalue": "MethodError: no method matching getindex(::DataFrame, ::typeof(!), ::Symbol)\nClosest candidates are:\n  getindex(::DataFrame, !Matched::Integer, ::Symbol) at C:\\Users\\bc0089985\\.julia\\packages\\DataFrames\\CZrca\\src\\dataframe\\dataframe.jl:327\n  getindex(::DataFrame, !Matched::AbstractArray{T,1} where T, ::Union{Signed, Symbol, Unsigned}) at C:\\Users\\bc0089985\\.julia\\packages\\DataFrames\\CZrca\\src\\dataframe\\dataframe.jl:337\n  getindex(::DataFrame, !Matched::Colon, ::Union{Signed, Symbol, Unsigned}) at C:\\Users\\bc0089985\\.julia\\packages\\DataFrames\\CZrca\\src\\dataframe\\dataframe.jl:358\n  ...",
     "output_type": "error",
     "traceback": [
      "MethodError: no method matching getindex(::DataFrame, ::typeof(!), ::Symbol)\nClosest candidates are:\n  getindex(::DataFrame, !Matched::Integer, ::Symbol) at C:\\Users\\bc0089985\\.julia\\packages\\DataFrames\\CZrca\\src\\dataframe\\dataframe.jl:327\n  getindex(::DataFrame, !Matched::AbstractArray{T,1} where T, ::Union{Signed, Symbol, Unsigned}) at C:\\Users\\bc0089985\\.julia\\packages\\DataFrames\\CZrca\\src\\dataframe\\dataframe.jl:337\n  getindex(::DataFrame, !Matched::Colon, ::Union{Signed, Symbol, Unsigned}) at C:\\Users\\bc0089985\\.julia\\packages\\DataFrames\\CZrca\\src\\dataframe\\dataframe.jl:358\n  ...",
      "",
      "Stacktrace:",
      " [1] top-level scope at In[37]:1"
     ]
    }
   ],
   "source": [
    "df.A === df[!, :A]"
   ]
  }
 ],
 "metadata": {
  "kernelspec": {
   "display_name": "Julia 1.1.1",
   "language": "julia",
   "name": "julia-1.1"
  },
  "language_info": {
   "file_extension": ".jl",
   "mimetype": "application/julia",
   "name": "julia",
   "version": "1.1.1"
  }
 },
 "nbformat": 4,
 "nbformat_minor": 2
}

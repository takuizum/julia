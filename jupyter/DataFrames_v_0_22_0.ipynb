{
 "cells": [
  {
   "cell_type": "markdown",
   "metadata": {},
   "source": [
    "# DataFrames.jl @ 0.22.2\n",
    "\n",
    "最近Juliaでデータフレームを操作するパッケージ[DataFrames.jl](https://github.com/JuliaData/DataFrames.jl/releases/tag/v0.22.0)のバージョンが少しbump upしました。ただし，この執筆時点での最新バージョンは0.22.2です。\n",
    "\n",
    "そもそもデータフレームとは，基本的に二次元配列の構造で，行列と同様に行と列を持ちます。\n",
    "\n",
    "多言語だとRのdplyrやPythonのpandasなどがありますが，JuliaではDataFrames.jlがデータフレームの操作を実行するためのパッケージとなります。連携するパッケージとしては`DataFramesMeta.jl`や`Query`などがありますが，それらを使わなくても，たいていのことはできる印象です。\n",
    "\n",
    "Juliaの公式パッケージはGutHub上で管理されているので，GutHubで変更履歴や，おもな変更点を確認することができます。\n",
    "\n",
    "どうやら今回のおもな変更点はデータフレームの列操作に関する関数`select`/`transform`の改善や，データの持ち方を縦から横に変更する関数`unstack`に関する挙動のようです。\n",
    "\n",
    "これに加えて，いくつかの補助関数(`isapprox`, `empty`)が新たに追加されました。"
   ]
  },
  {
   "cell_type": "code",
   "execution_count": 1,
   "metadata": {},
   "outputs": [
    {
     "output_type": "stream",
     "name": "stderr",
     "text": [
      "\u001b[32m\u001b[1m   Updating\u001b[22m\u001b[39m registry at `~/.julia/registries/General`\n",
      "\u001b[?25l    \u001b[32m\u001b[1m   Updating\u001b[22m\u001b[39m git-repo `https://github.com/JuliaRegistries/General.git`\n",
      "\u001b[2K\u001b[?25h\u001b[32m\u001b[1m  Resolving\u001b[22m\u001b[39m package versions...\n",
      "\u001b[32m\u001b[1mNo Changes\u001b[22m\u001b[39m to `~/.julia/environments/v1.5/Project.toml`\n",
      "\u001b[32m\u001b[1mNo Changes\u001b[22m\u001b[39m to `~/.julia/environments/v1.5/Manifest.toml`\n"
     ]
    }
   ],
   "source": [
    "using Pkg; Pkg.add(name = \"DataFrames\", version = \"0.22.0\");"
   ]
  },
  {
   "cell_type": "code",
   "execution_count": 2,
   "metadata": {},
   "outputs": [],
   "source": [
    "using DataFrames;"
   ]
  },
  {
   "cell_type": "markdown",
   "metadata": {},
   "source": [
    "---\n",
    "\n",
    "## 1. 基本操作\n",
    "\n",
    "### 1.1 データフレームをつくる\n",
    "\n",
    "`DataFrame(列名 = 変数)`という作り方は確認済みなので，行列からデータフレームを作る方法をチェックしておきます。\n",
    "\n",
    "1. `DataFrame(行列)`\n",
    "2. `DataFrame(行列, [シンボルor文字列のベクトル])`\n",
    "3. `DataFrame(辞書)`\n",
    "4. `DataFrame(列名 => 要素)`\n",
    "\n",
    "４つ目の書き方はペア`Pair`を利用した書き方です。気をつけなければならないのは，辞書やペアを利用する場合はすべての要素の大きさが同じである必要があります。"
   ]
  },
  {
   "cell_type": "code",
   "execution_count": 7,
   "metadata": {},
   "outputs": [
    {
     "output_type": "execute_result",
     "data": {
      "text/plain": [
       "\u001b[1m3×3 DataFrame\u001b[0m\n",
       "\u001b[1m Row \u001b[0m│\u001b[1m a         \u001b[0m\u001b[1m b         \u001b[0m\u001b[1m c          \u001b[0m\n",
       "\u001b[1m     \u001b[0m│\u001b[90m Float64   \u001b[0m\u001b[90m Float64   \u001b[0m\u001b[90m Float64    \u001b[0m\n",
       "─────┼──────────────────────────────────\n",
       "   1 │  0.184904  -0.286792   0.0563817\n",
       "   2 │ -0.276054  -1.15357    0.0512511\n",
       "   3 │  0.306679   1.14489   -0.656571"
      ],
      "text/html": "<table class=\"data-frame\"><thead><tr><th></th><th>a</th><th>b</th><th>c</th></tr><tr><th></th><th>Float64</th><th>Float64</th><th>Float64</th></tr></thead><tbody><p>3 rows × 3 columns</p><tr><th>1</th><td>0.184904</td><td>-0.286792</td><td>0.0563817</td></tr><tr><th>2</th><td>-0.276054</td><td>-1.15357</td><td>0.0512511</td></tr><tr><th>3</th><td>0.306679</td><td>1.14489</td><td>-0.656571</td></tr></tbody></table>",
      "text/latex": "\\begin{tabular}{r|ccc}\n\t& a & b & c\\\\\n\t\\hline\n\t& Float64 & Float64 & Float64\\\\\n\t\\hline\n\t1 & 0.184904 & -0.286792 & 0.0563817 \\\\\n\t2 & -0.276054 & -1.15357 & 0.0512511 \\\\\n\t3 & 0.306679 & 1.14489 & -0.656571 \\\\\n\\end{tabular}\n"
     },
     "metadata": {},
     "execution_count": 7
    }
   ],
   "source": [
    "mat = randn(3, 3);\n",
    "A = DataFrame(mat, [:a, :b, :c])"
   ]
  },
  {
   "cell_type": "code",
   "execution_count": 9,
   "metadata": {},
   "outputs": [
    {
     "output_type": "error",
     "ename": "LoadError",
     "evalue": "DimensionMismatch(\"column :a has length 2 and column :b has length 3\")",
     "traceback": [
      "DimensionMismatch(\"column :a has length 2 and column :b has length 3\")",
      "",
      "Stacktrace:",
      " [1] DataFrame(::Array{Any,1}, ::DataFrames.Index; copycols::Bool) at /Users/takuizum/.julia/packages/DataFrames/X0xNW/src/dataframe/dataframe.jl:181",
      " [2] DataFrame(::Pair{Symbol,UnitRange{Int64}}, ::Vararg{Pair{Symbol,UnitRange{Int64}},N} where N; makeunique::Bool, copycols::Bool) at /Users/takuizum/.julia/packages/DataFrames/X0xNW/src/dataframe/dataframe.jl:218",
      " [3] DataFrame(::Pair{Symbol,UnitRange{Int64}}, ::Vararg{Pair{Symbol,UnitRange{Int64}},N} where N) at /Users/takuizum/.julia/packages/DataFrames/X0xNW/src/dataframe/dataframe.jl:216",
      " [4] top-level scope at In[9]:1",
      " [5] include_string(::Function, ::Module, ::String, ::String) at ./loading.jl:1091"
     ]
    }
   ],
   "source": [
    "DataFrame(:a => 1:2, :b => 2:4) # 長さが違うので，エラーになる。"
   ]
  },
  {
   "cell_type": "markdown",
   "metadata": {},
   "source": [
    "---\n",
    "\n",
    "### 1.2 データフレームの要素を取り出す\n",
    "\n",
    "#### 取り出す\n",
    "\n",
    "作ったデータフレームの列要素のアクセスは，データフレームを`A`，取り出したい列名を`a`とすると，\n",
    "\n",
    "- `A.a`\n",
    "- `A.\"a\"`\n",
    "- `A[!, :A]`\n",
    "- `A[!, \"A\"]`\n",
    "- `getproperty(A, :a)`\n",
    "- `getproperty(A, \"a\")`\n",
    "\n",
    "で取り出すことができます。`[]`や`getproperty`を使用する場合，シンボルでも文字列でもどちらでもアクセス可能です（シンボルのほうがわずかに効率がいいらしい）。\n",
    "\n",
    "これらの方法で取り出された配列はコピーされません。コピーされないということは取り出した要素を変化させると，もとのデータフレームも変化するということです。コピーを取り出したい場合は`A[:, :a]`のように，`!`の代わりに`:`を使用します。\n",
    "\n",
    "複数の列にアクセスすることもできます。"
   ]
  },
  {
   "cell_type": "code",
   "execution_count": 10,
   "metadata": {},
   "outputs": [
    {
     "output_type": "execute_result",
     "data": {
      "text/plain": [
       "\u001b[1m3×2 DataFrame\u001b[0m\n",
       "\u001b[1m Row \u001b[0m│\u001b[1m a          \u001b[0m\u001b[1m b        \u001b[0m\n",
       "\u001b[1m     \u001b[0m│\u001b[90m Float64    \u001b[0m\u001b[90m Float64  \u001b[0m\n",
       "─────┼──────────────────────\n",
       "   1 │  0.0951098   2.2853\n",
       "   2 │  0.902059   -0.80384\n",
       "   3 │ -1.21661    -1.04741"
      ],
      "text/html": "<table class=\"data-frame\"><thead><tr><th></th><th>a</th><th>b</th></tr><tr><th></th><th>Float64</th><th>Float64</th></tr></thead><tbody><p>3 rows × 2 columns</p><tr><th>1</th><td>0.0951098</td><td>2.2853</td></tr><tr><th>2</th><td>0.902059</td><td>-0.80384</td></tr><tr><th>3</th><td>-1.21661</td><td>-1.04741</td></tr></tbody></table>",
      "text/latex": "\\begin{tabular}{r|cc}\n\t& a & b\\\\\n\t\\hline\n\t& Float64 & Float64\\\\\n\t\\hline\n\t1 & 0.0951098 & 2.2853 \\\\\n\t2 & 0.902059 & -0.80384 \\\\\n\t3 & -1.21661 & -1.04741 \\\\\n\\end{tabular}\n"
     },
     "metadata": {},
     "execution_count": 10
    }
   ],
   "source": [
    "A[:, [:a, :b]]"
   ]
  },
  {
   "cell_type": "markdown",
   "metadata": {},
   "source": [
    "### 1.3 正規表現を使って要素を指定する\n",
    "\n",
    "正規表現を使ってマッチする列を取り出すこともできます。正規表現を使う場合には`r\"\"`をつかって`Regex`を作り出します。\n",
    "\n",
    "正規表現による強力なマッチング機能が利用できるのは，DataFrames.jlの強みだと思います。"
   ]
  },
  {
   "cell_type": "code",
   "execution_count": 11,
   "metadata": {},
   "outputs": [
    {
     "output_type": "execute_result",
     "data": {
      "text/plain": [
       "\u001b[1m3×2 DataFrame\u001b[0m\n",
       "\u001b[1m Row \u001b[0m│\u001b[1m a          \u001b[0m\u001b[1m b        \u001b[0m\n",
       "\u001b[1m     \u001b[0m│\u001b[90m Float64    \u001b[0m\u001b[90m Float64  \u001b[0m\n",
       "─────┼──────────────────────\n",
       "   1 │  0.0951098   2.2853\n",
       "   2 │  0.902059   -0.80384\n",
       "   3 │ -1.21661    -1.04741"
      ],
      "text/html": "<table class=\"data-frame\"><thead><tr><th></th><th>a</th><th>b</th></tr><tr><th></th><th>Float64</th><th>Float64</th></tr></thead><tbody><p>3 rows × 2 columns</p><tr><th>1</th><td>0.0951098</td><td>2.2853</td></tr><tr><th>2</th><td>0.902059</td><td>-0.80384</td></tr><tr><th>3</th><td>-1.21661</td><td>-1.04741</td></tr></tbody></table>",
      "text/latex": "\\begin{tabular}{r|cc}\n\t& a & b\\\\\n\t\\hline\n\t& Float64 & Float64\\\\\n\t\\hline\n\t1 & 0.0951098 & 2.2853 \\\\\n\t2 & 0.902059 & -0.80384 \\\\\n\t3 & -1.21661 & -1.04741 \\\\\n\\end{tabular}\n"
     },
     "metadata": {},
     "execution_count": 11
    }
   ],
   "source": [
    "A[:, r\"[ab]\"]"
   ]
  },
  {
   "cell_type": "markdown",
   "metadata": {},
   "source": [
    "\n",
    "\n",
    "サポート関数を使っても，列方向に対する操作ができます。利用できるサポート関数は\n",
    "\n",
    "- `Not()`   選択したシンボルか`Regex`にマッチした列**以外**を取り出す。\n",
    "- `Cols()`  選択したシンボルか`Regex`にマッチした列**だけ**を取り出す。\n",
    "- `All()`   選んでくる条件は`Cols()`と同じ。\n",
    "- `Between(first, last)`    `first`~`last`間の列をすべて取り出す。\n",
    "\n",
    "です。\n",
    "\n",
    "`Cols`と`All()`は機能的には同一ですが，`Cols()`は何も列を選択しないことができるので，こちらのほうができることがひとつ多い印象。\n",
    "\n",
    "**並び替える**\n",
    "\n",
    "これらのサポート関数は，列方向に関する並び替えを行いたいときに役に立ちます。並び替えには`Regex`とシンボル，文字列が使えます。つまり，列選択のときと全く同じです。"
   ]
  },
  {
   "cell_type": "code",
   "execution_count": 12,
   "metadata": {},
   "outputs": [
    {
     "output_type": "execute_result",
     "data": {
      "text/plain": [
       "\u001b[1m3×3 DataFrame\u001b[0m\n",
       "\u001b[1m Row \u001b[0m│\u001b[1m a          \u001b[0m\u001b[1m c         \u001b[0m\u001b[1m b        \u001b[0m\n",
       "\u001b[1m     \u001b[0m│\u001b[90m Float64    \u001b[0m\u001b[90m Float64   \u001b[0m\u001b[90m Float64  \u001b[0m\n",
       "─────┼─────────────────────────────────\n",
       "   1 │  0.0951098  -1.12006    2.2853\n",
       "   2 │  0.902059   -0.376344  -0.80384\n",
       "   3 │ -1.21661    -0.461952  -1.04741"
      ],
      "text/html": "<table class=\"data-frame\"><thead><tr><th></th><th>a</th><th>c</th><th>b</th></tr><tr><th></th><th>Float64</th><th>Float64</th><th>Float64</th></tr></thead><tbody><p>3 rows × 3 columns</p><tr><th>1</th><td>0.0951098</td><td>-1.12006</td><td>2.2853</td></tr><tr><th>2</th><td>0.902059</td><td>-0.376344</td><td>-0.80384</td></tr><tr><th>3</th><td>-1.21661</td><td>-0.461952</td><td>-1.04741</td></tr></tbody></table>",
      "text/latex": "\\begin{tabular}{r|ccc}\n\t& a & c & b\\\\\n\t\\hline\n\t& Float64 & Float64 & Float64\\\\\n\t\\hline\n\t1 & 0.0951098 & -1.12006 & 2.2853 \\\\\n\t2 & 0.902059 & -0.376344 & -0.80384 \\\\\n\t3 & -1.21661 & -0.461952 & -1.04741 \\\\\n\\end{tabular}\n"
     },
     "metadata": {},
     "execution_count": 12
    }
   ],
   "source": [
    "A[!, Cols(r\"a|c\", \"b\")]"
   ]
  },
  {
   "cell_type": "markdown",
   "metadata": {},
   "source": [
    "### 1.4 列を指定して，変更する\n",
    "\n",
    "列の要素を指定する方法は他にもあります。それが`select()`と`transform()`です。しかし，この２種類の関数は，ただ取り出すだけでなく，指定した要素に対して関数を作用させるための関数です。\n",
    "\n",
    "- `select()`, `select!()`   選択した列**だけ**を取り出す\n",
    "- `transform()`, `transform!()` 選択した列**以外も**取り出す。\n",
    "\n",
    "`!`がついている方はin-place関数であり，作用させた変数の内容そのものを破壊的に変更します。\n",
    "\n",
    "`transform`は選択列以外も取り出すので「なんのこっちゃ」となるかもしれませんが，この２つの関数は，ただ列を取り出すだけでなく，取り出した列に対して関数を作用させるための関数であるため，`transform`が重要になります。\n",
    "\n",
    "これらは`Regex`やシンボル，文字列と組み合わせて使うことができるだけでなく，先述したサポート関数と一緒に使うこともできます。\n",
    "\n",
    "**`select()`**\n",
    "\n",
    "マッチした列だけを取り出して，新しいデータフレームを作成します。\n",
    "\n",
    "さらに，単純に取り出すだけでなく，列名を変更したり，取り出した列に関数を作用させて新しい列にすることもできます。`select`はデフォルトでは自動的にコピーを作成する仕様になっていますが，`..., copycols = false`でコピーの作成をしないようにすることもできます。"
   ]
  },
  {
   "cell_type": "code",
   "execution_count": 13,
   "metadata": {},
   "outputs": [
    {
     "output_type": "execute_result",
     "data": {
      "text/plain": [
       "\u001b[1m3×1 DataFrame\u001b[0m\n",
       "\u001b[1m Row \u001b[0m│\u001b[1m a          \u001b[0m\n",
       "\u001b[1m     \u001b[0m│\u001b[90m Float64    \u001b[0m\n",
       "─────┼────────────\n",
       "   1 │  0.0951098\n",
       "   2 │  0.902059\n",
       "   3 │ -1.21661"
      ],
      "text/html": "<table class=\"data-frame\"><thead><tr><th></th><th>a</th></tr><tr><th></th><th>Float64</th></tr></thead><tbody><p>3 rows × 1 columns</p><tr><th>1</th><td>0.0951098</td></tr><tr><th>2</th><td>0.902059</td></tr><tr><th>3</th><td>-1.21661</td></tr></tbody></table>",
      "text/latex": "\\begin{tabular}{r|c}\n\t& a\\\\\n\t\\hline\n\t& Float64\\\\\n\t\\hline\n\t1 & 0.0951098 \\\\\n\t2 & 0.902059 \\\\\n\t3 & -1.21661 \\\\\n\\end{tabular}\n"
     },
     "metadata": {},
     "execution_count": 13
    }
   ],
   "source": [
    "B = select(A, :a, copycols = true)\n",
    "C = select(A, :a, copycols = false)"
   ]
  },
  {
   "cell_type": "code",
   "execution_count": 14,
   "metadata": {},
   "outputs": [
    {
     "output_type": "execute_result",
     "data": {
      "text/plain": [
       "false"
      ]
     },
     "metadata": {},
     "execution_count": 14
    }
   ],
   "source": [
    "B.a === A.a"
   ]
  },
  {
   "cell_type": "code",
   "execution_count": 20,
   "metadata": {},
   "outputs": [
    {
     "output_type": "execute_result",
     "data": {
      "text/plain": [
       "true"
      ]
     },
     "metadata": {},
     "execution_count": 20
    }
   ],
   "source": [
    "C.a === A.a"
   ]
  },
  {
   "source": [
    "`select()`は単に列を取り出すだけでなく，選択した列に対して関数を適用し，それを新たな列として返すという操作もできます。\n",
    "\n",
    "新しい列を作るための書き方は，\n",
    "\n",
    "`select(A, :列名 => 関数 => :新しい列名)`\n",
    "\n",
    "です。関数には`()`でくくることで無名関数も使うことができます。"
   ],
   "cell_type": "markdown",
   "metadata": {}
  },
  {
   "cell_type": "code",
   "execution_count": 12,
   "metadata": {},
   "outputs": [
    {
     "output_type": "execute_result",
     "data": {
      "text/plain": [
       "\u001b[1m3×1 DataFrame\u001b[0m\n",
       "\u001b[1m Row \u001b[0m│\u001b[1m d         \u001b[0m\n",
       "\u001b[1m     \u001b[0m│\u001b[90m Float64   \u001b[0m\n",
       "─────┼───────────\n",
       "   1 │  0.369807\n",
       "   2 │ -0.552108\n",
       "   3 │  0.613357"
      ],
      "text/html": "<table class=\"data-frame\"><thead><tr><th></th><th>d</th></tr><tr><th></th><th>Float64</th></tr></thead><tbody><p>3 rows × 1 columns</p><tr><th>1</th><td>0.369807</td></tr><tr><th>2</th><td>-0.552108</td></tr><tr><th>3</th><td>0.613357</td></tr></tbody></table>",
      "text/latex": "\\begin{tabular}{r|c}\n\t& d\\\\\n\t\\hline\n\t& Float64\\\\\n\t\\hline\n\t1 & 0.369807 \\\\\n\t2 & -0.552108 \\\\\n\t3 & 0.613357 \\\\\n\\end{tabular}\n"
     },
     "metadata": {},
     "execution_count": 12
    }
   ],
   "source": [
    "select(A, :a => (x -> 2x) => :d)"
   ]
  },
  {
   "source": [
    "関数は列の要素に対してまとめててきようされます。そのため行の各要素に関数を作用させたいときはbroadcastを利用します.\n",
    "\n",
    "例えば各要素を`round`したいときは，\n",
    "\n",
    "```\n",
    "select(A, :a => round => :d)\n",
    "```\n",
    "\n",
    "ではなく"
   ],
   "cell_type": "markdown",
   "metadata": {}
  },
  {
   "cell_type": "code",
   "execution_count": 14,
   "metadata": {},
   "outputs": [
    {
     "output_type": "execute_result",
     "data": {
      "text/plain": [
       "\u001b[1m3×1 DataFrame\u001b[0m\n",
       "\u001b[1m Row \u001b[0m│\u001b[1m d       \u001b[0m\n",
       "\u001b[1m     \u001b[0m│\u001b[90m Float64 \u001b[0m\n",
       "─────┼─────────\n",
       "   1 │     0.0\n",
       "   2 │    -0.0\n",
       "   3 │     0.0"
      ],
      "text/html": "<table class=\"data-frame\"><thead><tr><th></th><th>d</th></tr><tr><th></th><th>Float64</th></tr></thead><tbody><p>3 rows × 1 columns</p><tr><th>1</th><td>0.0</td></tr><tr><th>2</th><td>-0.0</td></tr><tr><th>3</th><td>0.0</td></tr></tbody></table>",
      "text/latex": "\\begin{tabular}{r|c}\n\t& d\\\\\n\t\\hline\n\t& Float64\\\\\n\t\\hline\n\t1 & 0.0 \\\\\n\t2 & -0.0 \\\\\n\t3 & 0.0 \\\\\n\\end{tabular}\n"
     },
     "metadata": {},
     "execution_count": 14
    }
   ],
   "source": [
    "select(A, :a => (x -> round.(x)) => :d)"
   ]
  },
  {
   "cell_type": "markdown",
   "metadata": {},
   "source": [
    "と実行する必要があります。\n",
    "\n",
    "**`transform()`**\n",
    "\n",
    "`select()`と同じ記述方法で列を指定しますが，`select()`とは異なり，選択していない列も残して，値を返します。"
   ]
  },
  {
   "cell_type": "code",
   "execution_count": 8,
   "metadata": {},
   "outputs": [
    {
     "output_type": "execute_result",
     "data": {
      "text/plain": [
       "\u001b[1m3×4 DataFrame\u001b[0m\n",
       "\u001b[1m Row \u001b[0m│\u001b[1m a         \u001b[0m\u001b[1m b         \u001b[0m\u001b[1m c          \u001b[0m\u001b[1m d         \u001b[0m\n",
       "\u001b[1m     \u001b[0m│\u001b[90m Float64   \u001b[0m\u001b[90m Float64   \u001b[0m\u001b[90m Float64    \u001b[0m\u001b[90m Float64   \u001b[0m\n",
       "─────┼─────────────────────────────────────────────\n",
       "   1 │  0.184904  -0.286792   0.0563817   0.369807\n",
       "   2 │ -0.276054  -1.15357    0.0512511  -0.552108\n",
       "   3 │  0.306679   1.14489   -0.656571    0.613357"
      ],
      "text/html": "<table class=\"data-frame\"><thead><tr><th></th><th>a</th><th>b</th><th>c</th><th>d</th></tr><tr><th></th><th>Float64</th><th>Float64</th><th>Float64</th><th>Float64</th></tr></thead><tbody><p>3 rows × 4 columns</p><tr><th>1</th><td>0.184904</td><td>-0.286792</td><td>0.0563817</td><td>0.369807</td></tr><tr><th>2</th><td>-0.276054</td><td>-1.15357</td><td>0.0512511</td><td>-0.552108</td></tr><tr><th>3</th><td>0.306679</td><td>1.14489</td><td>-0.656571</td><td>0.613357</td></tr></tbody></table>",
      "text/latex": "\\begin{tabular}{r|cccc}\n\t& a & b & c & d\\\\\n\t\\hline\n\t& Float64 & Float64 & Float64 & Float64\\\\\n\t\\hline\n\t1 & 0.184904 & -0.286792 & 0.0563817 & 0.369807 \\\\\n\t2 & -0.276054 & -1.15357 & 0.0512511 & -0.552108 \\\\\n\t3 & 0.306679 & 1.14489 & -0.656571 & 0.613357 \\\\\n\\end{tabular}\n"
     },
     "metadata": {},
     "execution_count": 8
    }
   ],
   "source": [
    "transform(A, :a => (x -> 2x) => :d)"
   ]
  },
  {
   "cell_type": "markdown",
   "metadata": {},
   "source": [
    "### 1.6 行方向の操作を実行する。\n",
    "\n",
    "`select`や`transform`では基本的に列方向に対して関数を作用させました。しかしデータフレームには行ごとに意味をもたせたデータを入力したいこともあります（たとえばあるクラスのテスト得点の表とか）。\n",
    "\n",
    "そんな操作をするためには`ByRow`を使うと良いです。"
   ]
  },
  {
   "cell_type": "code",
   "execution_count": 19,
   "metadata": {},
   "outputs": [
    {
     "output_type": "execute_result",
     "data": {
      "text/plain": [
       "\u001b[1m3×4 DataFrame\u001b[0m\n",
       "\u001b[1m Row \u001b[0m│\u001b[1m 名前    \u001b[0m\u001b[1m 国語  \u001b[0m\u001b[1m 数学  \u001b[0m\u001b[1m 英語  \u001b[0m\n",
       "\u001b[1m     \u001b[0m│\u001b[90m String  \u001b[0m\u001b[90m Int64 \u001b[0m\u001b[90m Int64 \u001b[0m\u001b[90m Int64 \u001b[0m\n",
       "─────┼──────────────────────────────\n",
       "   1 │ Kato        20    100     10\n",
       "   2 │ Noguchi     31     23     30\n",
       "   3 │ Yamada      55     78     89"
      ],
      "text/html": "<table class=\"data-frame\"><thead><tr><th></th><th>名前</th><th>国語</th><th>数学</th><th>英語</th></tr><tr><th></th><th>String</th><th>Int64</th><th>Int64</th><th>Int64</th></tr></thead><tbody><p>3 rows × 4 columns</p><tr><th>1</th><td>Kato</td><td>20</td><td>100</td><td>10</td></tr><tr><th>2</th><td>Noguchi</td><td>31</td><td>23</td><td>30</td></tr><tr><th>3</th><td>Yamada</td><td>55</td><td>78</td><td>89</td></tr></tbody></table>",
      "text/latex": "\\begin{tabular}{r|cccc}\n\t& 名前 & 国語 & 数学 & 英語\\\\\n\t\\hline\n\t& String & Int64 & Int64 & Int64\\\\\n\t\\hline\n\t1 & Kato & 20 & 100 & 10 \\\\\n\t2 & Noguchi & 31 & 23 & 30 \\\\\n\t3 & Yamada & 55 & 78 & 89 \\\\\n\\end{tabular}\n"
     },
     "metadata": {},
     "execution_count": 19
    }
   ],
   "source": [
    "B = DataFrame(\"名前\" => [\"Kato\", \"Noguchi\", \"Yamada\"], \"国語\" => [20, 31, 55], \"数学\" => [100, 23, 78], \"英語\" => [10, 30, 89])"
   ]
  },
  {
   "cell_type": "code",
   "execution_count": 24,
   "metadata": {},
   "outputs": [
    {
     "output_type": "execute_result",
     "data": {
      "text/plain": [
       "\u001b[1m3×5 DataFrame\u001b[0m\n",
       "\u001b[1m Row \u001b[0m│\u001b[1m 名前    \u001b[0m\u001b[1m 国語  \u001b[0m\u001b[1m 数学  \u001b[0m\u001b[1m 英語  \u001b[0m\u001b[1m 合計  \u001b[0m\n",
       "\u001b[1m     \u001b[0m│\u001b[90m String  \u001b[0m\u001b[90m Int64 \u001b[0m\u001b[90m Int64 \u001b[0m\u001b[90m Int64 \u001b[0m\u001b[90m Int64 \u001b[0m\n",
       "─────┼─────────────────────────────────────\n",
       "   1 │ Kato        20    100     10    130\n",
       "   2 │ Noguchi     31     23     30     84\n",
       "   3 │ Yamada      55     78     89    222"
      ],
      "text/html": "<table class=\"data-frame\"><thead><tr><th></th><th>名前</th><th>国語</th><th>数学</th><th>英語</th><th>合計</th></tr><tr><th></th><th>String</th><th>Int64</th><th>Int64</th><th>Int64</th><th>Int64</th></tr></thead><tbody><p>3 rows × 5 columns</p><tr><th>1</th><td>Kato</td><td>20</td><td>100</td><td>10</td><td>130</td></tr><tr><th>2</th><td>Noguchi</td><td>31</td><td>23</td><td>30</td><td>84</td></tr><tr><th>3</th><td>Yamada</td><td>55</td><td>78</td><td>89</td><td>222</td></tr></tbody></table>",
      "text/latex": "\\begin{tabular}{r|ccccc}\n\t& 名前 & 国語 & 数学 & 英語 & 合計\\\\\n\t\\hline\n\t& String & Int64 & Int64 & Int64 & Int64\\\\\n\t\\hline\n\t1 & Kato & 20 & 100 & 10 & 130 \\\\\n\t2 & Noguchi & 31 & 23 & 30 & 84 \\\\\n\t3 & Yamada & 55 & 78 & 89 & 222 \\\\\n\\end{tabular}\n"
     },
     "metadata": {},
     "execution_count": 24
    }
   ],
   "source": [
    "transform(B, Not(:名前) => ByRow(＋) => :合計)"
   ]
  },
  {
   "source": [
    "**行方向の取り出し**\n",
    "\n",
    "列方向のデータフレーム操作をみたところで，単純な取り出しの例についても確認しておきましょう。\n",
    "\n",
    "列方向だけでなく，行方向に対しても一部の要素を取り出すことができます。`[,]`のカンマの左側に，ベクトルなどで位置を指定してやることで，取り出せます。"
   ],
   "cell_type": "markdown",
   "metadata": {}
  },
  {
   "cell_type": "code",
   "execution_count": 48,
   "metadata": {},
   "outputs": [
    {
     "output_type": "execute_result",
     "data": {
      "text/plain": [
       "\u001b[1m2×2 DataFrame\u001b[0m\n",
       "\u001b[1m Row \u001b[0m│\u001b[1m a         \u001b[0m\u001b[1m b        \u001b[0m\n",
       "\u001b[1m     \u001b[0m│\u001b[90m Float64   \u001b[0m\u001b[90m Float64  \u001b[0m\n",
       "─────┼─────────────────────\n",
       "   1 │ 0.0951098   2.2853\n",
       "   2 │ 0.902059   -0.80384"
      ],
      "text/html": "<table class=\"data-frame\"><thead><tr><th></th><th>a</th><th>b</th></tr><tr><th></th><th>Float64</th><th>Float64</th></tr></thead><tbody><p>2 rows × 2 columns</p><tr><th>1</th><td>0.0951098</td><td>2.2853</td></tr><tr><th>2</th><td>0.902059</td><td>-0.80384</td></tr></tbody></table>",
      "text/latex": "\\begin{tabular}{r|cc}\n\t& a & b\\\\\n\t\\hline\n\t& Float64 & Float64\\\\\n\t\\hline\n\t1 & 0.0951098 & 2.2853 \\\\\n\t2 & 0.902059 & -0.80384 \\\\\n\\end{tabular}\n"
     },
     "metadata": {},
     "execution_count": 48
    }
   ],
   "source": [
    "A[1:2, :]"
   ]
  },
  {
   "source": [
    "特定の条件にマッチする行だけを取り出したい場合には，２通りの書き方ができます。\n",
    "\n",
    "- `A[条件, :]`\n",
    "- `filter(:ID -> 関数, A)`\n",
    "\n",
    "`filter()`は結構便利な関数です。次のように派生した書き方ができます。"
   ],
   "cell_type": "markdown",
   "metadata": {}
  },
  {
   "cell_type": "code",
   "execution_count": 50,
   "metadata": {},
   "outputs": [
    {
     "output_type": "execute_result",
     "data": {
      "text/plain": [
       "\u001b[1m1×3 DataFrame\u001b[0m\n",
       "\u001b[1m Row \u001b[0m│\u001b[1m a        \u001b[0m\u001b[1m b        \u001b[0m\u001b[1m c         \u001b[0m\n",
       "\u001b[1m     \u001b[0m│\u001b[90m Float64  \u001b[0m\u001b[90m Float64  \u001b[0m\u001b[90m Float64   \u001b[0m\n",
       "─────┼───────────────────────────────\n",
       "   1 │ -1.21661  -1.04741  -0.461952"
      ],
      "text/html": "<table class=\"data-frame\"><thead><tr><th></th><th>a</th><th>b</th><th>c</th></tr><tr><th></th><th>Float64</th><th>Float64</th><th>Float64</th></tr></thead><tbody><p>1 rows × 3 columns</p><tr><th>1</th><td>-1.21661</td><td>-1.04741</td><td>-0.461952</td></tr></tbody></table>",
      "text/latex": "\\begin{tabular}{r|ccc}\n\t& a & b & c\\\\\n\t\\hline\n\t& Float64 & Float64 & Float64\\\\\n\t\\hline\n\t1 & -1.21661 & -1.04741 & -0.461952 \\\\\n\\end{tabular}\n"
     },
     "metadata": {},
     "execution_count": 50
    }
   ],
   "source": [
    "filter(:a => i -> i < 0, A)"
   ]
  },
  {
   "cell_type": "markdown",
   "metadata": {},
   "source": [
    "### 1.7 `DataFramesRow`には要注意\n",
    "\n",
    "しかし，１行だけ取り出す場合，`DataFrame`から`DataFramesRow`と呼ばれる型に変化します。`DataFrame`の型を維持したままで１行だけ取り出す場合は，`A[[1], :a]`のように，ベクトルで行の要素を指定すればよいです。\n",
    "\n",
    "`DataFramesRow`に対してはbroadcastをすることができません。"
   ]
  },
  {
   "cell_type": "code",
   "execution_count": 63,
   "metadata": {},
   "outputs": [
    {
     "data": {
      "text/html": [
       "<p>DataFrameRow (2 columns)</p><table class=\"data-frame\"><thead><tr><th></th><th>a</th><th>b</th></tr><tr><th></th><th>String</th><th>Float64</th></tr></thead><tbody><tr><th>1</th><td>1</td><td>1.0</td></tr></tbody></table>"
      ],
      "text/latex": [
       "\\begin{tabular}{r|cc}\n",
       "\t& a & b\\\\\n",
       "\t\\hline\n",
       "\t& String & Float64\\\\\n",
       "\t\\hline\n",
       "\t1 & 1 & 1.0 \\\\\n",
       "\\end{tabular}\n"
      ],
      "text/plain": [
       "\u001b[1mDataFrameRow\u001b[0m\n",
       "\u001b[1m Row \u001b[0m│\u001b[1m a      \u001b[0m\u001b[1m b       \u001b[0m\n",
       "\u001b[1m     \u001b[0m│\u001b[90m String \u001b[0m\u001b[90m Float64 \u001b[0m\n",
       "─────┼─────────────────\n",
       "   1 │ 1           1.0"
      ]
     },
     "execution_count": 63,
     "metadata": {},
     "output_type": "execute_result"
    }
   ],
   "source": [
    "A[1, [:a, :b]] # DataFramesRow"
   ]
  },
  {
   "cell_type": "code",
   "execution_count": 65,
   "metadata": {},
   "outputs": [
    {
     "data": {
      "text/html": [
       "<table class=\"data-frame\"><thead><tr><th></th><th>a</th><th>b</th></tr><tr><th></th><th>String</th><th>Float64</th></tr></thead><tbody><p>1 rows × 2 columns</p><tr><th>1</th><td>1</td><td>1.0</td></tr></tbody></table>"
      ],
      "text/latex": [
       "\\begin{tabular}{r|cc}\n",
       "\t& a & b\\\\\n",
       "\t\\hline\n",
       "\t& String & Float64\\\\\n",
       "\t\\hline\n",
       "\t1 & 1 & 1.0 \\\\\n",
       "\\end{tabular}\n"
      ],
      "text/plain": [
       "\u001b[1m1×2 DataFrame\u001b[0m\n",
       "\u001b[1m Row \u001b[0m│\u001b[1m a      \u001b[0m\u001b[1m b       \u001b[0m\n",
       "\u001b[1m     \u001b[0m│\u001b[90m String \u001b[0m\u001b[90m Float64 \u001b[0m\n",
       "─────┼─────────────────\n",
       "   1 │ 1           1.0"
      ]
     },
     "execution_count": 65,
     "metadata": {},
     "output_type": "execute_result"
    }
   ],
   "source": [
    "A[[1], [:a, :b]] # DataFrame"
   ]
  },
  {
   "cell_type": "code",
   "execution_count": 69,
   "metadata": {},
   "outputs": [
    {
     "ename": "LoadError",
     "evalue": "ArgumentError: broadcasting over `DataFrameRow`s is reserved",
     "output_type": "error",
     "traceback": [
      "ArgumentError: broadcasting over `DataFrameRow`s is reserved",
      "",
      "Stacktrace:",
      " [1] broadcastable(::DataFrameRow{DataFrame,DataFrames.SubIndex{DataFrames.Index,Array{Int64,1},Array{Int64,1}}}) at /Users/takuizum/.julia/packages/DataFrames/X0xNW/src/dataframerow/dataframerow.jl:415",
      " [2] broadcasted(::Function, ::DataFrameRow{DataFrame,DataFrames.SubIndex{DataFrames.Index,Array{Int64,1},Array{Int64,1}}}) at ./broadcast.jl:1255",
      " [3] top-level scope at In[69]:1",
      " [4] include_string(::Function, ::Module, ::String, ::String) at ./loading.jl:1091"
     ]
    }
   ],
   "source": [
    "string.(A[1, [:a, :b]])"
   ]
  },
  {
   "source": [
    "このように`DataFramesRow`に対してはbroadcast演算をすることはできません。\n",
    "\n",
    "---\n",
    "\n",
    "##　2. 結合する\n",
    "\n",
    "データフレーム操作で頻繁に行われるのが，データフレームの結合です。単純に行や列の大きさが同じものをくっつけるだけでなく，特定列の要素をキーにマッチさせたりすることができます。\n",
    "\n",
    "こうした操作は`**join(A, B)`系の関数で実行できます。\n",
    "\n",
    "### 2.1 `**join()`の基本的な書き方\n",
    "\n",
    "基本的な使用方法は\n",
    "\n",
    "```\n",
    "**join(A, B, on = :列名)\n",
    "```\n",
    "\n",
    "です。AとBで列名が違っている場合，\n",
    "\n",
    "```\n",
    "**join(A, B, on = :Aの列名 => :Bの列名)\n",
    "```\n",
    "\n",
    "というように，`Pair`を使用します。複数のキーがある場合はシンボルやペアをベクトルとして渡してあげます。\n",
    "\n",
    "```\n",
    "**join(A, B, on = [:列名1, :Aの列名２ => :Bの列名２])\n",
    "```\n",
    "\n",
    "### 2.2 joinの種類\n",
    "\n",
    "- `leftjoin`, `rightjoin` 左右どちらかのデータフレーム(A)を基準としてマッチさせる。基準のデータフレームAにないBの行は無視され，Bの列のうちAに含まれていないものは欠測`missing`として追加される。\n",
    "- `innerjoin` 両方のデータフレームの要素を行に関してすべて残す形でマッチさせる。片方のデータフレームにしかない行も完全に保存される。\n",
    "- `outerjoin` 両方のデータフレームの要素のうち，キーがマッチした行だけ残し，それ以外は無視する。この形では，マッチによる欠測が生じない。\n",
    "- `semijoin` マッチした行だけを保存するが，さらに列に関しては基準となるAの列だけを保存し，Bに関する要素は完全に無視される。\n",
    "- `antijoin` マッチした行**以外**を保存するが，列に関しては基準となるAの列だけが保存される。`semijoin`の逆バージョン。\n",
    "- `crossjoin` 与えたデータフレームらの直積を返す。マッチと言うよりも，全パタンの網羅するための関数？\n",
    "\n",
    "実際の実行例は[パッケージドキュメント](https://dataframes.juliadata.org/stable/man/joins/)に詳しいです。"
   ],
   "cell_type": "markdown",
   "metadata": {}
  },
  {
   "cell_type": "code",
   "execution_count": 25,
   "metadata": {},
   "outputs": [
    {
     "output_type": "execute_result",
     "data": {
      "text/plain": [
       "\u001b[1m2×2 DataFrame\u001b[0m\n",
       "\u001b[1m Row \u001b[0m│\u001b[1m ID    \u001b[0m\u001b[1m Job    \u001b[0m\n",
       "\u001b[1m     \u001b[0m│\u001b[90m Int64 \u001b[0m\u001b[90m String \u001b[0m\n",
       "─────┼───────────────\n",
       "   1 │    20  Lawyer\n",
       "   2 │    40  Doctor"
      ],
      "text/html": "<table class=\"data-frame\"><thead><tr><th></th><th>ID</th><th>Job</th></tr><tr><th></th><th>Int64</th><th>String</th></tr></thead><tbody><p>2 rows × 2 columns</p><tr><th>1</th><td>20</td><td>Lawyer</td></tr><tr><th>2</th><td>40</td><td>Doctor</td></tr></tbody></table>",
      "text/latex": "\\begin{tabular}{r|cc}\n\t& ID & Job\\\\\n\t\\hline\n\t& Int64 & String\\\\\n\t\\hline\n\t1 & 20 & Lawyer \\\\\n\t2 & 40 & Doctor \\\\\n\\end{tabular}\n"
     },
     "metadata": {},
     "execution_count": 25
    }
   ],
   "source": [
    "people = DataFrame(ID = [20, 40], Name = [\"John Doe\", \"Jane Doe\"]);\n",
    "jobs = DataFrame(ID = [20, 40], Job = [\"Lawyer\", \"Doctor\"]);"
   ]
  },
  {
   "cell_type": "code",
   "execution_count": 29,
   "metadata": {},
   "outputs": [
    {
     "output_type": "execute_result",
     "data": {
      "text/plain": [
       "\u001b[1m4×4 DataFrame\u001b[0m\n",
       "\u001b[1m Row \u001b[0m│\u001b[1m ID    \u001b[0m\u001b[1m Name     \u001b[0m\u001b[1m ID_1  \u001b[0m\u001b[1m Job    \u001b[0m\n",
       "\u001b[1m     \u001b[0m│\u001b[90m Int64 \u001b[0m\u001b[90m String   \u001b[0m\u001b[90m Int64 \u001b[0m\u001b[90m String \u001b[0m\n",
       "─────┼────────────────────────────────\n",
       "   1 │    20  John Doe     20  Lawyer\n",
       "   2 │    20  John Doe     40  Doctor\n",
       "   3 │    40  Jane Doe     20  Lawyer\n",
       "   4 │    40  Jane Doe     40  Doctor"
      ],
      "text/html": "<table class=\"data-frame\"><thead><tr><th></th><th>ID</th><th>Name</th><th>ID_1</th><th>Job</th></tr><tr><th></th><th>Int64</th><th>String</th><th>Int64</th><th>String</th></tr></thead><tbody><p>4 rows × 4 columns</p><tr><th>1</th><td>20</td><td>John Doe</td><td>20</td><td>Lawyer</td></tr><tr><th>2</th><td>20</td><td>John Doe</td><td>40</td><td>Doctor</td></tr><tr><th>3</th><td>40</td><td>Jane Doe</td><td>20</td><td>Lawyer</td></tr><tr><th>4</th><td>40</td><td>Jane Doe</td><td>40</td><td>Doctor</td></tr></tbody></table>",
      "text/latex": "\\begin{tabular}{r|cccc}\n\t& ID & Name & ID\\_1 & Job\\\\\n\t\\hline\n\t& Int64 & String & Int64 & String\\\\\n\t\\hline\n\t1 & 20 & John Doe & 20 & Lawyer \\\\\n\t2 & 20 & John Doe & 40 & Doctor \\\\\n\t3 & 40 & Jane Doe & 20 & Lawyer \\\\\n\t4 & 40 & Jane Doe & 40 & Doctor \\\\\n\\end{tabular}\n"
     },
     "metadata": {},
     "execution_count": 29
    }
   ],
   "source": [
    "crossjoin(people, jobs; makeunique = true)"
   ]
  },
  {
   "source": [
    "## 3 データフレームを変形させる\n",
    "\n",
    "データフレームをピボットしたり，変形したりする操作もDataFrames.jlの標準的な関数として提供されています。それが`stack`と`unstack`です。\n",
    "データフレームを縦方向に伸ばす（要素を縦に積み上げる）のが`stack`であり，逆に横方向に伸ばす（積み上がっている要素を横に展開する）のが`unstack`です。\n",
    "\n",
    "\n"
   ],
   "cell_type": "markdown",
   "metadata": {}
  },
  {
   "cell_type": "code",
   "execution_count": null,
   "metadata": {},
   "outputs": [],
   "source": []
  },
  {
   "cell_type": "code",
   "execution_count": 30,
   "metadata": {},
   "outputs": [
    {
     "output_type": "stream",
     "name": "stdout",
     "text": [
      "search: \u001b[0m\u001b[1mu\u001b[22m\u001b[0m\u001b[1mn\u001b[22m\u001b[0m\u001b[1ms\u001b[22m\u001b[0m\u001b[1mt\u001b[22m\u001b[0m\u001b[1ma\u001b[22m\u001b[0m\u001b[1mc\u001b[22m\u001b[0m\u001b[1mk\u001b[22m Ro\u001b[0m\u001b[1mu\u001b[22m\u001b[0m\u001b[1mn\u001b[22mdNeare\u001b[0m\u001b[1ms\u001b[22m\u001b[0m\u001b[1mt\u001b[22mTies\u001b[0m\u001b[1mA\u001b[22mway\n\n"
     ]
    },
    {
     "output_type": "execute_result",
     "data": {
      "text/plain": [
       "  \u001b[38;5;81munstack\u001b[0m(\u001b[0m\u001b[39mdf\u001b[0m\u001b[38;5;81m::\u001b[0m\u001b[38;5;81mAbstractDataFrame\u001b[0m\u001b[39m,\u001b[0m \u001b[0m\u001b[39mrowkeys\u001b[0m\u001b[39m,\u001b[0m \u001b[0m\u001b[39mcolkey\u001b[0m\u001b[39m,\u001b[0m \u001b[0m\u001b[39mvalue\u001b[0m\u001b[39m;\u001b[0m \u001b[0m\u001b[39mrenamecols\u001b[0m\u001b[38;5;81m::\u001b[0m\u001b[38;5;81mFunction\u001b[0m\u001b[38;5;197m=\u001b[0m\u001b[39midentity\u001b[0m\u001b[39m,\u001b[0m\n",
       "          \u001b[0m\u001b[39mallowmissing\u001b[0m\u001b[38;5;81m::\u001b[0m\u001b[38;5;81mBool\u001b[0m\u001b[38;5;197m=\u001b[0m\u001b[38;5;197mfalse\u001b[0m\u001b[39m,\u001b[0m \u001b[0m\u001b[39mallowduplicates\u001b[0m\u001b[38;5;81m::\u001b[0m\u001b[38;5;81mBool\u001b[0m\u001b[38;5;197m=\u001b[0m\u001b[38;5;197mfalse\u001b[0m\u001b[39m)\u001b[0m\n",
       "  \u001b[0m\u001b[38;5;81munstack\u001b[0m(\u001b[0m\u001b[39mdf\u001b[0m\u001b[38;5;81m::\u001b[0m\u001b[38;5;81mAbstractDataFrame\u001b[0m\u001b[39m,\u001b[0m \u001b[0m\u001b[39mcolkey\u001b[0m\u001b[39m,\u001b[0m \u001b[0m\u001b[39mvalue\u001b[0m\u001b[39m;\u001b[0m \u001b[0m\u001b[39mrenamecols\u001b[0m\u001b[38;5;81m::\u001b[0m\u001b[38;5;81mFunction\u001b[0m\u001b[38;5;197m=\u001b[0m\u001b[39midentity\u001b[0m\u001b[39m,\u001b[0m\n",
       "          \u001b[0m\u001b[39mallowmissing\u001b[0m\u001b[38;5;81m::\u001b[0m\u001b[38;5;81mBool\u001b[0m\u001b[38;5;197m=\u001b[0m\u001b[38;5;197mfalse\u001b[0m\u001b[39m,\u001b[0m \u001b[0m\u001b[39mallowduplicates\u001b[0m\u001b[38;5;81m::\u001b[0m\u001b[38;5;81mBool\u001b[0m\u001b[38;5;197m=\u001b[0m\u001b[38;5;197mfalse\u001b[0m\u001b[39m)\u001b[0m\n",
       "  \u001b[0m\u001b[38;5;81munstack\u001b[0m(\u001b[0m\u001b[39mdf\u001b[0m\u001b[38;5;81m::\u001b[0m\u001b[38;5;81mAbstractDataFrame\u001b[0m\u001b[39m;\u001b[0m \u001b[0m\u001b[39mrenamecols\u001b[0m\u001b[38;5;81m::\u001b[0m\u001b[38;5;81mFunction\u001b[0m\u001b[38;5;197m=\u001b[0m\u001b[39midentity\u001b[0m\u001b[39m,\u001b[0m\n",
       "          \u001b[0m\u001b[39mallowmissing\u001b[0m\u001b[38;5;81m::\u001b[0m\u001b[38;5;81mBool\u001b[0m\u001b[38;5;197m=\u001b[0m\u001b[38;5;197mfalse\u001b[0m\u001b[39m,\u001b[0m \u001b[0m\u001b[39mallowduplicates\u001b[0m\u001b[38;5;81m::\u001b[0m\u001b[38;5;81mBool\u001b[0m\u001b[38;5;197m=\u001b[0m\u001b[38;5;197mfalse\u001b[0m\u001b[39m)\u001b[0m\u001b[39m\u001b[0m\n",
       "\n",
       "\n",
       "  Unstack data frame \u001b[36mdf\u001b[39m, i.e. convert it from long to wide format.\n",
       "\n",
       "  Row and column keys will be ordered in the order of their first appearance.\n",
       "\n",
       "\u001b[1m  Positional arguments\u001b[22m\n",
       "\u001b[1m  ≡≡≡≡≡≡≡≡≡≡≡≡≡≡≡≡≡≡≡≡≡≡\u001b[22m\n",
       "\n",
       "    •    \u001b[36mdf\u001b[39m : the AbstractDataFrame to be unstacked\n",
       "\n",
       "    •    \u001b[36mrowkeys\u001b[39m : the columns with a unique key for each row, if not\n",
       "        given, find a key by grouping on anything not a \u001b[36mcolkey\u001b[39m or \u001b[36mvalue\u001b[39m.\n",
       "        Can be any column selector (\u001b[36mSymbol\u001b[39m, string or integer; \u001b[36m:\u001b[39m, \u001b[36mCols\u001b[39m,\n",
       "        \u001b[36mAll\u001b[39m, \u001b[36mBetween\u001b[39m, \u001b[36mNot\u001b[39m, a regular expression, or a vector of \u001b[36mSymbol\u001b[39ms,\n",
       "        strings or integers).\n",
       "\n",
       "    •    \u001b[36mcolkey\u001b[39m : the column (\u001b[36mSymbol\u001b[39m, string or integer) holding the column\n",
       "        names in wide format, defaults to \u001b[36m:variable\u001b[39m\n",
       "\n",
       "    •    \u001b[36mvalue\u001b[39m : the value column (\u001b[36mSymbol\u001b[39m, string or integer), defaults to\n",
       "        \u001b[36m:value\u001b[39m\n",
       "\n",
       "\u001b[1m  Keyword arguments\u001b[22m\n",
       "\u001b[1m  ≡≡≡≡≡≡≡≡≡≡≡≡≡≡≡≡≡≡≡\u001b[22m\n",
       "\n",
       "    •    \u001b[36mrenamecols\u001b[39m: a function called on each unique value in \u001b[36mcolkey\u001b[39m; it\n",
       "        must return the name of the column to be created (typically as a\n",
       "        string or a \u001b[36mSymbol\u001b[39m). Duplicates in resulting names when converted\n",
       "        to \u001b[36mSymbol\u001b[39m are not allowed. By default no transformation is\n",
       "        performed.\n",
       "\n",
       "    •    \u001b[36mallowmissing\u001b[39m: if \u001b[36mfalse\u001b[39m (the default) then an error will be thrown\n",
       "        if \u001b[36mcolkey\u001b[39m contains \u001b[36mmissing\u001b[39m values; if \u001b[36mtrue\u001b[39m then a column referring\n",
       "        to \u001b[36mmissing\u001b[39m value will be created.\n",
       "\n",
       "    •    allowduplicates\u001b[36m: if\u001b[39mfalse\u001b[36m(the default) then an error an error will\n",
       "        be thrown if combination of\u001b[39mrowkeys\u001b[36mand\u001b[39mcolkey\u001b[36mcontains duplicate\n",
       "        entries; if\u001b[39mtrue\u001b[36mthen  then the last encountered\u001b[39mvalue` will be\n",
       "        retained.\n",
       "\n",
       "\u001b[1m  Examples\u001b[22m\n",
       "\u001b[1m  ≡≡≡≡≡≡≡≡≡≡\u001b[22m\n",
       "\n",
       "  \u001b[39mjulia\u001b[0m\u001b[38;5;197m>\u001b[0m \u001b[0m\u001b[38;5;197musing\u001b[0m \u001b[0m\u001b[39mRandom\u001b[0m\n",
       "  \n",
       "  \u001b[0m\u001b[39mjulia\u001b[0m\u001b[38;5;197m>\u001b[0m \u001b[0m\u001b[39mRandom\u001b[0m\u001b[38;5;197m.\u001b[0m\u001b[38;5;81mseed!\u001b[0m(\u001b[0m\u001b[38;5;141m1234\u001b[0m\u001b[39m)\u001b[0m\u001b[39m;\u001b[0m\n",
       "  \n",
       "  \u001b[0m\u001b[39mjulia\u001b[0m\u001b[38;5;197m>\u001b[0m \u001b[0m\u001b[39mwide\u001b[0m \u001b[0m\u001b[38;5;197m=\u001b[0m \u001b[0m\u001b[38;5;81mDataFrame\u001b[0m(\u001b[0m\u001b[39mid\u001b[0m \u001b[0m\u001b[38;5;197m=\u001b[0m \u001b[0m\u001b[38;5;141m1\u001b[0m\u001b[38;5;197m:\u001b[0m\u001b[38;5;141m6\u001b[0m\u001b[39m,\u001b[0m\n",
       "                          \u001b[0m\u001b[39ma\u001b[0m  \u001b[0m\u001b[38;5;197m=\u001b[0m \u001b[0m\u001b[38;5;81mrepeat\u001b[0m(\u001b[0m\u001b[39m[\u001b[0m\u001b[38;5;141m1\u001b[0m\u001b[38;5;197m:\u001b[0m\u001b[38;5;141m3\u001b[0m\u001b[39m;\u001b[0m\u001b[39m]\u001b[0m\u001b[39m,\u001b[0m \u001b[0m\u001b[39minner\u001b[0m \u001b[0m\u001b[38;5;197m=\u001b[0m \u001b[0m\u001b[39m[\u001b[0m\u001b[38;5;141m2\u001b[0m\u001b[39m]\u001b[0m\u001b[39m)\u001b[0m\u001b[39m,\u001b[0m\n",
       "                          \u001b[0m\u001b[39mb\u001b[0m  \u001b[0m\u001b[38;5;197m=\u001b[0m \u001b[0m\u001b[38;5;81mrepeat\u001b[0m(\u001b[0m\u001b[39m[\u001b[0m\u001b[38;5;141m1\u001b[0m\u001b[38;5;197m:\u001b[0m\u001b[38;5;141m2\u001b[0m\u001b[39m;\u001b[0m\u001b[39m]\u001b[0m\u001b[39m,\u001b[0m \u001b[0m\u001b[39minner\u001b[0m \u001b[0m\u001b[38;5;197m=\u001b[0m \u001b[0m\u001b[39m[\u001b[0m\u001b[38;5;141m3\u001b[0m\u001b[39m]\u001b[0m\u001b[39m)\u001b[0m\u001b[39m,\u001b[0m\n",
       "                          \u001b[0m\u001b[39mc\u001b[0m  \u001b[0m\u001b[38;5;197m=\u001b[0m \u001b[0m\u001b[38;5;81mrandn\u001b[0m(\u001b[0m\u001b[38;5;141m6\u001b[0m\u001b[39m)\u001b[0m\u001b[39m,\u001b[0m\n",
       "                          \u001b[0m\u001b[39md\u001b[0m  \u001b[0m\u001b[38;5;197m=\u001b[0m \u001b[0m\u001b[38;5;81mrandn\u001b[0m(\u001b[0m\u001b[38;5;141m6\u001b[0m\u001b[39m)\u001b[0m\u001b[39m)\u001b[0m\n",
       "  \u001b[0m\u001b[38;5;141m6\u001b[0m\u001b[38;5;197m×\u001b[0m\u001b[38;5;141m5\u001b[0m \u001b[0m\u001b[39mDataFrame\u001b[0m\n",
       "   \u001b[0m\u001b[39mRow\u001b[0m \u001b[0m\u001b[39m│\u001b[0m \u001b[0m\u001b[39mid\u001b[0m     \u001b[0m\u001b[39ma\u001b[0m      \u001b[0m\u001b[39mb\u001b[0m      \u001b[0m\u001b[39mc\u001b[0m          \u001b[0m\u001b[39md\u001b[0m\n",
       "       \u001b[0m\u001b[39m│\u001b[0m \u001b[0m\u001b[39mInt64\u001b[0m  \u001b[0m\u001b[39mInt64\u001b[0m  \u001b[0m\u001b[39mInt64\u001b[0m  \u001b[0m\u001b[39mFloat64\u001b[0m    \u001b[0m\u001b[39mFloat64\u001b[0m\n",
       "  \u001b[0m\u001b[39m─────┼────────────────────────────────────────────\u001b[0m\n",
       "     \u001b[0m\u001b[38;5;141m1\u001b[0m \u001b[0m\u001b[39m│\u001b[0m     \u001b[0m\u001b[38;5;141m1\u001b[0m      \u001b[0m\u001b[38;5;141m1\u001b[0m      \u001b[0m\u001b[38;5;141m1\u001b[0m   \u001b[0m\u001b[38;5;141m0.867347\u001b[0m   \u001b[0m\u001b[38;5;141m0.532813\u001b[0m\n",
       "     \u001b[0m\u001b[38;5;141m2\u001b[0m \u001b[0m\u001b[39m│\u001b[0m     \u001b[0m\u001b[38;5;141m2\u001b[0m      \u001b[0m\u001b[38;5;141m1\u001b[0m      \u001b[0m\u001b[38;5;141m1\u001b[0m  \u001b[0m\u001b[38;5;197m-\u001b[0m\u001b[38;5;141m0.901744\u001b[0m  \u001b[0m\u001b[38;5;197m-\u001b[0m\u001b[38;5;141m0.271735\u001b[0m\n",
       "     \u001b[0m\u001b[38;5;141m3\u001b[0m \u001b[0m\u001b[39m│\u001b[0m     \u001b[0m\u001b[38;5;141m3\u001b[0m      \u001b[0m\u001b[38;5;141m2\u001b[0m      \u001b[0m\u001b[38;5;141m1\u001b[0m  \u001b[0m\u001b[38;5;197m-\u001b[0m\u001b[38;5;141m0.494479\u001b[0m   \u001b[0m\u001b[38;5;141m0.502334\u001b[0m\n",
       "     \u001b[0m\u001b[38;5;141m4\u001b[0m \u001b[0m\u001b[39m│\u001b[0m     \u001b[0m\u001b[38;5;141m4\u001b[0m      \u001b[0m\u001b[38;5;141m2\u001b[0m      \u001b[0m\u001b[38;5;141m2\u001b[0m  \u001b[0m\u001b[38;5;197m-\u001b[0m\u001b[38;5;141m0.902914\u001b[0m  \u001b[0m\u001b[38;5;197m-\u001b[0m\u001b[38;5;141m0.516984\u001b[0m\n",
       "     \u001b[0m\u001b[38;5;141m5\u001b[0m \u001b[0m\u001b[39m│\u001b[0m     \u001b[0m\u001b[38;5;141m5\u001b[0m      \u001b[0m\u001b[38;5;141m3\u001b[0m      \u001b[0m\u001b[38;5;141m2\u001b[0m   \u001b[0m\u001b[38;5;141m0.864401\u001b[0m  \u001b[0m\u001b[38;5;197m-\u001b[0m\u001b[38;5;141m0.560501\u001b[0m\n",
       "     \u001b[0m\u001b[38;5;141m6\u001b[0m \u001b[0m\u001b[39m│\u001b[0m     \u001b[0m\u001b[38;5;141m6\u001b[0m      \u001b[0m\u001b[38;5;141m3\u001b[0m      \u001b[0m\u001b[38;5;141m2\u001b[0m   \u001b[0m\u001b[38;5;141m2.21188\u001b[0m   \u001b[0m\u001b[38;5;197m-\u001b[0m\u001b[38;5;141m0.0192918\u001b[0m\n",
       "  \n",
       "  \u001b[0m\u001b[39mjulia\u001b[0m\u001b[38;5;197m>\u001b[0m \u001b[0m\u001b[39mlong\u001b[0m \u001b[0m\u001b[38;5;197m=\u001b[0m \u001b[0m\u001b[38;5;81mstack\u001b[0m(\u001b[0m\u001b[39mwide\u001b[0m\u001b[39m)\u001b[0m\n",
       "  \u001b[0m\u001b[38;5;141m12\u001b[0m\u001b[38;5;197m×\u001b[0m\u001b[38;5;141m5\u001b[0m \u001b[0m\u001b[39mDataFrame\u001b[0m\n",
       "   \u001b[0m\u001b[39mRow\u001b[0m \u001b[0m\u001b[39m│\u001b[0m \u001b[0m\u001b[39mid\u001b[0m     \u001b[0m\u001b[39ma\u001b[0m      \u001b[0m\u001b[39mb\u001b[0m      \u001b[0m\u001b[39mvariable\u001b[0m  \u001b[0m\u001b[39mvalue\u001b[0m\n",
       "       \u001b[0m\u001b[39m│\u001b[0m \u001b[0m\u001b[39mInt64\u001b[0m  \u001b[0m\u001b[39mInt64\u001b[0m  \u001b[0m\u001b[39mInt64\u001b[0m  \u001b[0m\u001b[39mString\u001b[0m    \u001b[0m\u001b[39mFloat64\u001b[0m\n",
       "  \u001b[0m\u001b[39m─────┼───────────────────────────────────────────\u001b[0m\n",
       "     \u001b[0m\u001b[38;5;141m1\u001b[0m \u001b[0m\u001b[39m│\u001b[0m     \u001b[0m\u001b[38;5;141m1\u001b[0m      \u001b[0m\u001b[38;5;141m1\u001b[0m      \u001b[0m\u001b[38;5;141m1\u001b[0m  \u001b[0m\u001b[39mc\u001b[0m          \u001b[0m\u001b[38;5;141m0.867347\u001b[0m\n",
       "     \u001b[0m\u001b[38;5;141m2\u001b[0m \u001b[0m\u001b[39m│\u001b[0m     \u001b[0m\u001b[38;5;141m2\u001b[0m      \u001b[0m\u001b[38;5;141m1\u001b[0m      \u001b[0m\u001b[38;5;141m1\u001b[0m  \u001b[0m\u001b[39mc\u001b[0m         \u001b[0m\u001b[38;5;197m-\u001b[0m\u001b[38;5;141m0.901744\u001b[0m\n",
       "     \u001b[0m\u001b[38;5;141m3\u001b[0m \u001b[0m\u001b[39m│\u001b[0m     \u001b[0m\u001b[38;5;141m3\u001b[0m      \u001b[0m\u001b[38;5;141m2\u001b[0m      \u001b[0m\u001b[38;5;141m1\u001b[0m  \u001b[0m\u001b[39mc\u001b[0m         \u001b[0m\u001b[38;5;197m-\u001b[0m\u001b[38;5;141m0.494479\u001b[0m\n",
       "     \u001b[0m\u001b[38;5;141m4\u001b[0m \u001b[0m\u001b[39m│\u001b[0m     \u001b[0m\u001b[38;5;141m4\u001b[0m      \u001b[0m\u001b[38;5;141m2\u001b[0m      \u001b[0m\u001b[38;5;141m2\u001b[0m  \u001b[0m\u001b[39mc\u001b[0m         \u001b[0m\u001b[38;5;197m-\u001b[0m\u001b[38;5;141m0.902914\u001b[0m\n",
       "    \u001b[0m\u001b[38;5;197m⋮\u001b[0m  \u001b[0m\u001b[39m│\u001b[0m   \u001b[0m\u001b[38;5;197m⋮\u001b[0m      \u001b[0m\u001b[38;5;197m⋮\u001b[0m      \u001b[0m\u001b[38;5;197m⋮\u001b[0m       \u001b[0m\u001b[38;5;197m⋮\u001b[0m          \u001b[0m\u001b[38;5;197m⋮\u001b[0m\n",
       "    \u001b[0m\u001b[38;5;141m10\u001b[0m \u001b[0m\u001b[39m│\u001b[0m     \u001b[0m\u001b[38;5;141m4\u001b[0m      \u001b[0m\u001b[38;5;141m2\u001b[0m      \u001b[0m\u001b[38;5;141m2\u001b[0m  \u001b[0m\u001b[39md\u001b[0m         \u001b[0m\u001b[38;5;197m-\u001b[0m\u001b[38;5;141m0.516984\u001b[0m\n",
       "    \u001b[0m\u001b[38;5;141m11\u001b[0m \u001b[0m\u001b[39m│\u001b[0m     \u001b[0m\u001b[38;5;141m5\u001b[0m      \u001b[0m\u001b[38;5;141m3\u001b[0m      \u001b[0m\u001b[38;5;141m2\u001b[0m  \u001b[0m\u001b[39md\u001b[0m         \u001b[0m\u001b[38;5;197m-\u001b[0m\u001b[38;5;141m0.560501\u001b[0m\n",
       "    \u001b[0m\u001b[38;5;141m12\u001b[0m \u001b[0m\u001b[39m│\u001b[0m     \u001b[0m\u001b[38;5;141m6\u001b[0m      \u001b[0m\u001b[38;5;141m3\u001b[0m      \u001b[0m\u001b[38;5;141m2\u001b[0m  \u001b[0m\u001b[39md\u001b[0m         \u001b[0m\u001b[38;5;197m-\u001b[0m\u001b[38;5;141m0.0192918\u001b[0m\n",
       "                                     \u001b[0m\u001b[38;5;141m5\u001b[0m \u001b[0m\u001b[39mrows\u001b[0m \u001b[0m\u001b[39momitted\u001b[0m\n",
       "  \n",
       "  \u001b[0m\u001b[39mjulia\u001b[0m\u001b[38;5;197m>\u001b[0m \u001b[0m\u001b[38;5;81munstack\u001b[0m(\u001b[0m\u001b[39mlong\u001b[0m\u001b[39m)\u001b[0m\n",
       "  \u001b[0m\u001b[38;5;141m6\u001b[0m\u001b[38;5;197m×\u001b[0m\u001b[38;5;141m5\u001b[0m \u001b[0m\u001b[39mDataFrame\u001b[0m\n",
       "   \u001b[0m\u001b[39mRow\u001b[0m \u001b[0m\u001b[39m│\u001b[0m \u001b[0m\u001b[39mid\u001b[0m     \u001b[0m\u001b[39ma\u001b[0m      \u001b[0m\u001b[39mb\u001b[0m      \u001b[0m\u001b[39mc\u001b[0m          \u001b[0m\u001b[39md\u001b[0m\n",
       "       \u001b[0m\u001b[39m│\u001b[0m \u001b[0m\u001b[39mInt64\u001b[0m  \u001b[0m\u001b[39mInt64\u001b[0m  \u001b[0m\u001b[39mInt64\u001b[0m  \u001b[0m\u001b[39mFloat64\u001b[0m\u001b[38;5;197m?\u001b[0m   \u001b[0m\u001b[39mFloat64\u001b[0m\u001b[38;5;197m?\u001b[0m\n",
       "  \u001b[0m\u001b[39m─────┼────────────────────────────────────────────\u001b[0m\n",
       "     \u001b[0m\u001b[38;5;141m1\u001b[0m \u001b[0m\u001b[39m│\u001b[0m     \u001b[0m\u001b[38;5;141m1\u001b[0m      \u001b[0m\u001b[38;5;141m1\u001b[0m      \u001b[0m\u001b[38;5;141m1\u001b[0m   \u001b[0m\u001b[38;5;141m0.867347\u001b[0m   \u001b[0m\u001b[38;5;141m0.532813\u001b[0m\n",
       "     \u001b[0m\u001b[38;5;141m2\u001b[0m \u001b[0m\u001b[39m│\u001b[0m     \u001b[0m\u001b[38;5;141m2\u001b[0m      \u001b[0m\u001b[38;5;141m1\u001b[0m      \u001b[0m\u001b[38;5;141m1\u001b[0m  \u001b[0m\u001b[38;5;197m-\u001b[0m\u001b[38;5;141m0.901744\u001b[0m  \u001b[0m\u001b[38;5;197m-\u001b[0m\u001b[38;5;141m0.271735\u001b[0m\n",
       "     \u001b[0m\u001b[38;5;141m3\u001b[0m \u001b[0m\u001b[39m│\u001b[0m     \u001b[0m\u001b[38;5;141m3\u001b[0m      \u001b[0m\u001b[38;5;141m2\u001b[0m      \u001b[0m\u001b[38;5;141m1\u001b[0m  \u001b[0m\u001b[38;5;197m-\u001b[0m\u001b[38;5;141m0.494479\u001b[0m   \u001b[0m\u001b[38;5;141m0.502334\u001b[0m\n",
       "     \u001b[0m\u001b[38;5;141m4\u001b[0m \u001b[0m\u001b[39m│\u001b[0m     \u001b[0m\u001b[38;5;141m4\u001b[0m      \u001b[0m\u001b[38;5;141m2\u001b[0m      \u001b[0m\u001b[38;5;141m2\u001b[0m  \u001b[0m\u001b[38;5;197m-\u001b[0m\u001b[38;5;141m0.902914\u001b[0m  \u001b[0m\u001b[38;5;197m-\u001b[0m\u001b[38;5;141m0.516984\u001b[0m\n",
       "     \u001b[0m\u001b[38;5;141m5\u001b[0m \u001b[0m\u001b[39m│\u001b[0m     \u001b[0m\u001b[38;5;141m5\u001b[0m      \u001b[0m\u001b[38;5;141m3\u001b[0m      \u001b[0m\u001b[38;5;141m2\u001b[0m   \u001b[0m\u001b[38;5;141m0.864401\u001b[0m  \u001b[0m\u001b[38;5;197m-\u001b[0m\u001b[38;5;141m0.560501\u001b[0m\n",
       "     \u001b[0m\u001b[38;5;141m6\u001b[0m \u001b[0m\u001b[39m│\u001b[0m     \u001b[0m\u001b[38;5;141m6\u001b[0m      \u001b[0m\u001b[38;5;141m3\u001b[0m      \u001b[0m\u001b[38;5;141m2\u001b[0m   \u001b[0m\u001b[38;5;141m2.21188\u001b[0m   \u001b[0m\u001b[38;5;197m-\u001b[0m\u001b[38;5;141m0.0192918\u001b[0m\n",
       "  \n",
       "  \u001b[0m\u001b[39mjulia\u001b[0m\u001b[38;5;197m>\u001b[0m \u001b[0m\u001b[38;5;81munstack\u001b[0m(\u001b[0m\u001b[39mlong\u001b[0m\u001b[39m,\u001b[0m \u001b[0m\u001b[38;5;141m:\u001b[0m\u001b[38;5;141mvariable\u001b[0m\u001b[39m,\u001b[0m \u001b[0m\u001b[38;5;141m:\u001b[0m\u001b[38;5;141mvalue\u001b[0m\u001b[39m)\u001b[0m\n",
       "  \u001b[0m\u001b[38;5;141m6\u001b[0m\u001b[38;5;197m×\u001b[0m\u001b[38;5;141m5\u001b[0m \u001b[0m\u001b[39mDataFrame\u001b[0m\n",
       "   \u001b[0m\u001b[39mRow\u001b[0m \u001b[0m\u001b[39m│\u001b[0m \u001b[0m\u001b[39mid\u001b[0m     \u001b[0m\u001b[39ma\u001b[0m      \u001b[0m\u001b[39mb\u001b[0m      \u001b[0m\u001b[39mc\u001b[0m          \u001b[0m\u001b[39md\u001b[0m\n",
       "       \u001b[0m\u001b[39m│\u001b[0m \u001b[0m\u001b[39mInt64\u001b[0m  \u001b[0m\u001b[39mInt64\u001b[0m  \u001b[0m\u001b[39mInt64\u001b[0m  \u001b[0m\u001b[39mFloat64\u001b[0m\u001b[38;5;197m?\u001b[0m   \u001b[0m\u001b[39mFloat64\u001b[0m\u001b[38;5;197m?\u001b[0m\n",
       "  \u001b[0m\u001b[39m─────┼────────────────────────────────────────────\u001b[0m\n",
       "     \u001b[0m\u001b[38;5;141m1\u001b[0m \u001b[0m\u001b[39m│\u001b[0m     \u001b[0m\u001b[38;5;141m1\u001b[0m      \u001b[0m\u001b[38;5;141m1\u001b[0m      \u001b[0m\u001b[38;5;141m1\u001b[0m   \u001b[0m\u001b[38;5;141m0.867347\u001b[0m   \u001b[0m\u001b[38;5;141m0.532813\u001b[0m\n",
       "     \u001b[0m\u001b[38;5;141m2\u001b[0m \u001b[0m\u001b[39m│\u001b[0m     \u001b[0m\u001b[38;5;141m2\u001b[0m      \u001b[0m\u001b[38;5;141m1\u001b[0m      \u001b[0m\u001b[38;5;141m1\u001b[0m  \u001b[0m\u001b[38;5;197m-\u001b[0m\u001b[38;5;141m0.901744\u001b[0m  \u001b[0m\u001b[38;5;197m-\u001b[0m\u001b[38;5;141m0.271735\u001b[0m\n",
       "     \u001b[0m\u001b[38;5;141m3\u001b[0m \u001b[0m\u001b[39m│\u001b[0m     \u001b[0m\u001b[38;5;141m3\u001b[0m      \u001b[0m\u001b[38;5;141m2\u001b[0m      \u001b[0m\u001b[38;5;141m1\u001b[0m  \u001b[0m\u001b[38;5;197m-\u001b[0m\u001b[38;5;141m0.494479\u001b[0m   \u001b[0m\u001b[38;5;141m0.502334\u001b[0m\n",
       "     \u001b[0m\u001b[38;5;141m4\u001b[0m \u001b[0m\u001b[39m│\u001b[0m     \u001b[0m\u001b[38;5;141m4\u001b[0m      \u001b[0m\u001b[38;5;141m2\u001b[0m      \u001b[0m\u001b[38;5;141m2\u001b[0m  \u001b[0m\u001b[38;5;197m-\u001b[0m\u001b[38;5;141m0.902914\u001b[0m  \u001b[0m\u001b[38;5;197m-\u001b[0m\u001b[38;5;141m0.516984\u001b[0m\n",
       "     \u001b[0m\u001b[38;5;141m5\u001b[0m \u001b[0m\u001b[39m│\u001b[0m     \u001b[0m\u001b[38;5;141m5\u001b[0m      \u001b[0m\u001b[38;5;141m3\u001b[0m      \u001b[0m\u001b[38;5;141m2\u001b[0m   \u001b[0m\u001b[38;5;141m0.864401\u001b[0m  \u001b[0m\u001b[38;5;197m-\u001b[0m\u001b[38;5;141m0.560501\u001b[0m\n",
       "     \u001b[0m\u001b[38;5;141m6\u001b[0m \u001b[0m\u001b[39m│\u001b[0m     \u001b[0m\u001b[38;5;141m6\u001b[0m      \u001b[0m\u001b[38;5;141m3\u001b[0m      \u001b[0m\u001b[38;5;141m2\u001b[0m   \u001b[0m\u001b[38;5;141m2.21188\u001b[0m   \u001b[0m\u001b[38;5;197m-\u001b[0m\u001b[38;5;141m0.0192918\u001b[0m\n",
       "  \n",
       "  \u001b[0m\u001b[39mjulia\u001b[0m\u001b[38;5;197m>\u001b[0m \u001b[0m\u001b[38;5;81munstack\u001b[0m(\u001b[0m\u001b[39mlong\u001b[0m\u001b[39m,\u001b[0m \u001b[0m\u001b[38;5;141m:\u001b[0m\u001b[38;5;141mid\u001b[0m\u001b[39m,\u001b[0m \u001b[0m\u001b[38;5;141m:\u001b[0m\u001b[38;5;141mvariable\u001b[0m\u001b[39m,\u001b[0m \u001b[0m\u001b[38;5;141m:\u001b[0m\u001b[38;5;141mvalue\u001b[0m\u001b[39m)\u001b[0m\n",
       "  \u001b[0m\u001b[38;5;141m6\u001b[0m\u001b[38;5;197m×\u001b[0m\u001b[38;5;141m3\u001b[0m \u001b[0m\u001b[39mDataFrame\u001b[0m\n",
       "   \u001b[0m\u001b[39mRow\u001b[0m \u001b[0m\u001b[39m│\u001b[0m \u001b[0m\u001b[39mid\u001b[0m     \u001b[0m\u001b[39mc\u001b[0m          \u001b[0m\u001b[39md\u001b[0m\n",
       "       \u001b[0m\u001b[39m│\u001b[0m \u001b[0m\u001b[39mInt64\u001b[0m  \u001b[0m\u001b[39mFloat64\u001b[0m\u001b[38;5;197m?\u001b[0m   \u001b[0m\u001b[39mFloat64\u001b[0m\u001b[38;5;197m?\u001b[0m\n",
       "  \u001b[0m\u001b[39m─────┼──────────────────────────────\u001b[0m\n",
       "     \u001b[0m\u001b[38;5;141m1\u001b[0m \u001b[0m\u001b[39m│\u001b[0m     \u001b[0m\u001b[38;5;141m1\u001b[0m   \u001b[0m\u001b[38;5;141m0.867347\u001b[0m   \u001b[0m\u001b[38;5;141m0.532813\u001b[0m\n",
       "     \u001b[0m\u001b[38;5;141m2\u001b[0m \u001b[0m\u001b[39m│\u001b[0m     \u001b[0m\u001b[38;5;141m2\u001b[0m  \u001b[0m\u001b[38;5;197m-\u001b[0m\u001b[38;5;141m0.901744\u001b[0m  \u001b[0m\u001b[38;5;197m-\u001b[0m\u001b[38;5;141m0.271735\u001b[0m\n",
       "     \u001b[0m\u001b[38;5;141m3\u001b[0m \u001b[0m\u001b[39m│\u001b[0m     \u001b[0m\u001b[38;5;141m3\u001b[0m  \u001b[0m\u001b[38;5;197m-\u001b[0m\u001b[38;5;141m0.494479\u001b[0m   \u001b[0m\u001b[38;5;141m0.502334\u001b[0m\n",
       "     \u001b[0m\u001b[38;5;141m4\u001b[0m \u001b[0m\u001b[39m│\u001b[0m     \u001b[0m\u001b[38;5;141m4\u001b[0m  \u001b[0m\u001b[38;5;197m-\u001b[0m\u001b[38;5;141m0.902914\u001b[0m  \u001b[0m\u001b[38;5;197m-\u001b[0m\u001b[38;5;141m0.516984\u001b[0m\n",
       "     \u001b[0m\u001b[38;5;141m5\u001b[0m \u001b[0m\u001b[39m│\u001b[0m     \u001b[0m\u001b[38;5;141m5\u001b[0m   \u001b[0m\u001b[38;5;141m0.864401\u001b[0m  \u001b[0m\u001b[38;5;197m-\u001b[0m\u001b[38;5;141m0.560501\u001b[0m\n",
       "     \u001b[0m\u001b[38;5;141m6\u001b[0m \u001b[0m\u001b[39m│\u001b[0m     \u001b[0m\u001b[38;5;141m6\u001b[0m   \u001b[0m\u001b[38;5;141m2.21188\u001b[0m   \u001b[0m\u001b[38;5;197m-\u001b[0m\u001b[38;5;141m0.0192918\u001b[0m\n",
       "  \n",
       "  \u001b[0m\u001b[39mjulia\u001b[0m\u001b[38;5;197m>\u001b[0m \u001b[0m\u001b[38;5;81munstack\u001b[0m(\u001b[0m\u001b[39mlong\u001b[0m\u001b[39m,\u001b[0m \u001b[0m\u001b[39m[\u001b[0m\u001b[38;5;141m:\u001b[0m\u001b[38;5;141mid\u001b[0m\u001b[39m,\u001b[0m \u001b[0m\u001b[38;5;141m:\u001b[0m\u001b[38;5;141ma\u001b[0m\u001b[39m]\u001b[0m\u001b[39m,\u001b[0m \u001b[0m\u001b[38;5;141m:\u001b[0m\u001b[38;5;141mvariable\u001b[0m\u001b[39m,\u001b[0m \u001b[0m\u001b[38;5;141m:\u001b[0m\u001b[38;5;141mvalue\u001b[0m\u001b[39m)\u001b[0m\n",
       "  \u001b[0m\u001b[38;5;141m6\u001b[0m\u001b[38;5;197m×\u001b[0m\u001b[38;5;141m4\u001b[0m \u001b[0m\u001b[39mDataFrame\u001b[0m\n",
       "   \u001b[0m\u001b[39mRow\u001b[0m \u001b[0m\u001b[39m│\u001b[0m \u001b[0m\u001b[39mid\u001b[0m     \u001b[0m\u001b[39ma\u001b[0m      \u001b[0m\u001b[39mc\u001b[0m          \u001b[0m\u001b[39md\u001b[0m\n",
       "       \u001b[0m\u001b[39m│\u001b[0m \u001b[0m\u001b[39mInt64\u001b[0m  \u001b[0m\u001b[39mInt64\u001b[0m  \u001b[0m\u001b[39mFloat64\u001b[0m\u001b[38;5;197m?\u001b[0m   \u001b[0m\u001b[39mFloat64\u001b[0m\u001b[38;5;197m?\u001b[0m\n",
       "  \u001b[0m\u001b[39m─────┼─────────────────────────────────────\u001b[0m\n",
       "     \u001b[0m\u001b[38;5;141m1\u001b[0m \u001b[0m\u001b[39m│\u001b[0m     \u001b[0m\u001b[38;5;141m1\u001b[0m      \u001b[0m\u001b[38;5;141m1\u001b[0m   \u001b[0m\u001b[38;5;141m0.867347\u001b[0m   \u001b[0m\u001b[38;5;141m0.532813\u001b[0m\n",
       "     \u001b[0m\u001b[38;5;141m2\u001b[0m \u001b[0m\u001b[39m│\u001b[0m     \u001b[0m\u001b[38;5;141m2\u001b[0m      \u001b[0m\u001b[38;5;141m1\u001b[0m  \u001b[0m\u001b[38;5;197m-\u001b[0m\u001b[38;5;141m0.901744\u001b[0m  \u001b[0m\u001b[38;5;197m-\u001b[0m\u001b[38;5;141m0.271735\u001b[0m\n",
       "     \u001b[0m\u001b[38;5;141m3\u001b[0m \u001b[0m\u001b[39m│\u001b[0m     \u001b[0m\u001b[38;5;141m3\u001b[0m      \u001b[0m\u001b[38;5;141m2\u001b[0m  \u001b[0m\u001b[38;5;197m-\u001b[0m\u001b[38;5;141m0.494479\u001b[0m   \u001b[0m\u001b[38;5;141m0.502334\u001b[0m\n",
       "     \u001b[0m\u001b[38;5;141m4\u001b[0m \u001b[0m\u001b[39m│\u001b[0m     \u001b[0m\u001b[38;5;141m4\u001b[0m      \u001b[0m\u001b[38;5;141m2\u001b[0m  \u001b[0m\u001b[38;5;197m-\u001b[0m\u001b[38;5;141m0.902914\u001b[0m  \u001b[0m\u001b[38;5;197m-\u001b[0m\u001b[38;5;141m0.516984\u001b[0m\n",
       "     \u001b[0m\u001b[38;5;141m5\u001b[0m \u001b[0m\u001b[39m│\u001b[0m     \u001b[0m\u001b[38;5;141m5\u001b[0m      \u001b[0m\u001b[38;5;141m3\u001b[0m   \u001b[0m\u001b[38;5;141m0.864401\u001b[0m  \u001b[0m\u001b[38;5;197m-\u001b[0m\u001b[38;5;141m0.560501\u001b[0m\n",
       "     \u001b[0m\u001b[38;5;141m6\u001b[0m \u001b[0m\u001b[39m│\u001b[0m     \u001b[0m\u001b[38;5;141m6\u001b[0m      \u001b[0m\u001b[38;5;141m3\u001b[0m   \u001b[0m\u001b[38;5;141m2.21188\u001b[0m   \u001b[0m\u001b[38;5;197m-\u001b[0m\u001b[38;5;141m0.0192918\u001b[0m\n",
       "  \n",
       "  \u001b[0m\u001b[39mjulia\u001b[0m\u001b[38;5;197m>\u001b[0m \u001b[0m\u001b[38;5;81munstack\u001b[0m(\u001b[0m\u001b[39mlong\u001b[0m\u001b[39m,\u001b[0m \u001b[0m\u001b[38;5;141m:\u001b[0m\u001b[38;5;141mid\u001b[0m\u001b[39m,\u001b[0m \u001b[0m\u001b[38;5;141m:\u001b[0m\u001b[38;5;141mvariable\u001b[0m\u001b[39m,\u001b[0m \u001b[0m\u001b[38;5;141m:\u001b[0m\u001b[38;5;141mvalue\u001b[0m\u001b[39m,\u001b[0m \u001b[0m\u001b[39mrenamecols\u001b[0m\u001b[38;5;197m=\u001b[0m\u001b[39mx\u001b[0m\u001b[38;5;197m->\u001b[0m\u001b[38;5;81mSymbol\u001b[0m(\u001b[0m\u001b[38;5;141m:\u001b[0m\u001b[38;5;141m_\u001b[0m\u001b[39m,\u001b[0m \u001b[0m\u001b[39mx\u001b[0m\u001b[39m)\u001b[0m\u001b[39m)\u001b[0m\n",
       "  \u001b[0m\u001b[38;5;141m6\u001b[0m\u001b[38;5;197m×\u001b[0m\u001b[38;5;141m3\u001b[0m \u001b[0m\u001b[39mDataFrame\u001b[0m\n",
       "   \u001b[0m\u001b[39mRow\u001b[0m \u001b[0m\u001b[39m│\u001b[0m \u001b[0m\u001b[39mid\u001b[0m     \u001b[0m\u001b[39m_c\u001b[0m         \u001b[0m\u001b[39m_d\u001b[0m\n",
       "       \u001b[0m\u001b[39m│\u001b[0m \u001b[0m\u001b[39mInt64\u001b[0m  \u001b[0m\u001b[39mFloat64\u001b[0m\u001b[38;5;197m?\u001b[0m   \u001b[0m\u001b[39mFloat64\u001b[0m\u001b[38;5;197m?\u001b[0m\n",
       "  \u001b[0m\u001b[39m─────┼──────────────────────────────\u001b[0m\n",
       "     \u001b[0m\u001b[38;5;141m1\u001b[0m \u001b[0m\u001b[39m│\u001b[0m     \u001b[0m\u001b[38;5;141m1\u001b[0m   \u001b[0m\u001b[38;5;141m0.867347\u001b[0m   \u001b[0m\u001b[38;5;141m0.532813\u001b[0m\n",
       "     \u001b[0m\u001b[38;5;141m2\u001b[0m \u001b[0m\u001b[39m│\u001b[0m     \u001b[0m\u001b[38;5;141m2\u001b[0m  \u001b[0m\u001b[38;5;197m-\u001b[0m\u001b[38;5;141m0.901744\u001b[0m  \u001b[0m\u001b[38;5;197m-\u001b[0m\u001b[38;5;141m0.271735\u001b[0m\n",
       "     \u001b[0m\u001b[38;5;141m3\u001b[0m \u001b[0m\u001b[39m│\u001b[0m     \u001b[0m\u001b[38;5;141m3\u001b[0m  \u001b[0m\u001b[38;5;197m-\u001b[0m\u001b[38;5;141m0.494479\u001b[0m   \u001b[0m\u001b[38;5;141m0.502334\u001b[0m\n",
       "     \u001b[0m\u001b[38;5;141m4\u001b[0m \u001b[0m\u001b[39m│\u001b[0m     \u001b[0m\u001b[38;5;141m4\u001b[0m  \u001b[0m\u001b[38;5;197m-\u001b[0m\u001b[38;5;141m0.902914\u001b[0m  \u001b[0m\u001b[38;5;197m-\u001b[0m\u001b[38;5;141m0.516984\u001b[0m\n",
       "     \u001b[0m\u001b[38;5;141m5\u001b[0m \u001b[0m\u001b[39m│\u001b[0m     \u001b[0m\u001b[38;5;141m5\u001b[0m   \u001b[0m\u001b[38;5;141m0.864401\u001b[0m  \u001b[0m\u001b[38;5;197m-\u001b[0m\u001b[38;5;141m0.560501\u001b[0m\n",
       "     \u001b[0m\u001b[38;5;141m6\u001b[0m \u001b[0m\u001b[39m│\u001b[0m     \u001b[0m\u001b[38;5;141m6\u001b[0m   \u001b[0m\u001b[38;5;141m2.21188\u001b[0m   \u001b[0m\u001b[38;5;197m-\u001b[0m\u001b[38;5;141m0.0192918\u001b[0m\u001b[39m\u001b[0m\n",
       "\n",
       "\n",
       "  Note that there are some differences between the widened results above."
      ],
      "text/markdown": "```\nunstack(df::AbstractDataFrame, rowkeys, colkey, value; renamecols::Function=identity,\n        allowmissing::Bool=false, allowduplicates::Bool=false)\nunstack(df::AbstractDataFrame, colkey, value; renamecols::Function=identity,\n        allowmissing::Bool=false, allowduplicates::Bool=false)\nunstack(df::AbstractDataFrame; renamecols::Function=identity,\n        allowmissing::Bool=false, allowduplicates::Bool=false)\n```\n\nUnstack data frame `df`, i.e. convert it from long to wide format.\n\nRow and column keys will be ordered in the order of their first appearance.\n\n# Positional arguments\n\n  * `df` : the AbstractDataFrame to be unstacked\n  * `rowkeys` : the columns with a unique key for each row, if not given, find a key by grouping on anything not a `colkey` or `value`. Can be any column selector (`Symbol`, string or integer; `:`, `Cols`, `All`, `Between`, `Not`, a regular expression, or a vector of `Symbol`s, strings or integers).\n  * `colkey` : the column (`Symbol`, string or integer) holding the column names in wide format, defaults to `:variable`\n  * `value` : the value column (`Symbol`, string or integer), defaults to `:value`\n\n# Keyword arguments\n\n  * `renamecols`: a function called on each unique value in `colkey`; it must return the name of the column to be created (typically as a string or a `Symbol`). Duplicates in resulting names when converted to `Symbol` are not allowed. By default no transformation is performed.\n  * `allowmissing`: if `false` (the default) then an error will be thrown if `colkey` contains `missing` values; if `true` then a column referring to `missing` value will be created.\n  * allowduplicates`: if`false`(the default) then an error an error will be thrown if combination of`rowkeys`and`colkey`contains duplicate entries; if`true`then  then the last encountered`value` will be retained.\n\n# Examples\n\n```julia\njulia> using Random\n\njulia> Random.seed!(1234);\n\njulia> wide = DataFrame(id = 1:6,\n                        a  = repeat([1:3;], inner = [2]),\n                        b  = repeat([1:2;], inner = [3]),\n                        c  = randn(6),\n                        d  = randn(6))\n6×5 DataFrame\n Row │ id     a      b      c          d\n     │ Int64  Int64  Int64  Float64    Float64\n─────┼────────────────────────────────────────────\n   1 │     1      1      1   0.867347   0.532813\n   2 │     2      1      1  -0.901744  -0.271735\n   3 │     3      2      1  -0.494479   0.502334\n   4 │     4      2      2  -0.902914  -0.516984\n   5 │     5      3      2   0.864401  -0.560501\n   6 │     6      3      2   2.21188   -0.0192918\n\njulia> long = stack(wide)\n12×5 DataFrame\n Row │ id     a      b      variable  value\n     │ Int64  Int64  Int64  String    Float64\n─────┼───────────────────────────────────────────\n   1 │     1      1      1  c          0.867347\n   2 │     2      1      1  c         -0.901744\n   3 │     3      2      1  c         -0.494479\n   4 │     4      2      2  c         -0.902914\n  ⋮  │   ⋮      ⋮      ⋮       ⋮          ⋮\n  10 │     4      2      2  d         -0.516984\n  11 │     5      3      2  d         -0.560501\n  12 │     6      3      2  d         -0.0192918\n                                   5 rows omitted\n\njulia> unstack(long)\n6×5 DataFrame\n Row │ id     a      b      c          d\n     │ Int64  Int64  Int64  Float64?   Float64?\n─────┼────────────────────────────────────────────\n   1 │     1      1      1   0.867347   0.532813\n   2 │     2      1      1  -0.901744  -0.271735\n   3 │     3      2      1  -0.494479   0.502334\n   4 │     4      2      2  -0.902914  -0.516984\n   5 │     5      3      2   0.864401  -0.560501\n   6 │     6      3      2   2.21188   -0.0192918\n\njulia> unstack(long, :variable, :value)\n6×5 DataFrame\n Row │ id     a      b      c          d\n     │ Int64  Int64  Int64  Float64?   Float64?\n─────┼────────────────────────────────────────────\n   1 │     1      1      1   0.867347   0.532813\n   2 │     2      1      1  -0.901744  -0.271735\n   3 │     3      2      1  -0.494479   0.502334\n   4 │     4      2      2  -0.902914  -0.516984\n   5 │     5      3      2   0.864401  -0.560501\n   6 │     6      3      2   2.21188   -0.0192918\n\njulia> unstack(long, :id, :variable, :value)\n6×3 DataFrame\n Row │ id     c          d\n     │ Int64  Float64?   Float64?\n─────┼──────────────────────────────\n   1 │     1   0.867347   0.532813\n   2 │     2  -0.901744  -0.271735\n   3 │     3  -0.494479   0.502334\n   4 │     4  -0.902914  -0.516984\n   5 │     5   0.864401  -0.560501\n   6 │     6   2.21188   -0.0192918\n\njulia> unstack(long, [:id, :a], :variable, :value)\n6×4 DataFrame\n Row │ id     a      c          d\n     │ Int64  Int64  Float64?   Float64?\n─────┼─────────────────────────────────────\n   1 │     1      1   0.867347   0.532813\n   2 │     2      1  -0.901744  -0.271735\n   3 │     3      2  -0.494479   0.502334\n   4 │     4      2  -0.902914  -0.516984\n   5 │     5      3   0.864401  -0.560501\n   6 │     6      3   2.21188   -0.0192918\n\njulia> unstack(long, :id, :variable, :value, renamecols=x->Symbol(:_, x))\n6×3 DataFrame\n Row │ id     _c         _d\n     │ Int64  Float64?   Float64?\n─────┼──────────────────────────────\n   1 │     1   0.867347   0.532813\n   2 │     2  -0.901744  -0.271735\n   3 │     3  -0.494479   0.502334\n   4 │     4  -0.902914  -0.516984\n   5 │     5   0.864401  -0.560501\n   6 │     6   2.21188   -0.0192918\n```\n\nNote that there are some differences between the widened results above.\n",
      "text/latex": "\\begin{verbatim}\nunstack(df::AbstractDataFrame, rowkeys, colkey, value; renamecols::Function=identity,\n        allowmissing::Bool=false, allowduplicates::Bool=false)\nunstack(df::AbstractDataFrame, colkey, value; renamecols::Function=identity,\n        allowmissing::Bool=false, allowduplicates::Bool=false)\nunstack(df::AbstractDataFrame; renamecols::Function=identity,\n        allowmissing::Bool=false, allowduplicates::Bool=false)\n\\end{verbatim}\nUnstack data frame \\texttt{df}, i.e. convert it from long to wide format.\n\nRow and column keys will be ordered in the order of their first appearance.\n\n\\section{Positional arguments}\n\\begin{itemize}\n\\item \\texttt{df} : the AbstractDataFrame to be unstacked\n\n\n\\item \\texttt{rowkeys} : the columns with a unique key for each row, if not given, find a key by grouping on anything not a \\texttt{colkey} or \\texttt{value}. Can be any column selector (\\texttt{Symbol}, string or integer; \\texttt{:}, \\texttt{Cols}, \\texttt{All}, \\texttt{Between}, \\texttt{Not}, a regular expression, or a vector of \\texttt{Symbol}s, strings or integers).\n\n\n\\item \\texttt{colkey} : the column (\\texttt{Symbol}, string or integer) holding the column names in wide format, defaults to \\texttt{:variable}\n\n\n\\item \\texttt{value} : the value column (\\texttt{Symbol}, string or integer), defaults to \\texttt{:value}\n\n\\end{itemize}\n\\section{Keyword arguments}\n\\begin{itemize}\n\\item \\texttt{renamecols}: a function called on each unique value in \\texttt{colkey}; it must return the name of the column to be created (typically as a string or a \\texttt{Symbol}). Duplicates in resulting names when converted to \\texttt{Symbol} are not allowed. By default no transformation is performed.\n\n\n\\item \\texttt{allowmissing}: if \\texttt{false} (the default) then an error will be thrown if \\texttt{colkey} contains \\texttt{missing} values; if \\texttt{true} then a column referring to \\texttt{missing} value will be created.\n\n\n\\item allowduplicates\\texttt{: if}false\\texttt{(the default) then an error an error will be thrown if combination of}rowkeys\\texttt{and}colkey\\texttt{contains duplicate entries; if}true\\texttt{then  then the last encountered}value` will be retained.\n\n\\end{itemize}\n\\section{Examples}\n\\begin{verbatim}\njulia> using Random\n\njulia> Random.seed!(1234);\n\njulia> wide = DataFrame(id = 1:6,\n                        a  = repeat([1:3;], inner = [2]),\n                        b  = repeat([1:2;], inner = [3]),\n                        c  = randn(6),\n                        d  = randn(6))\n6×5 DataFrame\n Row │ id     a      b      c          d\n     │ Int64  Int64  Int64  Float64    Float64\n─────┼────────────────────────────────────────────\n   1 │     1      1      1   0.867347   0.532813\n   2 │     2      1      1  -0.901744  -0.271735\n   3 │     3      2      1  -0.494479   0.502334\n   4 │     4      2      2  -0.902914  -0.516984\n   5 │     5      3      2   0.864401  -0.560501\n   6 │     6      3      2   2.21188   -0.0192918\n\njulia> long = stack(wide)\n12×5 DataFrame\n Row │ id     a      b      variable  value\n     │ Int64  Int64  Int64  String    Float64\n─────┼───────────────────────────────────────────\n   1 │     1      1      1  c          0.867347\n   2 │     2      1      1  c         -0.901744\n   3 │     3      2      1  c         -0.494479\n   4 │     4      2      2  c         -0.902914\n  ⋮  │   ⋮      ⋮      ⋮       ⋮          ⋮\n  10 │     4      2      2  d         -0.516984\n  11 │     5      3      2  d         -0.560501\n  12 │     6      3      2  d         -0.0192918\n                                   5 rows omitted\n\njulia> unstack(long)\n6×5 DataFrame\n Row │ id     a      b      c          d\n     │ Int64  Int64  Int64  Float64?   Float64?\n─────┼────────────────────────────────────────────\n   1 │     1      1      1   0.867347   0.532813\n   2 │     2      1      1  -0.901744  -0.271735\n   3 │     3      2      1  -0.494479   0.502334\n   4 │     4      2      2  -0.902914  -0.516984\n   5 │     5      3      2   0.864401  -0.560501\n   6 │     6      3      2   2.21188   -0.0192918\n\njulia> unstack(long, :variable, :value)\n6×5 DataFrame\n Row │ id     a      b      c          d\n     │ Int64  Int64  Int64  Float64?   Float64?\n─────┼────────────────────────────────────────────\n   1 │     1      1      1   0.867347   0.532813\n   2 │     2      1      1  -0.901744  -0.271735\n   3 │     3      2      1  -0.494479   0.502334\n   4 │     4      2      2  -0.902914  -0.516984\n   5 │     5      3      2   0.864401  -0.560501\n   6 │     6      3      2   2.21188   -0.0192918\n\njulia> unstack(long, :id, :variable, :value)\n6×3 DataFrame\n Row │ id     c          d\n     │ Int64  Float64?   Float64?\n─────┼──────────────────────────────\n   1 │     1   0.867347   0.532813\n   2 │     2  -0.901744  -0.271735\n   3 │     3  -0.494479   0.502334\n   4 │     4  -0.902914  -0.516984\n   5 │     5   0.864401  -0.560501\n   6 │     6   2.21188   -0.0192918\n\njulia> unstack(long, [:id, :a], :variable, :value)\n6×4 DataFrame\n Row │ id     a      c          d\n     │ Int64  Int64  Float64?   Float64?\n─────┼─────────────────────────────────────\n   1 │     1      1   0.867347   0.532813\n   2 │     2      1  -0.901744  -0.271735\n   3 │     3      2  -0.494479   0.502334\n   4 │     4      2  -0.902914  -0.516984\n   5 │     5      3   0.864401  -0.560501\n   6 │     6      3   2.21188   -0.0192918\n\njulia> unstack(long, :id, :variable, :value, renamecols=x->Symbol(:_, x))\n6×3 DataFrame\n Row │ id     _c         _d\n     │ Int64  Float64?   Float64?\n─────┼──────────────────────────────\n   1 │     1   0.867347   0.532813\n   2 │     2  -0.901744  -0.271735\n   3 │     3  -0.494479   0.502334\n   4 │     4  -0.902914  -0.516984\n   5 │     5   0.864401  -0.560501\n   6 │     6   2.21188   -0.0192918\n\\end{verbatim}\nNote that there are some differences between the widened results above.\n\n"
     },
     "metadata": {},
     "execution_count": 30
    }
   ],
   "source": [
    "?unstack"
   ]
  },
  {
   "cell_type": "code",
   "execution_count": null,
   "metadata": {},
   "outputs": [],
   "source": []
  }
 ],
 "metadata": {
  "@webio": {
   "lastCommId": null,
   "lastKernelId": null
  },
  "kernelspec": {
   "display_name": "Julia 1.5.3",
   "language": "julia",
   "name": "julia-1.5"
  },
  "language_info": {
   "file_extension": ".jl",
   "mimetype": "application/julia",
   "name": "julia",
   "version": "1.5.3"
  }
 },
 "nbformat": 4,
 "nbformat_minor": 4
}
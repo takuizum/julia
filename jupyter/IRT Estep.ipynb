{
 "cells": [
  {
   "cell_type": "markdown",
   "metadata": {},
   "source": [
    "### Juliaの計算は関数にしようって話\n",
    "\n",
    "項目反応理論 (IRT) モデルのパラメタ推定には潜在変数 (latent variable, hidden valiable) が含まれるため，それを周辺化して構造母数だけを推定するのがお作法。\n",
    "\n",
    "潜在変数を周辺化しながら最大化を図るための効率よいアルゴリズムにEMアルゴリズムと呼ばれるものがある。ところが困ったことにIRTモデルの尤度関数の潜在変数についての積分は解析的に解くことができない。\n",
    "\n",
    "そこで区分求積法に頼って近似計算をするわけだが，これが結構計算コストがかかる。R単体でfor loopを回すと，めっちゃおそい。\n",
    "\n",
    "普通はここでC++などの力を借りて高速化計算するのだが，今回はJuliaでお手軽高速化を図ってみたい。まだRとJuliaのIntegrationはよく分からないので，こんかいはJulia単体でいく。"
   ]
  },
  {
   "cell_type": "markdown",
   "metadata": {},
   "source": [
    "プロットに使うパラメタと関数の定義"
   ]
  },
  {
   "cell_type": "code",
   "execution_count": 1,
   "metadata": {},
   "outputs": [],
   "source": [
    "using Distributions, Random, StatsFuns, Plots"
   ]
  },
  {
   "cell_type": "code",
   "execution_count": 2,
   "metadata": {},
   "outputs": [
    {
     "data": {
      "text/plain": [
       "icc2pl (generic function with 1 method)"
      ]
     },
     "execution_count": 2,
     "metadata": {},
     "output_type": "execute_result"
    }
   ],
   "source": [
    "function icc2pl(θ::Float64, α::Float64, β::Float64)::Float64\n",
    "    x::Float64 = α * (θ - β)\n",
    "    p::Float64 = StatsFuns.logistic(x)\n",
    "    p\n",
    "end"
   ]
  },
  {
   "cell_type": "markdown",
   "metadata": {},
   "source": [
    "もっと賢い書き方もある気がするけど，とりあえず愚直にforを回す。"
   ]
  },
  {
   "cell_type": "code",
   "execution_count": 3,
   "metadata": {},
   "outputs": [
    {
     "data": {
      "image/svg+xml": [
       "<?xml version=\"1.0\" encoding=\"utf-8\"?>\n",
       "<svg xmlns=\"http://www.w3.org/2000/svg\" xmlns:xlink=\"http://www.w3.org/1999/xlink\" width=\"600\" height=\"400\" viewBox=\"0 0 2400 1600\">\n",
       "<defs>\n",
       "  <clipPath id=\"clip6000\">\n",
       "    <rect x=\"0\" y=\"0\" width=\"2400\" height=\"1600\"/>\n",
       "  </clipPath>\n",
       "</defs>\n",
       "<polygon clip-path=\"url(#clip6000)\" points=\"\n",
       "0,1600 2400,1600 2400,0 0,0 \n",
       "  \" fill=\"#ffffff\" fill-rule=\"evenodd\" fill-opacity=\"1\"/>\n",
       "<defs>\n",
       "  <clipPath id=\"clip6001\">\n",
       "    <rect x=\"480\" y=\"0\" width=\"1681\" height=\"1600\"/>\n",
       "  </clipPath>\n",
       "</defs>\n",
       "<polygon clip-path=\"url(#clip6000)\" points=\"\n",
       "188.156,1503.47 2321.26,1503.47 2321.26,47.2441 188.156,47.2441 \n",
       "  \" fill=\"#ffffff\" fill-rule=\"evenodd\" fill-opacity=\"1\"/>\n",
       "<defs>\n",
       "  <clipPath id=\"clip6002\">\n",
       "    <rect x=\"188\" y=\"47\" width=\"2134\" height=\"1457\"/>\n",
       "  </clipPath>\n",
       "</defs>\n",
       "<polyline clip-path=\"url(#clip6002)\" style=\"stroke:#000000; stroke-width:2; stroke-opacity:0.1; fill:none\" points=\"\n",
       "  248.527,1503.47 248.527,47.2441 \n",
       "  \"/>\n",
       "<polyline clip-path=\"url(#clip6002)\" style=\"stroke:#000000; stroke-width:2; stroke-opacity:0.1; fill:none\" points=\"\n",
       "  751.618,1503.47 751.618,47.2441 \n",
       "  \"/>\n",
       "<polyline clip-path=\"url(#clip6002)\" style=\"stroke:#000000; stroke-width:2; stroke-opacity:0.1; fill:none\" points=\"\n",
       "  1254.71,1503.47 1254.71,47.2441 \n",
       "  \"/>\n",
       "<polyline clip-path=\"url(#clip6002)\" style=\"stroke:#000000; stroke-width:2; stroke-opacity:0.1; fill:none\" points=\"\n",
       "  1757.8,1503.47 1757.8,47.2441 \n",
       "  \"/>\n",
       "<polyline clip-path=\"url(#clip6002)\" style=\"stroke:#000000; stroke-width:2; stroke-opacity:0.1; fill:none\" points=\"\n",
       "  2260.89,1503.47 2260.89,47.2441 \n",
       "  \"/>\n",
       "<polyline clip-path=\"url(#clip6002)\" style=\"stroke:#000000; stroke-width:2; stroke-opacity:0.1; fill:none\" points=\"\n",
       "  188.156,1487.89 2321.26,1487.89 \n",
       "  \"/>\n",
       "<polyline clip-path=\"url(#clip6002)\" style=\"stroke:#000000; stroke-width:2; stroke-opacity:0.1; fill:none\" points=\"\n",
       "  188.156,1131.63 2321.26,1131.63 \n",
       "  \"/>\n",
       "<polyline clip-path=\"url(#clip6002)\" style=\"stroke:#000000; stroke-width:2; stroke-opacity:0.1; fill:none\" points=\"\n",
       "  188.156,775.359 2321.26,775.359 \n",
       "  \"/>\n",
       "<polyline clip-path=\"url(#clip6002)\" style=\"stroke:#000000; stroke-width:2; stroke-opacity:0.1; fill:none\" points=\"\n",
       "  188.156,419.093 2321.26,419.093 \n",
       "  \"/>\n",
       "<polyline clip-path=\"url(#clip6002)\" style=\"stroke:#000000; stroke-width:2; stroke-opacity:0.1; fill:none\" points=\"\n",
       "  188.156,62.8266 2321.26,62.8266 \n",
       "  \"/>\n",
       "<polyline clip-path=\"url(#clip6000)\" style=\"stroke:#000000; stroke-width:4; stroke-opacity:1; fill:none\" points=\"\n",
       "  188.156,1503.47 2321.26,1503.47 \n",
       "  \"/>\n",
       "<polyline clip-path=\"url(#clip6000)\" style=\"stroke:#000000; stroke-width:4; stroke-opacity:1; fill:none\" points=\"\n",
       "  188.156,1503.47 188.156,47.2441 \n",
       "  \"/>\n",
       "<polyline clip-path=\"url(#clip6000)\" style=\"stroke:#000000; stroke-width:4; stroke-opacity:1; fill:none\" points=\"\n",
       "  248.527,1503.47 248.527,1481.63 \n",
       "  \"/>\n",
       "<polyline clip-path=\"url(#clip6000)\" style=\"stroke:#000000; stroke-width:4; stroke-opacity:1; fill:none\" points=\"\n",
       "  751.618,1503.47 751.618,1481.63 \n",
       "  \"/>\n",
       "<polyline clip-path=\"url(#clip6000)\" style=\"stroke:#000000; stroke-width:4; stroke-opacity:1; fill:none\" points=\"\n",
       "  1254.71,1503.47 1254.71,1481.63 \n",
       "  \"/>\n",
       "<polyline clip-path=\"url(#clip6000)\" style=\"stroke:#000000; stroke-width:4; stroke-opacity:1; fill:none\" points=\"\n",
       "  1757.8,1503.47 1757.8,1481.63 \n",
       "  \"/>\n",
       "<polyline clip-path=\"url(#clip6000)\" style=\"stroke:#000000; stroke-width:4; stroke-opacity:1; fill:none\" points=\"\n",
       "  2260.89,1503.47 2260.89,1481.63 \n",
       "  \"/>\n",
       "<polyline clip-path=\"url(#clip6000)\" style=\"stroke:#000000; stroke-width:4; stroke-opacity:1; fill:none\" points=\"\n",
       "  188.156,1487.89 220.153,1487.89 \n",
       "  \"/>\n",
       "<polyline clip-path=\"url(#clip6000)\" style=\"stroke:#000000; stroke-width:4; stroke-opacity:1; fill:none\" points=\"\n",
       "  188.156,1131.63 220.153,1131.63 \n",
       "  \"/>\n",
       "<polyline clip-path=\"url(#clip6000)\" style=\"stroke:#000000; stroke-width:4; stroke-opacity:1; fill:none\" points=\"\n",
       "  188.156,775.359 220.153,775.359 \n",
       "  \"/>\n",
       "<polyline clip-path=\"url(#clip6000)\" style=\"stroke:#000000; stroke-width:4; stroke-opacity:1; fill:none\" points=\"\n",
       "  188.156,419.093 220.153,419.093 \n",
       "  \"/>\n",
       "<polyline clip-path=\"url(#clip6000)\" style=\"stroke:#000000; stroke-width:4; stroke-opacity:1; fill:none\" points=\"\n",
       "  188.156,62.8266 220.153,62.8266 \n",
       "  \"/>\n",
       "<g clip-path=\"url(#clip6000)\">\n",
       "<text style=\"fill:#000000; fill-opacity:1; font-family:Arial,Helvetica Neue,Helvetica,sans-serif; font-size:48px; text-anchor:middle;\" transform=\"rotate(0, 248.527, 1557.47)\" x=\"248.527\" y=\"1557.47\">-4</text>\n",
       "</g>\n",
       "<g clip-path=\"url(#clip6000)\">\n",
       "<text style=\"fill:#000000; fill-opacity:1; font-family:Arial,Helvetica Neue,Helvetica,sans-serif; font-size:48px; text-anchor:middle;\" transform=\"rotate(0, 751.618, 1557.47)\" x=\"751.618\" y=\"1557.47\">-2</text>\n",
       "</g>\n",
       "<g clip-path=\"url(#clip6000)\">\n",
       "<text style=\"fill:#000000; fill-opacity:1; font-family:Arial,Helvetica Neue,Helvetica,sans-serif; font-size:48px; text-anchor:middle;\" transform=\"rotate(0, 1254.71, 1557.47)\" x=\"1254.71\" y=\"1557.47\">0</text>\n",
       "</g>\n",
       "<g clip-path=\"url(#clip6000)\">\n",
       "<text style=\"fill:#000000; fill-opacity:1; font-family:Arial,Helvetica Neue,Helvetica,sans-serif; font-size:48px; text-anchor:middle;\" transform=\"rotate(0, 1757.8, 1557.47)\" x=\"1757.8\" y=\"1557.47\">2</text>\n",
       "</g>\n",
       "<g clip-path=\"url(#clip6000)\">\n",
       "<text style=\"fill:#000000; fill-opacity:1; font-family:Arial,Helvetica Neue,Helvetica,sans-serif; font-size:48px; text-anchor:middle;\" transform=\"rotate(0, 2260.89, 1557.47)\" x=\"2260.89\" y=\"1557.47\">4</text>\n",
       "</g>\n",
       "<g clip-path=\"url(#clip6000)\">\n",
       "<text style=\"fill:#000000; fill-opacity:1; font-family:Arial,Helvetica Neue,Helvetica,sans-serif; font-size:48px; text-anchor:end;\" transform=\"rotate(0, 164.156, 1505.39)\" x=\"164.156\" y=\"1505.39\">0.00</text>\n",
       "</g>\n",
       "<g clip-path=\"url(#clip6000)\">\n",
       "<text style=\"fill:#000000; fill-opacity:1; font-family:Arial,Helvetica Neue,Helvetica,sans-serif; font-size:48px; text-anchor:end;\" transform=\"rotate(0, 164.156, 1149.13)\" x=\"164.156\" y=\"1149.13\">0.25</text>\n",
       "</g>\n",
       "<g clip-path=\"url(#clip6000)\">\n",
       "<text style=\"fill:#000000; fill-opacity:1; font-family:Arial,Helvetica Neue,Helvetica,sans-serif; font-size:48px; text-anchor:end;\" transform=\"rotate(0, 164.156, 792.859)\" x=\"164.156\" y=\"792.859\">0.50</text>\n",
       "</g>\n",
       "<g clip-path=\"url(#clip6000)\">\n",
       "<text style=\"fill:#000000; fill-opacity:1; font-family:Arial,Helvetica Neue,Helvetica,sans-serif; font-size:48px; text-anchor:end;\" transform=\"rotate(0, 164.156, 436.593)\" x=\"164.156\" y=\"436.593\">0.75</text>\n",
       "</g>\n",
       "<g clip-path=\"url(#clip6000)\">\n",
       "<text style=\"fill:#000000; fill-opacity:1; font-family:Arial,Helvetica Neue,Helvetica,sans-serif; font-size:48px; text-anchor:end;\" transform=\"rotate(0, 164.156, 80.3266)\" x=\"164.156\" y=\"80.3266\">1.00</text>\n",
       "</g>\n",
       "<polyline clip-path=\"url(#clip6002)\" style=\"stroke:#009af9; stroke-width:4; stroke-opacity:1; fill:none\" points=\"\n",
       "  248.527,1462.26 273.682,1459.62 298.836,1456.71 323.991,1453.51 349.145,1449.99 374.3,1446.12 399.454,1441.87 424.609,1437.2 449.763,1432.08 474.918,1426.46 \n",
       "  500.072,1420.31 525.227,1413.57 550.381,1406.2 575.536,1398.15 600.691,1389.37 625.845,1379.79 651,1369.37 676.154,1358.04 701.309,1345.74 726.463,1332.42 \n",
       "  751.618,1318.02 776.772,1302.48 801.927,1285.75 827.081,1267.77 852.236,1248.51 877.39,1227.92 902.545,1205.99 927.699,1182.69 952.854,1158.02 978.008,1132 \n",
       "  1003.16,1104.63 1028.32,1075.98 1053.47,1046.09 1078.63,1015.04 1103.78,982.929 1128.94,949.872 1154.09,915.996 1179.24,881.445 1204.4,846.376 1229.55,810.956 \n",
       "  1254.71,775.359 1279.86,739.762 1305.02,704.343 1330.17,669.274 1355.33,634.723 1380.48,600.847 1405.64,567.79 1430.79,535.681 1455.94,504.633 1481.1,474.743 \n",
       "  1506.25,446.086 1531.41,418.722 1556.56,392.694 1581.72,368.026 1606.87,344.728 1632.03,322.795 1657.18,302.211 1682.33,282.95 1707.49,264.974 1732.64,248.24 \n",
       "  1757.8,232.699 1782.95,218.297 1808.11,204.978 1833.26,192.683 1858.42,181.353 1883.57,170.93 1908.73,161.353 1933.88,152.568 1959.03,144.517 1984.19,137.149 \n",
       "  2009.34,130.412 2034.5,124.257 2059.65,118.64 2084.81,113.518 2109.96,108.85 2135.12,104.598 2160.27,100.729 2185.43,97.2092 2210.58,94.0089 2235.73,91.1004 \n",
       "  2260.89,88.4582 \n",
       "  \"/>\n",
       "<polygon clip-path=\"url(#clip6000)\" points=\"\n",
       "1958.43,251.724 2249.26,251.724 2249.26,130.764 1958.43,130.764 \n",
       "  \" fill=\"#ffffff\" fill-rule=\"evenodd\" fill-opacity=\"1\"/>\n",
       "<polyline clip-path=\"url(#clip6000)\" style=\"stroke:#000000; stroke-width:4; stroke-opacity:1; fill:none\" points=\"\n",
       "  1958.43,251.724 2249.26,251.724 2249.26,130.764 1958.43,130.764 1958.43,251.724 \n",
       "  \"/>\n",
       "<polyline clip-path=\"url(#clip6000)\" style=\"stroke:#009af9; stroke-width:4; stroke-opacity:1; fill:none\" points=\"\n",
       "  1982.43,191.244 2126.43,191.244 \n",
       "  \"/>\n",
       "<g clip-path=\"url(#clip6000)\">\n",
       "<text style=\"fill:#000000; fill-opacity:1; font-family:Arial,Helvetica Neue,Helvetica,sans-serif; font-size:48px; text-anchor:start;\" transform=\"rotate(0, 2150.43, 208.744)\" x=\"2150.43\" y=\"208.744\">y1</text>\n",
       "</g>\n",
       "</svg>\n"
      ]
     },
     "execution_count": 3,
     "metadata": {},
     "output_type": "execute_result"
    }
   ],
   "source": [
    "theta = collect(-4:0.1:4)\n",
    "icc = zeros(length(theta))\n",
    "for i in 1:length(theta)\n",
    "    icc[i] = icc2pl(theta[i], 1.0, 0.0)\n",
    "end\n",
    "plot(theta, icc)"
   ]
  },
  {
   "cell_type": "markdown",
   "metadata": {},
   "source": [
    "ｘ軸が右に行けば行くほど，ある問題への正答確率が高くなる様なモデルを考える。このときαは項目が持つ能力の識別性能の高さを，βは項目自体の難しさを表していると考える。ここら辺は項目反応理論でググってみてください。今回は割愛します。"
   ]
  },
  {
   "cell_type": "code",
   "execution_count": 40,
   "metadata": {},
   "outputs": [
    {
     "data": {
      "text/plain": [
       "resgen_bin (generic function with 1 method)"
      ]
     },
     "execution_count": 40,
     "metadata": {},
     "output_type": "execute_result"
    }
   ],
   "source": [
    "struct simgenClass2\n",
    "    resp::Array{Int64,2}\n",
    "    θ::Array{Float64,1}\n",
    "    α::Array{Float64,1}\n",
    "    β::Array{Float64,1}\n",
    "end\n",
    "\n",
    "function resgen_bin(N::Int, J::Int)\n",
    "    θ = rand(Normal(), N)\n",
    "    α = rand(LogNormal(), J)\n",
    "    β = rand(Normal(-1, 1), J)\n",
    "    resp = zeros(Int64, length(θ), length(α))\n",
    "    for i in 1:length(θ)\n",
    "        for j in 1:length(α)\n",
    "            resp[i, j] = ifelse(rand() > icc2pl(θ[i], α[j], β[j]), 0, 1)\n",
    "        end\n",
    "    end\n",
    "    simgenClass2(resp, θ, α, β)\n",
    "end"
   ]
  },
  {
   "cell_type": "markdown",
   "metadata": {},
   "source": [
    "擬似的な項目反応データを生成する。50000人分のデータを生成するのだが，ここの時点ですでに高速すぎてちびった。"
   ]
  },
  {
   "cell_type": "code",
   "execution_count": 43,
   "metadata": {},
   "outputs": [
    {
     "name": "stdout",
     "output_type": "stream",
     "text": [
      "  0.058579 seconds (2.76 k allocations: 19.498 MiB)\n"
     ]
    },
    {
     "data": {
      "text/plain": [
       "simgenClass2([1 0 … 1 1; 1 1 … 1 0; … ; 1 0 … 1 1; 1 1 … 1 1], [0.16099, -0.678808, 0.457395, 0.453073, 0.310874, -0.822951, 0.271002, -0.147871, -0.999116, -0.363523  …  -0.105797, -0.830859, -1.21541, 0.845631, 1.39459, 1.44449, -0.388785, -0.618865, -0.943425, -1.17293], [0.54494, 1.71906, 1.12542, 0.595063, 1.03782, 0.489053, 2.05296, 0.37631, 2.78794, 1.79084  …  2.1822, 0.694498, 1.18709, 0.946057, 6.65905, 3.11907, 0.286872, 1.02368, 1.53182, 0.488699], [-3.1403, -0.49488, 0.362954, -1.3816, -0.371558, -2.09085, -0.268813, -0.417073, -0.937248, 0.857298  …  -1.16759, -2.57849, -0.454556, -1.75791, -1.05828, 0.40001, -0.331622, -1.17879, -1.81634, -1.33322])"
      ]
     },
     "execution_count": 43,
     "metadata": {},
     "output_type": "execute_result"
    }
   ],
   "source": [
    "N = 50_000\n",
    "J = 50\n",
    "@time resgen_bin(N, J)"
   ]
  },
  {
   "cell_type": "markdown",
   "metadata": {},
   "source": [
    "尤度関数の周辺化を数値的に近似するための関数。"
   ]
  },
  {
   "cell_type": "code",
   "execution_count": 44,
   "metadata": {},
   "outputs": [
    {
     "data": {
      "text/plain": [
       "Estep (generic function with 1 method)"
      ]
     },
     "execution_count": 44,
     "metadata": {},
     "output_type": "execute_result"
    }
   ],
   "source": [
    "struct EstepClass2\n",
    "    resp::Array{Int64,2}\n",
    "    θ::Array{Float64,1}\n",
    "    α::Array{Float64,1}\n",
    "    β::Array{Float64,1}\n",
    "    Gim::Array{Float64,2}\n",
    "    Lim::Array{Float64,2}\n",
    "end\n",
    "\n",
    "function Estep(N::Int, J::Int, M::Int)\n",
    "    by = (4-(-4))/M\n",
    "    xq = collect(-4:by:4)\n",
    "    aq = pdf.(Normal(), xq) ./ sum(pdf.(Normal(), xq))\n",
    "    L = zeros(N, length(xq))\n",
    "    Gim = zeros(N, length(xq))\n",
    "    # sim data gen\n",
    "    resp = resgen_bin(N, J)\n",
    "    x = resp.resp\n",
    "    α = resp.α\n",
    "    β = resp.β\n",
    "    for m in 1:M\n",
    "        println(\"NOW...\", m)\n",
    "        for i in 1:N\n",
    "            Li = zeros(J)\n",
    "            for j in 1:J\n",
    "                Li[j] = ifelse(x[i, j] == 1, icc2pl(xq[m], α[j], β[j]), 1 - icc2pl(xq[m], α[j], β[j]))\n",
    "            end\n",
    "            L[i, m] = prod(Li)\n",
    "            Gim[i,m] = L[i,m] * aq[m]\n",
    "        end\n",
    "        if(m == length(xq))\n",
    "            for i in 1:N\n",
    "                Gim[i,m] = Gim[i,m]/sum(Gim[i,:])\n",
    "            end\n",
    "        end\n",
    "    end\n",
    "    EstepClass2(x, θ, α, β, Gim, L)\n",
    "end"
   ]
  },
  {
   "cell_type": "code",
   "execution_count": 36,
   "metadata": {},
   "outputs": [
    {
     "name": "stdout",
     "output_type": "stream",
     "text": [
      "NOW...1\n",
      "NOW...2\n",
      "NOW...3\n",
      "NOW...4\n",
      "NOW...5\n",
      "NOW...6\n",
      "NOW...7\n",
      "NOW...8\n",
      "NOW...9\n",
      "NOW...10\n",
      "NOW...11\n",
      "NOW...12\n",
      "NOW...13\n",
      "NOW...14\n",
      "NOW...15\n",
      "NOW...16\n",
      "NOW...17\n",
      "NOW...18\n",
      "NOW...19\n",
      "NOW...20\n",
      "NOW...21\n",
      "NOW...22\n",
      "NOW...23\n",
      "NOW...24\n",
      "NOW...25\n",
      "NOW...26\n",
      "NOW...27\n",
      "NOW...28\n",
      "NOW...29\n",
      "NOW...30\n",
      "  2.762779 seconds (1.63 M allocations: 758.630 MiB, 5.04% gc time)\n"
     ]
    },
    {
     "data": {
      "text/plain": [
       "EstepClass2([1 1 … 1 1; 1 1 … 1 1; … ; 1 1 … 1 1; 1 1 … 1 1], [-0.37216, 0.394744, 1.0254, 0.0571423, 0.80871, 1.02205, -0.383376, 0.114626, -1.59855, 0.249076  …  -0.107049, -0.35597, -0.0211458, 0.996935, -0.308854, 0.345422, 0.31834, 0.709949, -2.01223, 0.0424107], [1.48159, 0.932297, 0.811575, 1.59753, 0.855244, 4.2433, 4.43223, 0.439847, 0.461096, 0.905005  …  0.844219, 0.930126, 1.04635, 0.751366, 2.10459, 13.2816, 0.122729, 0.491111, 0.493516, 1.50265], [-1.54179, -1.3377, -1.79193, -1.00404, -1.69861, -0.991398, -1.41818, -1.01052, -0.331266, -1.77651  …  -1.16776, -3.63493, -1.86877, -0.332499, -0.855854, -0.140566, -2.58158, -2.59735, -1.43972, -2.08783], [2.99803e-119 4.0408e-110 … 6.50739e-14 0.0; 1.32238e-122 3.53826e-113 … 1.24229e-8 0.0; … ; 2.26314e-115 1.33017e-106 … 1.73261e-20 0.0; 2.79725e-57 3.96453e-52 … 0.0 0.0], [8.40037e-115 4.0376e-106 … 6.50224e-10 0.0; 3.70526e-118 3.53546e-109 … 0.00012413 0.0; … ; 6.34123e-111 1.32912e-102 … 1.73124e-16 0.0; 7.8378e-53 3.96139e-48 … 0.0 0.0])"
      ]
     },
     "execution_count": 36,
     "metadata": {},
     "output_type": "execute_result"
    }
   ],
   "source": [
    "@time Estep(50000, 50, 30)"
   ]
  },
  {
   "cell_type": "markdown",
   "metadata": {},
   "source": [
    "今度は関数化しないバージョン。最初にこちらのバージョンを走らせていて，「Juliaたいしたことねーな。」とか思っていたことは秘密。"
   ]
  },
  {
   "cell_type": "code",
   "execution_count": 39,
   "metadata": {},
   "outputs": [
    {
     "name": "stdout",
     "output_type": "stream",
     "text": [
      "NOW...1\n",
      "NOW...2\n",
      "NOW...3\n",
      "NOW...4\n",
      "NOW...5\n",
      "NOW...6\n",
      "NOW...7\n",
      "NOW...8\n",
      "NOW...9\n",
      "NOW...10\n",
      "NOW...11\n",
      "NOW...12\n",
      "NOW...13\n",
      "NOW...14\n",
      "NOW...15\n",
      "NOW...16\n",
      "NOW...17\n",
      "NOW...18\n",
      "NOW...19\n",
      "NOW...20\n",
      "NOW...21\n",
      "NOW...22\n",
      "NOW...23\n",
      "NOW...24\n",
      "NOW...25\n",
      "NOW...26\n",
      "NOW...27\n",
      "NOW...28\n",
      "NOW...29\n",
      "NOW...30\n",
      " 23.034723 seconds (613.47 M allocations: 10.975 GiB, 4.70% gc time)\n"
     ]
    }
   ],
   "source": [
    "N = 50_000\n",
    "J = 50\n",
    "M = 30\n",
    "by = (4-(-4))/M\n",
    "xq = collect(-4:by:4)\n",
    "aq = pdf.(Normal(), xq) ./ sum(pdf.(Normal(), xq))\n",
    "L = zeros(N, length(xq))\n",
    "Gim = zeros(N, length(xq))\n",
    "# sim data gen\n",
    "resp = resgen_bin(N, J)\n",
    "x = resp.resp\n",
    "α = resp.α\n",
    "β = resp.β\n",
    "@time for m in 1:M\n",
    "    println(\"NOW...\", m)\n",
    "    for i in 1:N\n",
    "        Li = zeros(J)\n",
    "        for j in 1:J\n",
    "            Li[j] = ifelse(x[i, j] == 1, icc2pl(xq[m], α[j], β[j]), 1 - icc2pl(xq[m], α[j], β[j]))\n",
    "        end\n",
    "        L[i, m] = prod(Li)\n",
    "        Gim[i,m] = L[i,m] * aq[m]\n",
    "    end\n",
    "    if(m == length(xq))\n",
    "        for i in 1:N\n",
    "            Gim[i,m] = Gim[i,m]/sum(Gim[i,:])\n",
    "        end\n",
    "    end\n",
    "end"
   ]
  },
  {
   "cell_type": "markdown",
   "metadata": {},
   "source": [
    "以上，Juliaでfor loopをいっぱい回すときは，関数にすることを心がけましょう。"
   ]
  },
  {
   "cell_type": "code",
   "execution_count": null,
   "metadata": {},
   "outputs": [],
   "source": []
  }
 ],
 "metadata": {
  "kernelspec": {
   "display_name": "Julia 1.1.0",
   "language": "julia",
   "name": "julia-1.1"
  },
  "language_info": {
   "file_extension": ".jl",
   "mimetype": "application/julia",
   "name": "julia",
   "version": "1.1.0"
  }
 },
 "nbformat": 4,
 "nbformat_minor": 2
}

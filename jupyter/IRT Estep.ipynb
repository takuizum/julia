{
 "cells": [
  {
   "cell_type": "markdown",
   "metadata": {},
   "source": [
    "### Juliaの計算は関数にしようって話\n",
    "\n",
    "項目反応理論 (IRT) モデルのパラメタ推定には潜在変数 (latent variable, hidden valiable) が含まれるため，それを周辺化して構造母数だけを推定するのがお作法。\n",
    "\n",
    "潜在変数を周辺化しながら最大化を図るための効率よいアルゴリズムにEMアルゴリズムと呼ばれるものがある。ところが困ったことにIRTモデルの尤度関数の潜在変数についての積分は解析的に解くことができない。\n",
    "\n",
    "そこで区分求積法に頼って近似計算をするわけだが，これが結構計算コストがかかる。R単体でfor loopを回すと，めっちゃおそい。\n",
    "\n",
    "普通はここでC++などの力を借りて高速化計算するのだが，今回はJuliaでお手軽高速化を図ってみたい。まだRとJuliaのIntegrationはよく分からないので，こんかいはJulia単体でいく。"
   ]
  },
  {
   "cell_type": "markdown",
   "metadata": {},
   "source": [
    "プロットに使うパラメタと関数の定義"
   ]
  },
  {
   "cell_type": "code",
   "execution_count": 29,
   "metadata": {},
   "outputs": [],
   "source": [
    "using Distributions, Random, StatsFuns, Plots"
   ]
  },
  {
   "cell_type": "code",
   "execution_count": 30,
   "metadata": {},
   "outputs": [
    {
     "data": {
      "text/plain": [
       "icc2pl (generic function with 1 method)"
      ]
     },
     "execution_count": 30,
     "metadata": {},
     "output_type": "execute_result"
    }
   ],
   "source": [
    "function icc2pl(θ::Float64, α::Float64, β::Float64)::Float64\n",
    "    x::Float64 = α * (θ - β)\n",
    "    p::Float64 = StatsFuns.logistic(x)\n",
    "    p\n",
    "end"
   ]
  },
  {
   "cell_type": "markdown",
   "metadata": {},
   "source": [
    "もっと賢い書き方もある気がするけど，とりあえず愚直にforを回す。"
   ]
  },
  {
   "cell_type": "code",
   "execution_count": 31,
   "metadata": {},
   "outputs": [
    {
     "data": {
      "image/svg+xml": [
       "<?xml version=\"1.0\" encoding=\"utf-8\"?>\n",
       "<svg xmlns=\"http://www.w3.org/2000/svg\" xmlns:xlink=\"http://www.w3.org/1999/xlink\" width=\"600\" height=\"400\" viewBox=\"0 0 2400 1600\">\n",
       "<defs>\n",
       "  <clipPath id=\"clip1000\">\n",
       "    <rect x=\"0\" y=\"0\" width=\"2400\" height=\"1600\"/>\n",
       "  </clipPath>\n",
       "</defs>\n",
       "<polygon clip-path=\"url(#clip1000)\" points=\"\n",
       "0,1600 2400,1600 2400,0 0,0 \n",
       "  \" fill=\"#ffffff\" fill-rule=\"evenodd\" fill-opacity=\"1\"/>\n",
       "<defs>\n",
       "  <clipPath id=\"clip1001\">\n",
       "    <rect x=\"480\" y=\"0\" width=\"1681\" height=\"1600\"/>\n",
       "  </clipPath>\n",
       "</defs>\n",
       "<polygon clip-path=\"url(#clip1000)\" points=\"\n",
       "180.66,1487.47 2352.76,1487.47 2352.76,47.2441 180.66,47.2441 \n",
       "  \" fill=\"#ffffff\" fill-rule=\"evenodd\" fill-opacity=\"1\"/>\n",
       "<defs>\n",
       "  <clipPath id=\"clip1002\">\n",
       "    <rect x=\"180\" y=\"47\" width=\"2173\" height=\"1441\"/>\n",
       "  </clipPath>\n",
       "</defs>\n",
       "<polyline clip-path=\"url(#clip1002)\" style=\"stroke:#000000; stroke-width:2; stroke-opacity:0.1; fill:none\" points=\"\n",
       "  242.135,1487.47 242.135,47.2441 \n",
       "  \"/>\n",
       "<polyline clip-path=\"url(#clip1002)\" style=\"stroke:#000000; stroke-width:2; stroke-opacity:0.1; fill:none\" points=\"\n",
       "  754.421,1487.47 754.421,47.2441 \n",
       "  \"/>\n",
       "<polyline clip-path=\"url(#clip1002)\" style=\"stroke:#000000; stroke-width:2; stroke-opacity:0.1; fill:none\" points=\"\n",
       "  1266.71,1487.47 1266.71,47.2441 \n",
       "  \"/>\n",
       "<polyline clip-path=\"url(#clip1002)\" style=\"stroke:#000000; stroke-width:2; stroke-opacity:0.1; fill:none\" points=\"\n",
       "  1778.99,1487.47 1778.99,47.2441 \n",
       "  \"/>\n",
       "<polyline clip-path=\"url(#clip1002)\" style=\"stroke:#000000; stroke-width:2; stroke-opacity:0.1; fill:none\" points=\"\n",
       "  2291.28,1487.47 2291.28,47.2441 \n",
       "  \"/>\n",
       "<polyline clip-path=\"url(#clip1002)\" style=\"stroke:#000000; stroke-width:2; stroke-opacity:0.1; fill:none\" points=\"\n",
       "  180.66,1472.06 2352.76,1472.06 \n",
       "  \"/>\n",
       "<polyline clip-path=\"url(#clip1002)\" style=\"stroke:#000000; stroke-width:2; stroke-opacity:0.1; fill:none\" points=\"\n",
       "  180.66,1119.71 2352.76,1119.71 \n",
       "  \"/>\n",
       "<polyline clip-path=\"url(#clip1002)\" style=\"stroke:#000000; stroke-width:2; stroke-opacity:0.1; fill:none\" points=\"\n",
       "  180.66,767.359 2352.76,767.359 \n",
       "  \"/>\n",
       "<polyline clip-path=\"url(#clip1002)\" style=\"stroke:#000000; stroke-width:2; stroke-opacity:0.1; fill:none\" points=\"\n",
       "  180.66,415.007 2352.76,415.007 \n",
       "  \"/>\n",
       "<polyline clip-path=\"url(#clip1002)\" style=\"stroke:#000000; stroke-width:2; stroke-opacity:0.1; fill:none\" points=\"\n",
       "  180.66,62.6554 2352.76,62.6554 \n",
       "  \"/>\n",
       "<polyline clip-path=\"url(#clip1000)\" style=\"stroke:#000000; stroke-width:4; stroke-opacity:1; fill:none\" points=\"\n",
       "  180.66,1487.47 2352.76,1487.47 \n",
       "  \"/>\n",
       "<polyline clip-path=\"url(#clip1000)\" style=\"stroke:#000000; stroke-width:4; stroke-opacity:1; fill:none\" points=\"\n",
       "  180.66,1487.47 180.66,47.2441 \n",
       "  \"/>\n",
       "<polyline clip-path=\"url(#clip1000)\" style=\"stroke:#000000; stroke-width:4; stroke-opacity:1; fill:none\" points=\"\n",
       "  242.135,1487.47 242.135,1465.87 \n",
       "  \"/>\n",
       "<polyline clip-path=\"url(#clip1000)\" style=\"stroke:#000000; stroke-width:4; stroke-opacity:1; fill:none\" points=\"\n",
       "  754.421,1487.47 754.421,1465.87 \n",
       "  \"/>\n",
       "<polyline clip-path=\"url(#clip1000)\" style=\"stroke:#000000; stroke-width:4; stroke-opacity:1; fill:none\" points=\"\n",
       "  1266.71,1487.47 1266.71,1465.87 \n",
       "  \"/>\n",
       "<polyline clip-path=\"url(#clip1000)\" style=\"stroke:#000000; stroke-width:4; stroke-opacity:1; fill:none\" points=\"\n",
       "  1778.99,1487.47 1778.99,1465.87 \n",
       "  \"/>\n",
       "<polyline clip-path=\"url(#clip1000)\" style=\"stroke:#000000; stroke-width:4; stroke-opacity:1; fill:none\" points=\"\n",
       "  2291.28,1487.47 2291.28,1465.87 \n",
       "  \"/>\n",
       "<polyline clip-path=\"url(#clip1000)\" style=\"stroke:#000000; stroke-width:4; stroke-opacity:1; fill:none\" points=\"\n",
       "  180.66,1472.06 213.242,1472.06 \n",
       "  \"/>\n",
       "<polyline clip-path=\"url(#clip1000)\" style=\"stroke:#000000; stroke-width:4; stroke-opacity:1; fill:none\" points=\"\n",
       "  180.66,1119.71 213.242,1119.71 \n",
       "  \"/>\n",
       "<polyline clip-path=\"url(#clip1000)\" style=\"stroke:#000000; stroke-width:4; stroke-opacity:1; fill:none\" points=\"\n",
       "  180.66,767.359 213.242,767.359 \n",
       "  \"/>\n",
       "<polyline clip-path=\"url(#clip1000)\" style=\"stroke:#000000; stroke-width:4; stroke-opacity:1; fill:none\" points=\"\n",
       "  180.66,415.007 213.242,415.007 \n",
       "  \"/>\n",
       "<polyline clip-path=\"url(#clip1000)\" style=\"stroke:#000000; stroke-width:4; stroke-opacity:1; fill:none\" points=\"\n",
       "  180.66,62.6554 213.242,62.6554 \n",
       "  \"/>\n",
       "<g clip-path=\"url(#clip1000)\">\n",
       "<text style=\"fill:#000000; fill-opacity:1; font-family:Arial,Helvetica Neue,Helvetica,sans-serif; font-size:48px; text-anchor:middle;\" transform=\"rotate(0, 242.135, 1541.47)\" x=\"242.135\" y=\"1541.47\">-4</text>\n",
       "</g>\n",
       "<g clip-path=\"url(#clip1000)\">\n",
       "<text style=\"fill:#000000; fill-opacity:1; font-family:Arial,Helvetica Neue,Helvetica,sans-serif; font-size:48px; text-anchor:middle;\" transform=\"rotate(0, 754.421, 1541.47)\" x=\"754.421\" y=\"1541.47\">-2</text>\n",
       "</g>\n",
       "<g clip-path=\"url(#clip1000)\">\n",
       "<text style=\"fill:#000000; fill-opacity:1; font-family:Arial,Helvetica Neue,Helvetica,sans-serif; font-size:48px; text-anchor:middle;\" transform=\"rotate(0, 1266.71, 1541.47)\" x=\"1266.71\" y=\"1541.47\">0</text>\n",
       "</g>\n",
       "<g clip-path=\"url(#clip1000)\">\n",
       "<text style=\"fill:#000000; fill-opacity:1; font-family:Arial,Helvetica Neue,Helvetica,sans-serif; font-size:48px; text-anchor:middle;\" transform=\"rotate(0, 1778.99, 1541.47)\" x=\"1778.99\" y=\"1541.47\">2</text>\n",
       "</g>\n",
       "<g clip-path=\"url(#clip1000)\">\n",
       "<text style=\"fill:#000000; fill-opacity:1; font-family:Arial,Helvetica Neue,Helvetica,sans-serif; font-size:48px; text-anchor:middle;\" transform=\"rotate(0, 2291.28, 1541.47)\" x=\"2291.28\" y=\"1541.47\">4</text>\n",
       "</g>\n",
       "<g clip-path=\"url(#clip1000)\">\n",
       "<text style=\"fill:#000000; fill-opacity:1; font-family:Arial,Helvetica Neue,Helvetica,sans-serif; font-size:48px; text-anchor:end;\" transform=\"rotate(0, 156.66, 1489.56)\" x=\"156.66\" y=\"1489.56\">0.00</text>\n",
       "</g>\n",
       "<g clip-path=\"url(#clip1000)\">\n",
       "<text style=\"fill:#000000; fill-opacity:1; font-family:Arial,Helvetica Neue,Helvetica,sans-serif; font-size:48px; text-anchor:end;\" transform=\"rotate(0, 156.66, 1137.21)\" x=\"156.66\" y=\"1137.21\">0.25</text>\n",
       "</g>\n",
       "<g clip-path=\"url(#clip1000)\">\n",
       "<text style=\"fill:#000000; fill-opacity:1; font-family:Arial,Helvetica Neue,Helvetica,sans-serif; font-size:48px; text-anchor:end;\" transform=\"rotate(0, 156.66, 784.859)\" x=\"156.66\" y=\"784.859\">0.50</text>\n",
       "</g>\n",
       "<g clip-path=\"url(#clip1000)\">\n",
       "<text style=\"fill:#000000; fill-opacity:1; font-family:Arial,Helvetica Neue,Helvetica,sans-serif; font-size:48px; text-anchor:end;\" transform=\"rotate(0, 156.66, 432.507)\" x=\"156.66\" y=\"432.507\">0.75</text>\n",
       "</g>\n",
       "<g clip-path=\"url(#clip1000)\">\n",
       "<text style=\"fill:#000000; fill-opacity:1; font-family:Arial,Helvetica Neue,Helvetica,sans-serif; font-size:48px; text-anchor:end;\" transform=\"rotate(0, 156.66, 80.1554)\" x=\"156.66\" y=\"80.1554\">1.00</text>\n",
       "</g>\n",
       "<polyline clip-path=\"url(#clip1002)\" style=\"stroke:#009af9; stroke-width:4; stroke-opacity:1; fill:none\" points=\"\n",
       "  242.135,1446.71 267.749,1444.1 293.363,1441.22 318.978,1438.06 344.592,1434.58 370.206,1430.75 395.821,1426.55 421.435,1421.93 447.049,1416.86 472.664,1411.31 \n",
       "  498.278,1405.22 523.892,1398.56 549.507,1391.27 575.121,1383.31 600.735,1374.62 626.35,1365.15 651.964,1354.84 677.578,1343.63 703.193,1331.47 728.807,1318.3 \n",
       "  754.421,1304.06 780.036,1288.69 805.65,1272.14 831.264,1254.36 856.879,1235.31 882.493,1214.95 908.107,1193.26 933.722,1170.22 959.336,1145.82 984.95,1120.08 \n",
       "  1010.56,1093.02 1036.18,1064.67 1061.79,1035.11 1087.41,1004.4 1113.02,972.649 1138.64,939.955 1164.25,906.451 1189.87,872.279 1215.48,837.596 1241.09,802.565 \n",
       "  1266.71,767.359 1292.32,732.154 1317.94,697.123 1343.55,662.44 1369.17,628.268 1394.78,594.764 1420.39,562.07 1446.01,530.314 1471.62,499.608 1497.24,470.046 \n",
       "  1522.85,441.704 1548.47,414.641 1574.08,388.898 1599.69,364.501 1625.31,341.459 1650.92,319.767 1676.54,299.41 1702.15,280.36 1727.77,262.581 1753.38,246.031 \n",
       "  1778.99,230.661 1804.61,216.417 1830.22,203.245 1855.84,191.085 1881.45,179.88 1907.07,169.571 1932.68,160.1 1958.3,151.411 1983.91,143.449 2009.52,136.161 \n",
       "  2035.14,129.498 2060.75,123.411 2086.37,117.856 2111.98,112.79 2137.6,108.173 2163.21,103.968 2188.82,100.141 2214.44,96.6602 2240.05,93.4951 2265.67,90.6185 \n",
       "  2291.28,88.0053 \n",
       "  \"/>\n",
       "<polygon clip-path=\"url(#clip1000)\" points=\"\n",
       "1989.93,251.724 2280.76,251.724 2280.76,130.764 1989.93,130.764 \n",
       "  \" fill=\"#ffffff\" fill-rule=\"evenodd\" fill-opacity=\"1\"/>\n",
       "<polyline clip-path=\"url(#clip1000)\" style=\"stroke:#000000; stroke-width:4; stroke-opacity:1; fill:none\" points=\"\n",
       "  1989.93,251.724 2280.76,251.724 2280.76,130.764 1989.93,130.764 1989.93,251.724 \n",
       "  \"/>\n",
       "<polyline clip-path=\"url(#clip1000)\" style=\"stroke:#009af9; stroke-width:4; stroke-opacity:1; fill:none\" points=\"\n",
       "  2013.93,191.244 2157.93,191.244 \n",
       "  \"/>\n",
       "<g clip-path=\"url(#clip1000)\">\n",
       "<text style=\"fill:#000000; fill-opacity:1; font-family:Arial,Helvetica Neue,Helvetica,sans-serif; font-size:48px; text-anchor:start;\" transform=\"rotate(0, 2181.93, 208.744)\" x=\"2181.93\" y=\"208.744\">y1</text>\n",
       "</g>\n",
       "</svg>\n"
      ]
     },
     "execution_count": 31,
     "metadata": {},
     "output_type": "execute_result"
    }
   ],
   "source": [
    "theta = collect(-4:0.1:4)\n",
    "icc = zeros(length(theta))\n",
    "for i in 1:length(theta)\n",
    "    icc[i] = icc2pl(theta[i], 1.0, 0.0)\n",
    "end\n",
    "plot(theta, icc)"
   ]
  },
  {
   "cell_type": "markdown",
   "metadata": {},
   "source": [
    "ｘ軸が右に行けば行くほど，ある問題への正答確率が高くなる様なモデルを考える。このときαは項目が持つ能力の識別性能の高さを，βは項目自体の難しさを表していると考える。ここら辺は項目反応理論でググってみてください。今回は割愛します。"
   ]
  },
  {
   "cell_type": "code",
   "execution_count": 40,
   "metadata": {},
   "outputs": [
    {
     "data": {
      "text/plain": [
       "resgen_bin (generic function with 1 method)"
      ]
     },
     "execution_count": 40,
     "metadata": {},
     "output_type": "execute_result"
    }
   ],
   "source": [
    "struct simgenClass2\n",
    "    resp::Array{Int64,2}\n",
    "    θ::Array{Float64,1}\n",
    "    α::Array{Float64,1}\n",
    "    β::Array{Float64,1}\n",
    "end\n",
    "\n",
    "function resgen_bin(N::Int, J::Int)\n",
    "    θ = rand(Normal(), N)\n",
    "    α = rand(LogNormal(), J)\n",
    "    β = rand(Normal(-1, 1), J)\n",
    "    resp = zeros(Int64, length(θ), length(α))\n",
    "    for i in 1:length(θ)\n",
    "        for j in 1:length(α)\n",
    "            resp[i, j] = ifelse(rand() > icc2pl(θ[i], α[j], β[j]), 0, 1)\n",
    "        end\n",
    "    end\n",
    "    simgenClass2(resp, θ, α, β)\n",
    "end"
   ]
  },
  {
   "cell_type": "markdown",
   "metadata": {},
   "source": [
    "擬似的な項目反応データを生成する。50000人分のデータを生成するのだが，ここの時点ですでに高速すぎてちびった。"
   ]
  },
  {
   "cell_type": "code",
   "execution_count": 43,
   "metadata": {},
   "outputs": [
    {
     "name": "stdout",
     "output_type": "stream",
     "text": [
      "  0.058579 seconds (2.76 k allocations: 19.498 MiB)\n"
     ]
    },
    {
     "data": {
      "text/plain": [
       "simgenClass2([1 0 … 1 1; 1 1 … 1 0; … ; 1 0 … 1 1; 1 1 … 1 1], [0.16099, -0.678808, 0.457395, 0.453073, 0.310874, -0.822951, 0.271002, -0.147871, -0.999116, -0.363523  …  -0.105797, -0.830859, -1.21541, 0.845631, 1.39459, 1.44449, -0.388785, -0.618865, -0.943425, -1.17293], [0.54494, 1.71906, 1.12542, 0.595063, 1.03782, 0.489053, 2.05296, 0.37631, 2.78794, 1.79084  …  2.1822, 0.694498, 1.18709, 0.946057, 6.65905, 3.11907, 0.286872, 1.02368, 1.53182, 0.488699], [-3.1403, -0.49488, 0.362954, -1.3816, -0.371558, -2.09085, -0.268813, -0.417073, -0.937248, 0.857298  …  -1.16759, -2.57849, -0.454556, -1.75791, -1.05828, 0.40001, -0.331622, -1.17879, -1.81634, -1.33322])"
      ]
     },
     "execution_count": 43,
     "metadata": {},
     "output_type": "execute_result"
    }
   ],
   "source": [
    "N = 50_000\n",
    "J = 50\n",
    "@time resgen_bin(N, J)"
   ]
  },
  {
   "cell_type": "markdown",
   "metadata": {},
   "source": [
    "尤度関数の周辺化を数値的に近似するための関数。"
   ]
  },
  {
   "cell_type": "code",
   "execution_count": 44,
   "metadata": {},
   "outputs": [
    {
     "data": {
      "text/plain": [
       "Estep (generic function with 1 method)"
      ]
     },
     "execution_count": 44,
     "metadata": {},
     "output_type": "execute_result"
    }
   ],
   "source": [
    "struct EstepClass2\n",
    "    resp::Array{Int64,2}\n",
    "    θ::Array{Float64,1}\n",
    "    α::Array{Float64,1}\n",
    "    β::Array{Float64,1}\n",
    "    Gim::Array{Float64,2}\n",
    "    Lim::Array{Float64,2}\n",
    "end\n",
    "\n",
    "function Estep(N::Int, J::Int, M::Int)\n",
    "    by = (4-(-4))/M\n",
    "    xq = collect(-4:by:4)\n",
    "    aq = pdf.(Normal(), xq) ./ sum(pdf.(Normal(), xq))\n",
    "    L = zeros(N, length(xq))\n",
    "    Gim = zeros(N, length(xq))\n",
    "    # sim data gen\n",
    "    resp = resgen_bin(N, J)\n",
    "    x = resp.resp\n",
    "    α = resp.α\n",
    "    β = resp.β\n",
    "    for m in 1:M\n",
    "        println(\"NOW...\", m)\n",
    "        for i in 1:N\n",
    "            Li = zeros(J)\n",
    "            for j in 1:J\n",
    "                Li[j] = ifelse(x[i, j] == 1, icc2pl(xq[m], α[j], β[j]), 1 - icc2pl(xq[m], α[j], β[j]))\n",
    "            end\n",
    "            L[i, m] = prod(Li)\n",
    "            Gim[i,m] = L[i,m] * aq[m]\n",
    "        end\n",
    "        if(m == length(xq))\n",
    "            for i in 1:N\n",
    "                Gim[i,m] = Gim[i,m]/sum(Gim[i,:])\n",
    "            end\n",
    "        end\n",
    "    end\n",
    "    EstepClass2(x, θ, α, β, Gim, L)\n",
    "end"
   ]
  },
  {
   "cell_type": "code",
   "execution_count": 36,
   "metadata": {},
   "outputs": [
    {
     "name": "stdout",
     "output_type": "stream",
     "text": [
      "NOW...1\n",
      "NOW...2\n",
      "NOW...3\n",
      "NOW...4\n",
      "NOW...5\n",
      "NOW...6\n",
      "NOW...7\n",
      "NOW...8\n",
      "NOW...9\n",
      "NOW...10\n",
      "NOW...11\n",
      "NOW...12\n",
      "NOW...13\n",
      "NOW...14\n",
      "NOW...15\n",
      "NOW...16\n",
      "NOW...17\n",
      "NOW...18\n",
      "NOW...19\n",
      "NOW...20\n",
      "NOW...21\n",
      "NOW...22\n",
      "NOW...23\n",
      "NOW...24\n",
      "NOW...25\n",
      "NOW...26\n",
      "NOW...27\n",
      "NOW...28\n",
      "NOW...29\n",
      "NOW...30\n",
      "  2.762779 seconds (1.63 M allocations: 758.630 MiB, 5.04% gc time)\n"
     ]
    },
    {
     "data": {
      "text/plain": [
       "EstepClass2([1 1 … 1 1; 1 1 … 1 1; … ; 1 1 … 1 1; 1 1 … 1 1], [-0.37216, 0.394744, 1.0254, 0.0571423, 0.80871, 1.02205, -0.383376, 0.114626, -1.59855, 0.249076  …  -0.107049, -0.35597, -0.0211458, 0.996935, -0.308854, 0.345422, 0.31834, 0.709949, -2.01223, 0.0424107], [1.48159, 0.932297, 0.811575, 1.59753, 0.855244, 4.2433, 4.43223, 0.439847, 0.461096, 0.905005  …  0.844219, 0.930126, 1.04635, 0.751366, 2.10459, 13.2816, 0.122729, 0.491111, 0.493516, 1.50265], [-1.54179, -1.3377, -1.79193, -1.00404, -1.69861, -0.991398, -1.41818, -1.01052, -0.331266, -1.77651  …  -1.16776, -3.63493, -1.86877, -0.332499, -0.855854, -0.140566, -2.58158, -2.59735, -1.43972, -2.08783], [2.99803e-119 4.0408e-110 … 6.50739e-14 0.0; 1.32238e-122 3.53826e-113 … 1.24229e-8 0.0; … ; 2.26314e-115 1.33017e-106 … 1.73261e-20 0.0; 2.79725e-57 3.96453e-52 … 0.0 0.0], [8.40037e-115 4.0376e-106 … 6.50224e-10 0.0; 3.70526e-118 3.53546e-109 … 0.00012413 0.0; … ; 6.34123e-111 1.32912e-102 … 1.73124e-16 0.0; 7.8378e-53 3.96139e-48 … 0.0 0.0])"
      ]
     },
     "execution_count": 36,
     "metadata": {},
     "output_type": "execute_result"
    }
   ],
   "source": [
    "@time Estep(50000, 50, 30)"
   ]
  },
  {
   "cell_type": "markdown",
   "metadata": {},
   "source": [
    "今度は関数化しないバージョン。最初にこちらのバージョンを走らせていて，「Juliaたいしたことねーな。」とか思っていたことは秘密。"
   ]
  },
  {
   "cell_type": "code",
   "execution_count": 39,
   "metadata": {},
   "outputs": [
    {
     "name": "stdout",
     "output_type": "stream",
     "text": [
      "NOW...1\n",
      "NOW...2\n",
      "NOW...3\n",
      "NOW...4\n",
      "NOW...5\n",
      "NOW...6\n",
      "NOW...7\n",
      "NOW...8\n",
      "NOW...9\n",
      "NOW...10\n",
      "NOW...11\n",
      "NOW...12\n",
      "NOW...13\n",
      "NOW...14\n",
      "NOW...15\n",
      "NOW...16\n",
      "NOW...17\n",
      "NOW...18\n",
      "NOW...19\n",
      "NOW...20\n",
      "NOW...21\n",
      "NOW...22\n",
      "NOW...23\n",
      "NOW...24\n",
      "NOW...25\n",
      "NOW...26\n",
      "NOW...27\n",
      "NOW...28\n",
      "NOW...29\n",
      "NOW...30\n",
      " 23.034723 seconds (613.47 M allocations: 10.975 GiB, 4.70% gc time)\n"
     ]
    }
   ],
   "source": [
    "N = 50_000\n",
    "J = 50\n",
    "M = 30\n",
    "by = (4-(-4))/M\n",
    "xq = collect(-4:by:4)\n",
    "aq = pdf.(Normal(), xq) ./ sum(pdf.(Normal(), xq))\n",
    "L = zeros(N, length(xq))\n",
    "Gim = zeros(N, length(xq))\n",
    "# sim data gen\n",
    "resp = resgen_bin(N, J)\n",
    "x = resp.resp\n",
    "α = resp.α\n",
    "β = resp.β\n",
    "@time for m in 1:M\n",
    "    println(\"NOW...\", m)\n",
    "    for i in 1:N\n",
    "        Li = zeros(J)\n",
    "        for j in 1:J\n",
    "            Li[j] = ifelse(x[i, j] == 1, icc2pl(xq[m], α[j], β[j]), 1 - icc2pl(xq[m], α[j], β[j]))\n",
    "        end\n",
    "        L[i, m] = prod(Li)\n",
    "        Gim[i,m] = L[i,m] * aq[m]\n",
    "    end\n",
    "    if(m == length(xq))\n",
    "        for i in 1:N\n",
    "            Gim[i,m] = Gim[i,m]/sum(Gim[i,:])\n",
    "        end\n",
    "    end\n",
    "end"
   ]
  },
  {
   "cell_type": "markdown",
   "metadata": {},
   "source": [
    "以上，Juliaでfor loopをいっぱい回すときは，関数にすることを心がけましょう。"
   ]
  },
  {
   "cell_type": "code",
   "execution_count": null,
   "metadata": {},
   "outputs": [],
   "source": []
  }
 ],
 "metadata": {
  "kernelspec": {
   "display_name": "Julia 1.1.0",
   "language": "julia",
   "name": "julia-1.1"
  },
  "language_info": {
   "file_extension": ".jl",
   "mimetype": "application/julia",
   "name": "julia",
   "version": "1.1.0"
  }
 },
 "nbformat": 4,
 "nbformat_minor": 2
}

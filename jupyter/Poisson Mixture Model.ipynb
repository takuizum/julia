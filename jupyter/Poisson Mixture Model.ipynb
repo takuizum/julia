{
 "cells": [
  {
   "cell_type": "markdown",
   "metadata": {},
   "source": [
    "# ポアソン混合モデルを実装する\n",
    "\n",
    "ネットに頼ればJulia完全理解者がより速いコードを教えてくれるらしいので，Juliaでポアソン混合モデルを実装してみました。\n",
    "\n",
    "須山さんの「ベイズ推論による機械学習」の第4章です。\n",
    "\n",
    "変分推論の勉強中だったのでGibbs SamplingではなくVariational Bayesです。というか個人的にDeterministicな方法が好きなので，変分推論です。\n",
    "\n",
    "一部だけ須山さんの[サポートページ](https://github.com/sammy-suyama/BayesBook/blob/master/src/PoissonMixtureModel.jl)のコードを参考にしています。"
   ]
  },
  {
   "cell_type": "code",
   "execution_count": null,
   "metadata": {},
   "outputs": [],
   "source": []
  }
 ],
 "metadata": {
  "kernelspec": {
   "display_name": "Julia 1.1.1",
   "language": "julia",
   "name": "julia-1.1"
  },
  "language_info": {
   "file_extension": ".jl",
   "mimetype": "application/julia",
   "name": "julia",
   "version": "1.1.1"
  }
 },
 "nbformat": 4,
 "nbformat_minor": 2
}
